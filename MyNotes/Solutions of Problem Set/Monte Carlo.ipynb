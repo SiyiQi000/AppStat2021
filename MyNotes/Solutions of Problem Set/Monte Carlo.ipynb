{
 "cells": [
  {
   "cell_type": "markdown",
   "id": "cc53d182",
   "metadata": {},
   "source": [
    "## Problem 3: \n",
    "\n",
    "#### Produce random points following $h(x) \\sim \\exp(-x/3)\\cos(x)^2$ in the interval $[0, \\infty]$ and estimate the integral of $h(x)$ in the defined range.\n",
    "\n",
    "*Solution Example to Problem 3*:<br>\n",
    "\n",
    "This is a harder problem than the two above. The function can neither be integrated and then inverted nor bounded in $x$. Therefore, one has to combine the two methods. First, we want to generate numbers according to __\"a smart box\"__, i.e. with a function that covers $h(x)$, i.e. is always greater than $h(x)$ and can be produced using the transformation method. In our case, the exponential function $k(x) = 1/3 \\exp(-x/3)$ serves the purpose very well.\n",
    "\n",
    "We thus draw $x$-values from $k(x)$ (transformation method) and accept the $x$-value if a random value $y$ (chosen between 0 and $k(x)$ falls below the functional value of $h(x)$ at the chosen $x$-value (accept/reject)."
   ]
  },
  {
   "cell_type": "code",
   "execution_count": 78,
   "id": "745f53d1",
   "metadata": {},
   "outputs": [],
   "source": [
    "import numpy as np                                     # Matlab like syntax for linear algebra and functions\n",
    "import matplotlib.pyplot as plt                        # Plots and figures like you know them from Matlab\n",
    "import seaborn as sns                                  # Make the plots nicer to look at\n",
    "from iminuit import Minuit                             # The actual fitting tool, better than scipy's\n",
    "import sys                                             # Modules to see files and folders in directories\n",
    "from scipy import stats"
   ]
  },
  {
   "cell_type": "code",
   "execution_count": 79,
   "id": "e1f4e26f",
   "metadata": {},
   "outputs": [],
   "source": [
    "sys.path.append('D:\\my github\\Siyi Applied Stats\\Documents for JN\\AppStat2021-main\\External_Functions\\\\')\n",
    "from ExternalFunctions import Chi2Regression, BinnedLH, UnbinnedLH\n",
    "from ExternalFunctions import nice_string_output, add_text_to_ax    # Useful functions to print fit results on figure\n",
    "\n",
    "plt.rcParams['font.size'] = 18     # Set some basic plotting parameters"
   ]
  },
  {
   "cell_type": "code",
   "execution_count": 80,
   "id": "4bfeb669",
   "metadata": {},
   "outputs": [],
   "source": [
    "r = np.random\n",
    "r.seed(42)\n",
    "\n",
    "save_plots = False  \n",
    "N_points = 10000    # Number of random points to be generated"
   ]
  },
  {
   "cell_type": "code",
   "execution_count": 81,
   "id": "530c814e",
   "metadata": {},
   "outputs": [],
   "source": [
    "x_exp1 = -0.8*np.log(r.uniform(size=N_points))\n"
   ]
  },
  {
   "cell_type": "code",
   "execution_count": 82,
   "id": "57fd552b",
   "metadata": {
    "scrolled": false
   },
   "outputs": [
    {
     "data": {
      "text/plain": [
       "'\\n# f(x)\\ndef exp_func(x) :\\n    # Normalization is N_points * binwidth:\\n    k = (xmax - xmin) / Nbins\\n    N = N_points * k\\n    return N * 1/0.8 * np.exp(-x/0.8)\\n\\n# Define a reasonable range to plot in:\\nxmin = 0\\nxmax = 20\\nNbins = 100\\n\\nfig, ax = plt.subplots(figsize=(15, 9))\\nax.hist(x_exp, bins=Nbins, range=(xmin, xmax), histtype=\\'step\\', label=\\'Histogram (generated)\\' )\\nax.set(xlabel=\"x - following f(x)\", ylabel=\"Frequency / 0.2\", xlim=(xmin-1.0, xmax+1.0))\\n\\n# Plot f(x)\\nx_axis1 = np.linspace(xmin, xmax, 1000)\\ny_axis1 = exp_func(x_axis1)\\nax.plot(x_axis1, y_axis1, \\'r-\\', label=\\'Function (not fitted)\\')\\n\\n# Define figure text\\nd = {\\'Entries\\': len(x_exp),\\n     \\'Mean\\': x_exp.mean(),\\n     \\'Std\\': x_exp.std(ddof=1),\\n    }\\n\\n# Plot figure text\\ntext = nice_string_output(d, extra_spacing=2, decimals=3)\\nadd_text_to_ax(0.15, 0.97, text, ax, fontsize=14)\\n\\n# Add legend\\nax.legend(loc=\\'best\\')\\nfig.tight_layout()\\n\\n# Save figure\\nif save_plots: \\n    fig.savefig(\"HistAndFunc_exp.pdf\", dpi=600)\\n'"
      ]
     },
     "execution_count": 82,
     "metadata": {},
     "output_type": "execute_result"
    }
   ],
   "source": [
    "\n",
    "# f(x)\n",
    "def exp_func(x) :\n",
    "    # Normalization is N_points * binwidth:\n",
    "    k = (xmax - xmin) / Nbins\n",
    "    N = N_points * k\n",
    "    return N * 1/0.8 * np.exp(-x/0.8)\n",
    "\n",
    "# Define a reasonable range to plot in:\n",
    "xmin = 0\n",
    "xmax = 20\n",
    "Nbins = 100\n",
    "\n",
    "'''\n",
    "# plot sum\n",
    "fig, ax = plt.subplots(figsize=(15, 9))\n",
    "ax.hist(x_exp, bins=Nbins, range=(xmin, xmax), histtype='step', label='Histogram (generated)' )\n",
    "ax.set(xlabel=\"x - following f(x)\", ylabel=\"Frequency / 0.2\", xlim=(xmin-1.0, xmax+1.0))\n",
    "\n",
    "# Plot f(x)\n",
    "x_axis1 = np.linspace(xmin, xmax, 1000)\n",
    "y_axis1 = exp_func(x_axis1)\n",
    "ax.plot(x_axis1, y_axis1, 'r-', label='Function (not fitted)')\n",
    "\n",
    "# Define figure text\n",
    "d = {'Entries': len(x_exp),\n",
    "     'Mean': x_exp.mean(),\n",
    "     'Std': x_exp.std(ddof=1),\n",
    "    }\n",
    "\n",
    "# Plot figure text\n",
    "text = nice_string_output(d, extra_spacing=2, decimals=3)\n",
    "add_text_to_ax(0.15, 0.97, text, ax, fontsize=14)\n",
    "\n",
    "# Add legend\n",
    "ax.legend(loc='best')\n",
    "fig.tight_layout()\n",
    "\n",
    "# Save figure\n",
    "if save_plots: \n",
    "    fig.savefig(\"HistAndFunc_exp.pdf\", dpi=600)\n",
    "'''"
   ]
  }
 ],
 "metadata": {
  "kernelspec": {
   "display_name": "Python 3 (ipykernel)",
   "language": "python",
   "name": "python3"
  },
  "language_info": {
   "codemirror_mode": {
    "name": "ipython",
    "version": 3
   },
   "file_extension": ".py",
   "mimetype": "text/x-python",
   "name": "python",
   "nbconvert_exporter": "python",
   "pygments_lexer": "ipython3",
   "version": "3.9.7"
  }
 },
 "nbformat": 4,
 "nbformat_minor": 5
}
