{
 "cells": [
  {
   "cell_type": "code",
   "execution_count": 1,
   "metadata": {},
   "outputs": [],
   "source": [
    "import numpy as np                                     # Matlab like syntax for linear algebra and functions\n",
    "import matplotlib.pyplot as plt                        # Plots and figures like you know them from Matlab\n",
    "import seaborn as sns                                  # Make the plots nicer to look at\n",
    "from iminuit import Minuit                             # The actual fitting tool, better than scipy's\n",
    "import sys                                             # Modules to see files and folders in directories\n",
    "import random\n",
    "from skimage import io\n",
    "import numpy as np\n",
    "from scipy import stats\n",
    "from scipy import optimize"
   ]
  },
  {
   "cell_type": "code",
   "execution_count": 2,
   "metadata": {},
   "outputs": [],
   "source": [
    "sys.path.append('D:\\my github\\Siyi Applied Stats\\Documents for JN\\AppStat2021-main\\External_Functions\\\\')\n",
    "from ExternalFunctions import Chi2Regression\n",
    "from ExternalFunctions import nice_string_output, add_text_to_ax # useful functions to print fit results on figure"
   ]
  },
  {
   "cell_type": "code",
   "execution_count": 3,
   "metadata": {},
   "outputs": [
    {
     "data": {
      "text/plain": [
       "\"\\n#题目1.1（2）\\ndef R():\\n    my_num = random.randint(1, 6)\\n    return my_num\\n\\nN = 100000  # 掷骰子次数10,000,000 因为太卡这里只写了100,000\\ndouble_num_list = [0]  # 初始化记录次数的列表\\ndouble_value_list = [0] * N  # 初始化记录历次结果的列表\\njudge_num_list = [0]  # 初始化记录次数的列表\\nvalue1_list = [0] * N  # 初始化记录历次结果的列表\\nvalue2_list = [0] * N  # 初始化记录历次结果的列表\\nvalue3_list = [0] * N  \\nvalue4_list = [0] * N  \\nvalue5_list = [0] * N  \\nvalue6_list = [0] * N  \\nvalue7_list = [0] * N  \\nvalue8_list = [0] * N \\nvalue9_list = [0] * N \\nvalue10_list = [0] * N  \\nvalue11_list = [0] * N \\nvalue12_list = [0] * N \\nvalue13_list = [0] * N \\nvalue14_list = [0] * N  \\nvalue15_list = [0] * N  \\nvalue16_list = [0] * N  \\nvalue17_list = [0] * N  \\nvalue18_list = [0] * N  \\nvalue19_list = [0] * N \\nvalue20_list = [0] * N  \\nfor i in range(1, N+1):\\n    value1_list[i-1] = R() #骰子1\\n    value2_list[i-1] = R() #骰子2\\n    value3_list[i-1] = R() \\n    value4_list[i-1] = R() \\n    value5_list[i-1] = R() \\n    value6_list[i-1] = R() \\n    value7_list[i-1] = R() \\n    value8_list[i-1] = R() \\n    value9_list[i-1] = R() \\n    value10_list[i-1] = R() \\n    value11_list[i-1] = R() \\n    value12_list[i-1] = R() \\n    value13_list[i-1] = R() \\n    value14_list[i-1] = R() \\n    value15_list[i-1] = R() \\n    value16_list[i-1] = R() \\n    value17_list[i-1] = R() \\n    value18_list[i-1] = R() \\n    value19_list[i-1] = R() \\n    value20_list[i-1] = R() \\n# double_value_list[i-1] = value1_list[i-1]+value2_list[i-1] #求和\\n    for j in range(3,4):\\n        if value1_list[i-1] == j:\\n            double_num_list[0] += 1\\n        if value2_list[i-1] == j:\\n            double_num_list[0] += 1  \\n        if value3_list[i-1] == j:\\n            double_num_list[0] += 1\\n        if value4_list[i-1] == j:\\n            double_num_list[0] += 1       \\n        if value5_list[i-1] == j:\\n            double_num_list[0] += 1\\n        if value6_list[i-1] == j:\\n            double_num_list[0] += 1       \\n        if value7_list[i-1] == j:\\n            double_num_list[0] += 1\\n        if value8_list[i-1] == j:\\n            double_num_list[0] += 1\\n        if value9_list[i-1] == j:\\n            double_num_list[0] += 1\\n        if value10_list[i-1] == j:\\n            double_num_list[0] += 1  \\n        if value11_list[i-1] == j:\\n            double_num_list[0] += 1\\n        if value12_list[i-1] == j:\\n            double_num_list[0] += 1       \\n        if value13_list[i-1] == j:\\n            double_num_list[0] += 1\\n        if value14_list[i-1] == j:\\n            double_num_list[0] += 1       \\n        if value15_list[i-1] == j:\\n            double_num_list[0] += 1\\n        if value16_list[i-1] == j:\\n            double_num_list[0] += 1  \\n        if value17_list[i-1] == j:\\n            double_num_list[0] += 1\\n        if value18_list[i-1] == j:\\n            double_num_list[0] += 1  \\n        if value19_list[i-1] == j:\\n            double_num_list[0] += 1\\n        if value20_list[i-1] == j:\\n            double_num_list[0] += 1\\n        if double_num_list[0] >= 7:\\n            judge_num_list[0] += 1\\n            double_num_list[0] = 0\\n        if double_num_list[0] < 7:\\n            double_num_list[0] = 0\\nfor x, num in enumerate(judge_num_list):  # 遍历列表索引值及各点数出现的次数\\n    print('点数%s的次数：%d，频率：%.4f' % (3, num, num / N))\\n\""
      ]
     },
     "execution_count": 3,
     "metadata": {},
     "output_type": "execute_result"
    }
   ],
   "source": [
    "'''\n",
    "#题目1.1（2）\n",
    "def R():\n",
    "    my_num = random.randint(1, 6)\n",
    "    return my_num\n",
    "\n",
    "N = 100000  # 掷骰子次数10,000,000 因为太卡这里只写了100,000\n",
    "double_num_list = [0]  # 初始化记录次数的列表\n",
    "double_value_list = [0] * N  # 初始化记录历次结果的列表\n",
    "judge_num_list = [0]  # 初始化记录次数的列表\n",
    "value1_list = [0] * N  # 初始化记录历次结果的列表\n",
    "value2_list = [0] * N  # 初始化记录历次结果的列表\n",
    "value3_list = [0] * N  \n",
    "value4_list = [0] * N  \n",
    "value5_list = [0] * N  \n",
    "value6_list = [0] * N  \n",
    "value7_list = [0] * N  \n",
    "value8_list = [0] * N \n",
    "value9_list = [0] * N \n",
    "value10_list = [0] * N  \n",
    "value11_list = [0] * N \n",
    "value12_list = [0] * N \n",
    "value13_list = [0] * N \n",
    "value14_list = [0] * N  \n",
    "value15_list = [0] * N  \n",
    "value16_list = [0] * N  \n",
    "value17_list = [0] * N  \n",
    "value18_list = [0] * N  \n",
    "value19_list = [0] * N \n",
    "value20_list = [0] * N  \n",
    "for i in range(1, N+1):\n",
    "    value1_list[i-1] = R() #骰子1\n",
    "    value2_list[i-1] = R() #骰子2\n",
    "    value3_list[i-1] = R() \n",
    "    value4_list[i-1] = R() \n",
    "    value5_list[i-1] = R() \n",
    "    value6_list[i-1] = R() \n",
    "    value7_list[i-1] = R() \n",
    "    value8_list[i-1] = R() \n",
    "    value9_list[i-1] = R() \n",
    "    value10_list[i-1] = R() \n",
    "    value11_list[i-1] = R() \n",
    "    value12_list[i-1] = R() \n",
    "    value13_list[i-1] = R() \n",
    "    value14_list[i-1] = R() \n",
    "    value15_list[i-1] = R() \n",
    "    value16_list[i-1] = R() \n",
    "    value17_list[i-1] = R() \n",
    "    value18_list[i-1] = R() \n",
    "    value19_list[i-1] = R() \n",
    "    value20_list[i-1] = R() \n",
    "# double_value_list[i-1] = value1_list[i-1]+value2_list[i-1] #求和\n",
    "    for j in range(3,4):\n",
    "        if value1_list[i-1] == j:\n",
    "            double_num_list[0] += 1\n",
    "        if value2_list[i-1] == j:\n",
    "            double_num_list[0] += 1  \n",
    "        if value3_list[i-1] == j:\n",
    "            double_num_list[0] += 1\n",
    "        if value4_list[i-1] == j:\n",
    "            double_num_list[0] += 1       \n",
    "        if value5_list[i-1] == j:\n",
    "            double_num_list[0] += 1\n",
    "        if value6_list[i-1] == j:\n",
    "            double_num_list[0] += 1       \n",
    "        if value7_list[i-1] == j:\n",
    "            double_num_list[0] += 1\n",
    "        if value8_list[i-1] == j:\n",
    "            double_num_list[0] += 1\n",
    "        if value9_list[i-1] == j:\n",
    "            double_num_list[0] += 1\n",
    "        if value10_list[i-1] == j:\n",
    "            double_num_list[0] += 1  \n",
    "        if value11_list[i-1] == j:\n",
    "            double_num_list[0] += 1\n",
    "        if value12_list[i-1] == j:\n",
    "            double_num_list[0] += 1       \n",
    "        if value13_list[i-1] == j:\n",
    "            double_num_list[0] += 1\n",
    "        if value14_list[i-1] == j:\n",
    "            double_num_list[0] += 1       \n",
    "        if value15_list[i-1] == j:\n",
    "            double_num_list[0] += 1\n",
    "        if value16_list[i-1] == j:\n",
    "            double_num_list[0] += 1  \n",
    "        if value17_list[i-1] == j:\n",
    "            double_num_list[0] += 1\n",
    "        if value18_list[i-1] == j:\n",
    "            double_num_list[0] += 1  \n",
    "        if value19_list[i-1] == j:\n",
    "            double_num_list[0] += 1\n",
    "        if value20_list[i-1] == j:\n",
    "            double_num_list[0] += 1\n",
    "        if double_num_list[0] >= 7:\n",
    "            judge_num_list[0] += 1\n",
    "            double_num_list[0] = 0\n",
    "        if double_num_list[0] < 7:\n",
    "            double_num_list[0] = 0\n",
    "for x, num in enumerate(judge_num_list):  # 遍历列表索引值及各点数出现的次数\n",
    "    print('点数%s的次数：%d，频率：%.4f' % (3, num, num / N))\n",
    "'''"
   ]
  },
  {
   "cell_type": "code",
   "execution_count": 4,
   "metadata": {},
   "outputs": [
    {
     "data": {
      "text/plain": [
       "'\\n# 题目1.2(1)\\nPCR_sum = 103261\\nPCR_p = 2464\\nAntiGen_sum = 26162\\nAntiGen_p = 491\\nFraction_PCR = PCR_p/PCR_sum\\nFraction_AntiGen = AntiGen_p/AntiGen_sum\\nprint(Fraction_PCR,Fraction_AntiGen)\\n'"
      ]
     },
     "execution_count": 4,
     "metadata": {},
     "output_type": "execute_result"
    }
   ],
   "source": [
    "'''\n",
    "# 题目1.2(1)\n",
    "PCR_sum = 103261\n",
    "PCR_p = 2464\n",
    "AntiGen_sum = 26162\n",
    "AntiGen_p = 491\n",
    "Fraction_PCR = PCR_p/PCR_sum\n",
    "Fraction_AntiGen = AntiGen_p/AntiGen_sum\n",
    "print(Fraction_PCR,Fraction_AntiGen)\n",
    "'''"
   ]
  },
  {
   "cell_type": "code",
   "execution_count": 5,
   "metadata": {},
   "outputs": [
    {
     "data": {
      "text/plain": [
       "'\\n# 题目1.2(2) 用test number算weighted mean\\nP_n = 103261\\nA_n = 26162\\nsum_PAn = P_n + A_n\\nw_P = P_n/sum_PAn\\nw_A = A_n/sum_PAn\\nP_r = 0.0239\\nA_r = 0.0188\\nw_mean = w_A*A_r + w_P*P_r\\nprint(w_mean)\\n\\n# 算uncertainty\\nP_sigma = np.sqrt((P_r - w_mean) ** 2 /1)\\nprint(P_sigma)\\nA_sigma = np.sqrt((A_r - w_mean) ** 2 /1)\\nprint(A_sigma)\\n'"
      ]
     },
     "execution_count": 5,
     "metadata": {},
     "output_type": "execute_result"
    }
   ],
   "source": [
    "'''\n",
    "# 题目1.2(2) 用test number算weighted mean\n",
    "P_n = 103261\n",
    "A_n = 26162\n",
    "sum_PAn = P_n + A_n\n",
    "w_P = P_n/sum_PAn\n",
    "w_A = A_n/sum_PAn\n",
    "P_r = 0.0239\n",
    "A_r = 0.0188\n",
    "w_mean = w_A*A_r + w_P*P_r\n",
    "print(w_mean)\n",
    "\n",
    "# 算uncertainty\n",
    "P_sigma = np.sqrt((P_r - w_mean) ** 2 /1)\n",
    "print(P_sigma)\n",
    "A_sigma = np.sqrt((A_r - w_mean) ** 2 /1)\n",
    "print(A_sigma)\n",
    "'''"
   ]
  },
  {
   "cell_type": "code",
   "execution_count": 6,
   "metadata": {},
   "outputs": [
    {
     "data": {
      "text/plain": [
       "'\\n# 题目1.2(2) 计算卡方\\nx = [0.0239,0.0188]\\ny = [0.001, 0.004]\\nz = 0\\nx1 = np.ones_like(x)\\n\\n# 用最小二乘法画出拟合直线\\n#def fit_function(x,b):\\n#    return b\\n#b1= optimize.curve_fit(fit_function,z,x)[0]  # 最小二乘法拟合 这里只能取一个mean，所以用了weighted mean，如下所示\\n\\nx1 = np.ones_like(x) * 0.0228  # x1是拟合值，x是观察值 这里用的是weighted mean\\nprint(x1)\\n\\n# 利用公式计算卡方\\nnp.set_printoptions(suppress = True)\\nNpoints = 2  # 2个样本\\nsum1 = np.zeros_like(x)\\nchi2 = np.zeros_like(x)\\nsigma2 = np.zeros_like(x)\\n\\nfor i in range(0,2):\\n    sum1[i] = (x[i]-x1[i])**2  # sum1是各项(观察值-拟合值)平方的数组\\nprint(sum1)\\n    \\nfor k in range(0,2):\\n    sigma2[k] = (y[k])**2 \\nprint(sigma2)\\n    \\nfor j in range(0,2):\\n    chi2[j] += sum1[j]/sigma2[j]  # 求各项chi2\\n\\nChi2_fit = np.sum(chi2)  # 求和求chi2\\nprint(Chi2_fit)\\n\\n# 求出可能性\\nNvar = 1\\nNdof_fit = Npoints - Nvar\\nProb_fit = stats.chi2.sf(Chi2_fit,Ndof_fit)\\nprint(Prob_fit)\\n'"
      ]
     },
     "execution_count": 6,
     "metadata": {},
     "output_type": "execute_result"
    }
   ],
   "source": [
    "'''\n",
    "# 题目1.2(2) 计算卡方\n",
    "x = [0.0239,0.0188]\n",
    "y = [0.001, 0.004]\n",
    "z = 0\n",
    "x1 = np.ones_like(x)\n",
    "\n",
    "# 用最小二乘法画出拟合直线\n",
    "#def fit_function(x,b):\n",
    "#    return b\n",
    "#b1= optimize.curve_fit(fit_function,z,x)[0]  # 最小二乘法拟合 这里只能取一个mean，所以用了weighted mean，如下所示\n",
    "\n",
    "x1 = np.ones_like(x) * 0.0228  # x1是拟合值，x是观察值 这里用的是weighted mean\n",
    "print(x1)\n",
    "\n",
    "# 利用公式计算卡方\n",
    "np.set_printoptions(suppress = True)\n",
    "Npoints = 2  # 2个样本\n",
    "sum1 = np.zeros_like(x)\n",
    "chi2 = np.zeros_like(x)\n",
    "sigma2 = np.zeros_like(x)\n",
    "\n",
    "for i in range(0,2):\n",
    "    sum1[i] = (x[i]-x1[i])**2  # sum1是各项(观察值-拟合值)平方的数组\n",
    "print(sum1)\n",
    "    \n",
    "for k in range(0,2):\n",
    "    sigma2[k] = (y[k])**2 \n",
    "print(sigma2)\n",
    "    \n",
    "for j in range(0,2):\n",
    "    chi2[j] += sum1[j]/sigma2[j]  # 求各项chi2\n",
    "\n",
    "Chi2_fit = np.sum(chi2)  # 求和求chi2\n",
    "print(Chi2_fit)\n",
    "\n",
    "# 求出可能性\n",
    "Nvar = 1\n",
    "Ndof_fit = Npoints - Nvar\n",
    "Prob_fit = stats.chi2.sf(Chi2_fit,Ndof_fit)\n",
    "print(Prob_fit)\n",
    "'''"
   ]
  },
  {
   "cell_type": "code",
   "execution_count": 7,
   "metadata": {},
   "outputs": [
    {
     "data": {
      "text/plain": [
       "\"\\n# 题目2.2 Chauvenet's Criterion肖维勒准则应用\\nimport numpy as np\\na =  [9.54,9.36,10.02,9.87,9.98,9.86,9.86,9.81,9.79]\\nprint(np.sum(a)/9)\\nprint(np.std(a))\\nb = 9.788 - 9.36\\nprint(b)\\nprint(b/np.std(a))\\n\""
      ]
     },
     "execution_count": 7,
     "metadata": {},
     "output_type": "execute_result"
    }
   ],
   "source": [
    "'''\n",
    "# 题目2.2 Chauvenet's Criterion肖维勒准则应用\n",
    "import numpy as np\n",
    "a =  [9.54,9.36,10.02,9.87,9.98,9.86,9.86,9.81,9.79]\n",
    "print(np.sum(a)/9)\n",
    "print(np.std(a))\n",
    "b = 9.788 - 9.36\n",
    "print(b)\n",
    "print(b/np.std(a))\n",
    "'''"
   ]
  },
  {
   "cell_type": "code",
   "execution_count": 8,
   "metadata": {},
   "outputs": [
    {
     "data": {
      "text/plain": [
       "'\\n# 题目2.1 误差传播\\n# Defining the parameters:\\nmu1   =  0.96\\nsig1  =  0.03\\nmu2   =  0\\nsig2  =  0\\nmu3   =  0\\nsig3  =  0\\nmu4   =  0\\nsig4  =  0\\nrho12 =  0 \\n\\nif not (-1.0 <= rho12 <= 1.0): \\n    raise ValueError(f\"Correlation factor not in interval [-1,1], as it is {rho12:6.2f}\")\\n\\nfrom IPython.core.display import Latex\\n\\ndef lprint(*args,**kwargs):\\n    display(Latex(\\'$$\\'+\\' \\'.join(args)+\\'$$\\'),**kwargs)\\n\\ndef myDiff(formula):\\n    return sqrt((formula.diff(A) * dA)**2 + (formula.diff(E) * dE)**2 + (formula.diff(D) * dD)**2 + (formula.diff(R) * dR)**2)\\n\\ndef myDiffWithCorr(formula, name = \"\", printNow = False):\\n    dd = sqrt((formula.diff(A) * dA)**2 + 2*(formula.diff(A)*formula.diff(E)*(sigCorr**2)) \\n              + 2*(formula.diff(A)*formula.diff(D)*(sigCorr**2)) + 2*(formula.diff(A)*formula.diff(R)*(sigCorr**2))\\n              + (formula.diff(E) * dE)**2 +  2*(formula.diff(E)*formula.diff(D)*(sigCorr**2)) \\n              + 2*(formula.diff(E)*formula.diff(R)*(sigCorr**2)) + (formula.diff(D) * dD)**2 \\n              + 2*(formula.diff(D)*formula.diff(R)*(sigCorr**2)) + (formula.diff(R) * dR)**2 \\n             )\\n    if(printNow):\\n        lprint(latex(Eq(symbols(\\'sigma_\\'+name), dd)))\\n    fd = lambdify((A,dA,E,dE,D,dD,R,dR,sigCorr),dd)\\n    return dd, fd\\n    \\ndef diff_and_print(formula, name = \"\"):\\n    # Calculate uncertainty and print original relation/formula and the uncertainty\\n    dd = myDiff(formula)\\n    lprint(latex(Eq(symbols(name),formula)))\\n    lprint(latex(Eq(symbols(\\'sigma_\\'+name), dd)))\\n    \\ndef lambdifyFormula(formula, *args, name = \"\"):\\n    # Turn expression into numerical functions \\n    f = lambdify((A,E,D,R),formula)\\n    d = myDiff(formula)\\n    fd = lambdify((A,dA,E,dE,D,dD,R,dR),d)\\n    return f, fd\\n\\n# Import SymPy: \\nfrom sympy import * \\n    \\n# Define variables:\\nG,A,E,D,R = symbols(\"G,A,E,D,R\")\\ndG,dA,dE,dD,dR = symbols(\"sigma_G, sigma_A, sigma_E, sigma_D, sigma_R\")\\n\\n# Define relations:\\n# Diagonal\\nG = (1 + A**2) ** -1 #求y\\n#G = (1 - A) ** -2 #求z\\n\\n\\n# Try writing a simple function to not repeat yourself! (See cell above)\\ndiff_and_print(G,\"G\")\\n\\ndG = myDiff(G)\\n\\n# Turn expressions into numerical functions \\nfG, fdG = lambdifyFormula(G,\"G\")\\n\\n# Define values and their errors\\nvA, vdA = mu1,sig1\\nvE, vdE = mu2,sig2\\nvD, vdD = mu3,sig3\\nvR, vdR = mu4,sig4\\n\\n# Numerically evaluate expressions and print \\nvG = fG(vA,vE,vD,vR)\\nvdG = fdG(vA,vdA,vE,vdE,vD,vdD,vR,vdR)\\n\\n\\n#Adding correlations (and also derivation, printing and lambdifying)\\nsigCorr = symbols(\"sigma_AEDR\")\\nrho = symbols(\"rho_AEDR\")\\n\\ndG, fdG = myDiffWithCorr(G, \"G\", True)\\n\\nsCorr = sqrt(rho*dA*dE*dD*dR)\\nfSC = lambdify((rho,dA,dE,dD,dR),sCorr)\\n\\nvSigmaCorr = fSC(rho12,vdA,vdE,vdD,vdR)\\n\\n# Numerically evaluate expressions and print \\nvdG = fdG(vA,vdA,vE,vdE,vD,vdD,vR,vdR,vSigmaCorr)\\n\\nlprint(fr\\'G = ({vG:.3f} \\\\pm {vdG:.4f})\\\\,\\\\mathrm{{m}}\\')\\n'"
      ]
     },
     "execution_count": 8,
     "metadata": {},
     "output_type": "execute_result"
    }
   ],
   "source": [
    "'''\n",
    "# 题目2.1 误差传播\n",
    "# Defining the parameters:\n",
    "mu1   =  0.96\n",
    "sig1  =  0.03\n",
    "mu2   =  0\n",
    "sig2  =  0\n",
    "mu3   =  0\n",
    "sig3  =  0\n",
    "mu4   =  0\n",
    "sig4  =  0\n",
    "rho12 =  0 \n",
    "\n",
    "if not (-1.0 <= rho12 <= 1.0): \n",
    "    raise ValueError(f\"Correlation factor not in interval [-1,1], as it is {rho12:6.2f}\")\n",
    "\n",
    "from IPython.core.display import Latex\n",
    "\n",
    "def lprint(*args,**kwargs):\n",
    "    display(Latex('$$'+' '.join(args)+'$$'),**kwargs)\n",
    "\n",
    "def myDiff(formula):\n",
    "    return sqrt((formula.diff(A) * dA)**2 + (formula.diff(E) * dE)**2 + (formula.diff(D) * dD)**2 + (formula.diff(R) * dR)**2)\n",
    "\n",
    "def myDiffWithCorr(formula, name = \"\", printNow = False):\n",
    "    dd = sqrt((formula.diff(A) * dA)**2 + 2*(formula.diff(A)*formula.diff(E)*(sigCorr**2)) \n",
    "              + 2*(formula.diff(A)*formula.diff(D)*(sigCorr**2)) + 2*(formula.diff(A)*formula.diff(R)*(sigCorr**2))\n",
    "              + (formula.diff(E) * dE)**2 +  2*(formula.diff(E)*formula.diff(D)*(sigCorr**2)) \n",
    "              + 2*(formula.diff(E)*formula.diff(R)*(sigCorr**2)) + (formula.diff(D) * dD)**2 \n",
    "              + 2*(formula.diff(D)*formula.diff(R)*(sigCorr**2)) + (formula.diff(R) * dR)**2 \n",
    "             )\n",
    "    if(printNow):\n",
    "        lprint(latex(Eq(symbols('sigma_'+name), dd)))\n",
    "    fd = lambdify((A,dA,E,dE,D,dD,R,dR,sigCorr),dd)\n",
    "    return dd, fd\n",
    "    \n",
    "def diff_and_print(formula, name = \"\"):\n",
    "    # Calculate uncertainty and print original relation/formula and the uncertainty\n",
    "    dd = myDiff(formula)\n",
    "    lprint(latex(Eq(symbols(name),formula)))\n",
    "    lprint(latex(Eq(symbols('sigma_'+name), dd)))\n",
    "    \n",
    "def lambdifyFormula(formula, *args, name = \"\"):\n",
    "    # Turn expression into numerical functions \n",
    "    f = lambdify((A,E,D,R),formula)\n",
    "    d = myDiff(formula)\n",
    "    fd = lambdify((A,dA,E,dE,D,dD,R,dR),d)\n",
    "    return f, fd\n",
    "\n",
    "# Import SymPy: \n",
    "from sympy import * \n",
    "    \n",
    "# Define variables:\n",
    "G,A,E,D,R = symbols(\"G,A,E,D,R\")\n",
    "dG,dA,dE,dD,dR = symbols(\"sigma_G, sigma_A, sigma_E, sigma_D, sigma_R\")\n",
    "\n",
    "# Define relations:\n",
    "# Diagonal\n",
    "G = (1 + A**2) ** -1 #求y\n",
    "#G = (1 - A) ** -2 #求z\n",
    "\n",
    "\n",
    "# Try writing a simple function to not repeat yourself! (See cell above)\n",
    "diff_and_print(G,\"G\")\n",
    "\n",
    "dG = myDiff(G)\n",
    "\n",
    "# Turn expressions into numerical functions \n",
    "fG, fdG = lambdifyFormula(G,\"G\")\n",
    "\n",
    "# Define values and their errors\n",
    "vA, vdA = mu1,sig1\n",
    "vE, vdE = mu2,sig2\n",
    "vD, vdD = mu3,sig3\n",
    "vR, vdR = mu4,sig4\n",
    "\n",
    "# Numerically evaluate expressions and print \n",
    "vG = fG(vA,vE,vD,vR)\n",
    "vdG = fdG(vA,vdA,vE,vdE,vD,vdD,vR,vdR)\n",
    "\n",
    "\n",
    "#Adding correlations (and also derivation, printing and lambdifying)\n",
    "sigCorr = symbols(\"sigma_AEDR\")\n",
    "rho = symbols(\"rho_AEDR\")\n",
    "\n",
    "dG, fdG = myDiffWithCorr(G, \"G\", True)\n",
    "\n",
    "sCorr = sqrt(rho*dA*dE*dD*dR)\n",
    "fSC = lambdify((rho,dA,dE,dD,dR),sCorr)\n",
    "\n",
    "vSigmaCorr = fSC(rho12,vdA,vdE,vdD,vdR)\n",
    "\n",
    "# Numerically evaluate expressions and print \n",
    "vdG = fdG(vA,vdA,vE,vdE,vD,vdD,vR,vdR,vSigmaCorr)\n",
    "\n",
    "lprint(fr'G = ({vG:.3f} \\pm {vdG:.4f})\\,\\mathrm{{m}}')\n",
    "'''"
   ]
  },
  {
   "cell_type": "code",
   "execution_count": 27,
   "metadata": {},
   "outputs": [
    {
     "name": "stdout",
     "output_type": "stream",
     "text": [
      "Chi2: 32.39554243036631\n",
      "nDOF: 8\n",
      "p-value: 7.910693793778644e-05\n"
     ]
    }
   ],
   "source": [
    "\n",
    "# Chi2 test\n",
    "x = [9.54,9.36,10.02,9.87,9.98,9.86,9.86,9.81,9.79]  # x is observed value\n",
    "y = [0.15,0.10,0.11,0.08,0.14,0.06,0.03,0.13,0.04]  # y is observed sigma\n",
    "\n",
    "x1 = np.ones_like(x)*9.824  # x1 is estimated value\n",
    "#y1 = np.ones_like(x)*0.02  # y1 is estimated sigma\n",
    "\n",
    "np.set_printoptions(suppress = True)\n",
    "Npoints = 9  # number of samples\n",
    "sum1 = np.zeros_like(x)\n",
    "chi2 = np.zeros_like(x)\n",
    "sigma2 = np.zeros_like(x)\n",
    "\n",
    "for i in range(0,Npoints):\n",
    "    sum1[i] = (x[i]-x1[i])**2  # sum1 is (observed value-estimated value)**2\n",
    "    \n",
    "for k in range(0,Npoints):\n",
    "    sigma2[k] = (y[k])**2   # sigma2 is (observed sigma)**2\n",
    "    \n",
    "for j in range(0,Npoints):\n",
    "    chi2[j] += sum1[j]/sigma2[j]  # Chi2\n",
    "\n",
    "Chi2_fit = np.sum(chi2)  # calculate Chi2\n",
    "\n",
    "# calculate probability\n",
    "Nvar = 1  # number of fit parameter\n",
    "Ndof_fit = Npoints - Nvar\n",
    "Prob_fit = stats.chi2.sf(Chi2_fit,Ndof_fit)\n",
    "print(\"Chi2:\",Chi2_fit)\n",
    "print(\"nDOF:\",Ndof_fit)\n",
    "print(\"p-value:\",Prob_fit)\n"
   ]
  }
 ],
 "metadata": {
  "executable": "/usr/bin/env python",
  "kernelspec": {
   "display_name": "Python 3 (ipykernel)",
   "language": "python",
   "name": "python3"
  },
  "language_info": {
   "codemirror_mode": {
    "name": "ipython",
    "version": 3
   },
   "file_extension": ".py",
   "mimetype": "text/x-python",
   "name": "python",
   "nbconvert_exporter": "python",
   "pygments_lexer": "ipython3",
   "version": "3.9.7"
  },
  "main_language": "python"
 },
 "nbformat": 4,
 "nbformat_minor": 2
}
