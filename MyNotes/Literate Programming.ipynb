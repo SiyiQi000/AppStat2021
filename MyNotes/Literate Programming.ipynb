{
 "cells": [
  {
   "cell_type": "code",
   "execution_count": 5,
   "id": "5de29e6e",
   "metadata": {
    "scrolled": true
   },
   "outputs": [
    {
     "name": "stdout",
     "output_type": "stream",
     "text": [
      "hello world\n"
     ]
    }
   ],
   "source": [
    "print('hello world')"
   ]
  },
  {
   "cell_type": "markdown",
   "id": "7dfbf333",
   "metadata": {},
   "source": [
    "# I'm markdown the first class heading\n",
    "## I'm markdown the second class heading\n",
    "### I'm markdown the third class heading\n",
    ">I'm a citation\n",
    "\n",
    "[I'm a link - river continuum concept](https://en.wikipedia.org/wiki/River_Continuum_Concept)\n",
    "\n",
    "[I'm a figure - river continuum concept](https://upload.wikimedia.org/wikipedia/commons/e/e6/Stream_in_the_redwoods.jpg)\n",
    "\n",
    "<details><summary>for more information</summary>\n",
    "information\n",
    "</details>"
   ]
  },
  {
   "cell_type": "code",
   "execution_count": null,
   "id": "4e2bc990",
   "metadata": {},
   "outputs": [],
   "source": []
  }
 ],
 "metadata": {
  "kernelspec": {
   "display_name": "Python 3 (ipykernel)",
   "language": "python",
   "name": "python3"
  },
  "language_info": {
   "codemirror_mode": {
    "name": "ipython",
    "version": 3
   },
   "file_extension": ".py",
   "mimetype": "text/x-python",
   "name": "python",
   "nbconvert_exporter": "python",
   "pygments_lexer": "ipython3",
   "version": "3.9.7"
  }
 },
 "nbformat": 4,
 "nbformat_minor": 5
}
