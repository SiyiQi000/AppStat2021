{
 "cells": [
  {
   "cell_type": "code",
   "execution_count": 90,
   "id": "9b4a8f2d",
   "metadata": {
    "scrolled": true
   },
   "outputs": [],
   "source": [
    "import numpy as np                                     # Matlab like syntax for linear algebra and functions\n",
    "import matplotlib.pyplot as plt                        # Plots and figures like you know them from Matlab\n",
    "import seaborn as sns                                  # Make the plots nicer to look at\n",
    "from iminuit import Minuit                             # The actual fitting tool, better than scipy's\n",
    "import sys                                             # Module to see files and folders in directories\n",
    "from scipy import stats\n",
    "from scipy import optimize"
   ]
  },
  {
   "cell_type": "code",
   "execution_count": 91,
   "id": "66b25d42",
   "metadata": {
    "scrolled": true
   },
   "outputs": [],
   "source": [
    "sys.path.append('D:\\my github\\Siyi Applied Stats\\Documents for JN\\AppStat2021-main\\External_Functions\\\\')\n",
    "from ExternalFunctions import Chi2Regression\n",
    "from ExternalFunctions import nice_string_output, add_text_to_ax # useful functions to print fit results on figure"
   ]
  },
  {
   "cell_type": "code",
   "execution_count": 92,
   "id": "02418220",
   "metadata": {
    "scrolled": true
   },
   "outputs": [],
   "source": [
    "file_position = 'D:\\my github\\Siyi Applied Stats\\Documents for JN\\AppStat2021-main\\Project\\StopwatchTimer\\\\'\n",
    "file_name = 'Siyi1x.csv'  # 导入x数据\n",
    "data_name = file_position+file_name\n",
    "\n",
    "x_data0 = open(data_name,'r')\n",
    "x_data1 = []\n",
    "for line in x_data0:\n",
    "    x_data1.append(float(line))\n",
    "x_data0.close()\n",
    "x = x_data1[0:25]                       # 截取前25个周期x值\n",
    "\n",
    "file_position = 'D:\\my github\\Siyi Applied Stats\\Documents for JN\\AppStat2021-main\\Project\\StopwatchTimer\\\\'\n",
    "file_name = 'Siyi1y.csv'    # 导入y数据\n",
    "data_name = file_position+file_name\n",
    "\n",
    "y_data0 = open(data_name,'r')\n",
    "y_data1 = []\n",
    "for line in y_data0:\n",
    "    y_data1.append(float(line))\n",
    "y_data0.close()\n",
    "y = y_data1[0:25]                       # 截取前25个周期y值"
   ]
  },
  {
   "cell_type": "code",
   "execution_count": 93,
   "id": "1699602f",
   "metadata": {
    "scrolled": false
   },
   "outputs": [
    {
     "name": "stdout",
     "output_type": "stream",
     "text": [
      "[ 1  2  3  4  5  6  7  8  9 10 11 12 13 14 15 16 17 18 19 20 21 22 23 24\n",
      " 25]\n",
      "[1.0, 2.0, 3.0, 4.0, 5.0, 6.0, 7.0, 8.0, 9.0, 10.0, 11.0, 12.0, 13.0, 14.0, 15.0, 16.0, 17.0, 18.0, 19.0, 20.0, 21.0, 22.0, 23.0, 24.0, 25.0]\n",
      "[ 8.17134  11.006409 13.841478 16.676547 19.511616 22.346685 25.181754\n",
      " 28.016823 30.851892 33.686961 36.52203  39.357099 42.192168 45.027237\n",
      " 47.862306 50.697375 53.532444 56.367513 59.202582 62.037651 64.87272\n",
      " 67.707789 70.542858 73.377927 76.212996]\n",
      "[8.1624, 11.0424, 13.8307, 16.7334, 19.5632, 22.3517, 25.1397, 27.9899, 30.8178, 33.6778, 36.4804, 39.3959, 42.197, 45.0183, 47.8587, 50.655, 53.5223, 56.3956, 59.1352, 62.0193, 64.8985, 67.7029, 70.5536, 73.3853, 76.2772]\n",
      "2.8350690000004826 5.336270999972507\n"
     ]
    }
   ],
   "source": [
    "# 这一段是用最小二乘法画出拟合直线\n",
    "def fit_function(x,a,b):\n",
    "    return a*x + b\n",
    "a1,b1 = optimize.curve_fit(fit_function,x,y)[0]  # 最小二乘法拟合\n",
    "x1 = np.arange(1,26)\n",
    "print(x1)\n",
    "print(x)\n",
    "y1 = a1*x1 +b1  # x1,y1是拟合值，x,y是观察值\n",
    "print(y1)\n",
    "print(y)\n",
    "print(a1,b1)"
   ]
  },
  {
   "cell_type": "code",
   "execution_count": 94,
   "id": "5124208a",
   "metadata": {
    "scrolled": false
   },
   "outputs": [
    {
     "name": "stdout",
     "output_type": "stream",
     "text": [
      "0.0011270443791665586\n",
      "0.03357148163496152\n",
      "24.000000000000004\n"
     ]
    }
   ],
   "source": [
    "# 利用公式计算卡方\n",
    "Npoints = 25  # 25个样本\n",
    "sum1 = np.zeros_like(x)\n",
    "chi2 = np.zeros_like(x)\n",
    "sum2 = float\n",
    "sigmay = float\n",
    "ey = float\n",
    "\n",
    "for i in range(0,25):\n",
    "    sum1[i] = (y1[i]-y[i])**2  # sum1是各项(观察值-拟合值)平方的数组\n",
    "\n",
    "sum2 = np.sum(sum1)  # sum2是sum1各项的和\n",
    "sigmay = np.sqrt(sum2/(Npoints - 1))  # sigmay是y的样本标准差\n",
    "variancey = sigmay**2  # variancey是y的方差\n",
    "print(variancey)\n",
    "ey = sigmay\n",
    "print(ey)\n",
    "for j in range(0,25):\n",
    "    chi2[j] += sum1[j]/variancey  # 求各项chi2\n",
    "\n",
    "Chi2_fit = np.sum(chi2)  # 求和求chi2\n",
    "print(Chi2_fit)"
   ]
  },
  {
   "cell_type": "code",
   "execution_count": 95,
   "id": "769064c5",
   "metadata": {
    "scrolled": true
   },
   "outputs": [
    {
     "name": "stdout",
     "output_type": "stream",
     "text": [
      "0.40380844445980857\n"
     ]
    }
   ],
   "source": [
    "# 求出可能性\n",
    "Nvar = 2\n",
    "Ndof_fit = Npoints - Nvar\n",
    "Prob_fit = stats.chi2.sf(Chi2_fit,Ndof_fit)\n",
    "print(Prob_fit)"
   ]
  },
  {
   "cell_type": "code",
   "execution_count": 96,
   "id": "859f3f75",
   "metadata": {
    "scrolled": false
   },
   "outputs": [
    {
     "name": "stderr",
     "output_type": "stream",
     "text": [
      "C:\\Users\\dell\\AppData\\Local\\Temp/ipykernel_7624/2387752725.py:10: UserWarning: color is redundantly defined by the 'color' keyword argument and the fmt string \"ro\" (-> color='r'). The keyword argument will take precedence.\n",
      "  plt.plot(x,y,'ro',markersize=6,color=\"black\")\n",
      "C:\\Users\\dell\\AppData\\Local\\Temp/ipykernel_7624/2387752725.py:17: UserWarning: color is redundantly defined by the 'color' keyword argument and the fmt string \"ro\" (-> color='r'). The keyword argument will take precedence.\n",
      "  ax.errorbar(x, y-y1, ey, fmt='ro', color='crimson', elinewidth=2, capsize=3, capthick=1)  # errorbar\n"
     ]
    },
    {
     "data": {
      "image/png": "[encoded data removed]",
      "text/plain": [
       "<Figure size 720x288 with 1 Axes>"
      ]
     },
     "metadata": {},
     "output_type": "display_data"
    },
    {
     "data": {
      "image/png": "[encoded data removed]",
      "text/plain": [
       "<Figure size 720x432 with 1 Axes>"
      ]
     },
     "metadata": {
      "needs_background": "light"
     },
     "output_type": "display_data"
    }
   ],
   "source": [
    "# 画图\n",
    "f0_x = [x for x in range(1,26)]\n",
    "f0_y = np.ones_like(f0_x)*0\n",
    "f1_x = [x for x in range(1,26)]\n",
    "f1_y = np.ones_like(f1_x)*ey\n",
    "f2_x = [x for x in range(1,26)]\n",
    "f2_y = np.ones_like(f2_x)*-ey\n",
    "\n",
    "plt.figure(figsize=(10,4),facecolor='w')\n",
    "plt.plot(x,y,'ro',markersize=6,color=\"black\")\n",
    "plt.xlabel('The number of timing',fontsize=14)\n",
    "plt.ylabel('Time elapsed (s)',fontsize=14)\n",
    "plt.plot(x1,y1)\n",
    "plt.savefig('fig1',dpi=600)\n",
    "\n",
    "fig, ax = plt.subplots(figsize=(10,6))\n",
    "ax.errorbar(x, y-y1, ey, fmt='ro', color='crimson', elinewidth=2, capsize=3, capthick=1)  # errorbar\n",
    "ax.plot(f0_x,f0_y,color='black')\n",
    "ax.plot(f1_x,f1_y,color='black', linestyle='dashed')\n",
    "ax.plot(f2_x,f2_y,color='black', linestyle='dashed')\n",
    "plt.savefig('fig2',dpi=600)\n",
    "plt.show()"
   ]
  },
  {
   "cell_type": "code",
   "execution_count": 97,
   "id": "71bf1aa2",
   "metadata": {
    "scrolled": false
   },
   "outputs": [
    {
     "name": "stdout",
     "output_type": "stream",
     "text": [
      "[-0.00894   0.035991 -0.010778  0.056853  0.051584  0.005015 -0.042054\n",
      " -0.026923 -0.034092 -0.009161 -0.04163   0.038801  0.004832 -0.008937\n",
      " -0.003606 -0.042375 -0.010144  0.028087 -0.067382 -0.018351  0.02578\n",
      " -0.004889  0.010742  0.007373  0.064204]\n"
     ]
    }
   ],
   "source": [
    "# ry是残差\n",
    "ry = []\n",
    "ry = y-y1\n",
    "print(ry)"
   ]
  },
  {
   "cell_type": "code",
   "execution_count": 98,
   "id": "37d8f311",
   "metadata": {},
   "outputs": [
    {
     "name": "stdout",
     "output_type": "stream",
     "text": [
      "0.006578639993189766\n"
     ]
    }
   ],
   "source": [
    "# 计算均方根RMS\n",
    "RMS_1 = []\n",
    "RMS_1 = ry**2\n",
    "RMS = np.sqrt(np.sum(RMS_1))/ Npoints\n",
    "print(RMS)"
   ]
  },
  {
   "cell_type": "code",
   "execution_count": 99,
   "id": "3494d371",
   "metadata": {
    "scrolled": false
   },
   "outputs": [],
   "source": [
    "xmin, xmax = -0.25, 0.25\n",
    "N_bins = 50\n",
    "binwidth = (xmax-xmin)/N_bins"
   ]
  },
  {
   "cell_type": "code",
   "execution_count": 102,
   "id": "fe87d496",
   "metadata": {
    "scrolled": false
   },
   "outputs": [
    {
     "name": "stdout",
     "output_type": "stream",
     "text": [
      "  Mean = 0.000,    Std = 0.034\n"
     ]
    },
    {
     "data": {
      "image/png": "[encoded data removed]",
      "text/plain": [
       "<Figure size 720x432 with 1 Axes>"
      ]
     },
     "metadata": {
      "needs_background": "light"
     },
     "output_type": "display_data"
    }
   ],
   "source": [
    "def gaussian(x, N, mu, sigma, binwidth):\n",
    "    return N * binwidth / (sigma*np.sqrt(2*np.pi)) * np.exp(-0.5* (x-mu)**2/sigma**2)\n",
    "\n",
    "mu = 0\n",
    "sigma = ey\n",
    "print(f\"  Mean = {mu:5.3f},    Std = {sigma:5.3f}\")\n",
    "x_gauss = np.arange(xmin,xmax,0.005)\n",
    "y_gauss = gaussian(x=x_gauss,N=Npoints,mu=mu,sigma=sigma,binwidth=binwidth)\n",
    "\n",
    "fig4, ax4 = plt.subplots(figsize=(10, 6)) \n",
    "hist4 = ax4.hist(ry, bins=N_bins, range=(xmin, xmax), histtype='step', linewidth=3)\n",
    "ax4.set(xlabel='time residuals', ylabel='Frequency', title='Histogram of timing residuals');\n",
    "ax4.plot(x_gauss, y_gauss, '-', color='red', linewidth=4) \n",
    "fig4.tight_layout()\n",
    "fig4.savefig('fig4',dpi=600)"
   ]
  },
  {
   "cell_type": "code",
   "execution_count": null,
   "id": "4ce636c6",
   "metadata": {},
   "outputs": [],
   "source": []
  }
 ],
 "metadata": {
  "kernelspec": {
   "display_name": "Python 3 (ipykernel)",
   "language": "python",
   "name": "python3"
  },
  "language_info": {
   "codemirror_mode": {
    "name": "ipython",
    "version": 3
   },
   "file_extension": ".py",
   "mimetype": "text/x-python",
   "name": "python",
   "nbconvert_exporter": "python",
   "pygments_lexer": "ipython3",
   "version": "3.9.7"
  }
 },
 "nbformat": 4,
 "nbformat_minor": 5
}
