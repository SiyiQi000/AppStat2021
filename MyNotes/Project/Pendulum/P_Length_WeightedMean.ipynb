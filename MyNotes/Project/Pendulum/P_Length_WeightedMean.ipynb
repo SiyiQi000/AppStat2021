{
 "cells": [
  {
   "cell_type": "code",
   "execution_count": 2,
   "id": "419ae79c",
   "metadata": {},
   "outputs": [],
   "source": [
    "import numpy as np                                     # Matlab like syntax for linear algebra and functions\n",
    "import matplotlib.pyplot as plt                        # Plots and figures like you know them from Matlab\n",
    "import seaborn as sns                                  # Make the plots nicer to look at\n",
    "from iminuit import Minuit                             # The actual fitting tool, better than scipy's\n",
    "import sys                                             # Module to see files and folders in directories\n",
    "from scipy import stats\n",
    "from scipy import optimize"
   ]
  },
  {
   "cell_type": "code",
   "execution_count": 3,
   "id": "86a7bbe0",
   "metadata": {},
   "outputs": [],
   "source": [
    "sys.path.append('D:\\my github\\Siyi Applied Stats\\Documents for JN\\AppStat2021-main\\External_Functions\\\\')\n",
    "from ExternalFunctions import Chi2Regression\n",
    "from ExternalFunctions import nice_string_output, add_text_to_ax # useful functions to print fit results on figure"
   ]
  },
  {
   "cell_type": "code",
   "execution_count": 4,
   "id": "663ba694",
   "metadata": {},
   "outputs": [
    {
     "name": "stdout",
     "output_type": "stream",
     "text": [
      "[246.   0.]\n",
      "[25.  0.]\n",
      "[ 246.    1490.625]\n",
      "[ 25.   156.25]\n",
      "9.581379310344825\n",
      "0.07427813527082074\n"
     ]
    }
   ],
   "source": [
    "L1 = [9.84,9.54]   # value\n",
    "sigma_L1 = [0.2,0.08]   # error\n",
    "L_sum_up = np.zeros_like(L1)\n",
    "L_sum_down = np.zeros_like(L1)\n",
    "weighted_mean = float\n",
    "weighted_sigma = float\n",
    "for i in range(0,2):    # number of values/errors\n",
    "    L_sum_up[i] = L1[i]/((sigma_L1[i])**2)\n",
    "    L_sum_down[i] = 1/((sigma_L1[i])**2)\n",
    "    print(L_sum_up)\n",
    "    print(L_sum_down)\n",
    "weighted_mean = np.sum(L_sum_up)/np.sum(L_sum_down)\n",
    "print(weighted_mean)\n",
    "weighted_sigma = np.sqrt(1/(np.sum(L_sum_down)))\n",
    "print(weighted_sigma)"
   ]
  }
 ],
 "metadata": {
  "kernelspec": {
   "display_name": "Python 3 (ipykernel)",
   "language": "python",
   "name": "python3"
  },
  "language_info": {
   "codemirror_mode": {
    "name": "ipython",
    "version": 3
   },
   "file_extension": ".py",
   "mimetype": "text/x-python",
   "name": "python",
   "nbconvert_exporter": "python",
   "pygments_lexer": "ipython3",
   "version": "3.9.7"
  }
 },
 "nbformat": 4,
 "nbformat_minor": 5
}
