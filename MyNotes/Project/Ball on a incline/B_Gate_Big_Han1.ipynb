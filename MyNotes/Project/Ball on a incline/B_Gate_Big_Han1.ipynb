{
 "cells": [
  {
   "cell_type": "code",
   "execution_count": 388,
   "id": "9b4a8f2d",
   "metadata": {
    "scrolled": true
   },
   "outputs": [],
   "source": [
    "import numpy as np                                     # Matlab like syntax for linear algebra and functions\n",
    "import matplotlib.pyplot as plt                        # Plots and figures like you know them from Matlab\n",
    "import seaborn as sns                                  # Make the plots nicer to look at\n",
    "from iminuit import Minuit                             # The actual fitting tool, better than scipy's\n",
    "import sys                                             # Module to see files and folders in directories\n",
    "from scipy import stats\n",
    "from scipy import optimize"
   ]
  },
  {
   "cell_type": "code",
   "execution_count": 389,
   "id": "66b25d42",
   "metadata": {
    "scrolled": true
   },
   "outputs": [],
   "source": [
    "sys.path.append('D:\\my github\\Siyi Applied Stats\\Documents for JN\\AppStat2021-main\\External_Functions\\\\')\n",
    "from ExternalFunctions import Chi2Regression\n",
    "from ExternalFunctions import nice_string_output, add_text_to_ax # useful functions to print fit results on figure"
   ]
  },
  {
   "cell_type": "code",
   "execution_count": 390,
   "id": "02418220",
   "metadata": {
    "scrolled": true
   },
   "outputs": [],
   "source": [
    "file_position = 'D:\\my github\\Siyi Applied Stats\\Documents for JN\\My notes\\Project\\Ball on a incline\\\\'\n",
    "file_name = 'han_big_x.csv'  # 导入x数据\n",
    "data_name = file_position+file_name\n",
    "\n",
    "x_data0 = open(data_name,'r')\n",
    "x_data1 = []\n",
    "for line in x_data0:\n",
    "    x_data1.append(float(line))\n",
    "x_data0.close()\n",
    "x = x_data1[0:5001]   \n",
    "\n",
    "file_position = 'D:\\my github\\Siyi Applied Stats\\Documents for JN\\My notes\\Project\\Ball on a incline\\\\'\n",
    "file_name = 'han_big_y.csv'    # 导入y数据\n",
    "data_name = file_position+file_name\n",
    "\n",
    "y_data0 = open(data_name,'r')\n",
    "y_data1 = []\n",
    "for line in y_data0:\n",
    "    y_data1.append(float(line))\n",
    "y_data0.close()\n",
    "y = y_data1[0:5001]                       "
   ]
  },
  {
   "cell_type": "code",
   "execution_count": 391,
   "id": "408b1e29",
   "metadata": {},
   "outputs": [],
   "source": [
    "# 画图\n",
    "\n",
    "ex = 0.005\n",
    "f0_y = [y for y in range(1,6)]\n",
    "f0_x = np.ones_like(f0_y)*0.277\n",
    "f1_y = [y for y in range(1,6)]\n",
    "f1_x = np.ones_like(f1_y)*0.277 + ex\n",
    "f2_y = [y for y in range(1,6)]\n",
    "f2_x = np.ones_like(f2_y)*0.277 - ex"
   ]
  },
  {
   "cell_type": "code",
   "execution_count": 392,
   "id": "9d9e2e64",
   "metadata": {
    "scrolled": false
   },
   "outputs": [
    {
     "name": "stderr",
     "output_type": "stream",
     "text": [
      "C:\\Users\\dell\\AppData\\Local\\Temp/ipykernel_13768/2463728522.py:2: UserWarning: color is redundantly defined by the 'color' keyword argument and the fmt string \"ro\" (-> color='r'). The keyword argument will take precedence.\n",
      "  plt.plot(x,y,'ro',markersize=0.001,color=\"black\")\n"
     ]
    },
    {
     "data": {
      "image/png": "[encoded data removed]",
      "text/plain": [
       "<Figure size 432x288 with 1 Axes>"
      ]
     },
     "metadata": {},
     "output_type": "display_data"
    }
   ],
   "source": [
    "\n",
    "plt.figure(figsize=(6,4),facecolor='w')\n",
    "plt.plot(x,y,'ro',markersize=0.001,color=\"black\")\n",
    "plt.plot(f0_x,f0_y,color='black',linewidth = 0.5)\n",
    "plt.plot(f1_x,f1_y,color='black', linestyle='dashed',linewidth = 0.5)\n",
    "plt.plot(f2_x,f2_y,color='black', linestyle='dashed',linewidth = 0.5)\n",
    "plt.xlabel('Time(s)',fontsize=14)\n",
    "plt.ylabel('Voltage(V)',fontsize=14)\n",
    "plt.plot(x,y)\n",
    "plt.savefig('fig1',dpi=600)\n"
   ]
  },
  {
   "cell_type": "code",
   "execution_count": 393,
   "id": "ddb01575",
   "metadata": {
    "scrolled": true
   },
   "outputs": [
    {
     "ename": "SyntaxError",
     "evalue": "EOF while scanning triple-quoted string literal (Temp/ipykernel_13768/4127505585.py, line 4)",
     "output_type": "error",
     "traceback": [
      "\u001b[1;36m  File \u001b[1;32m\"C:\\Users\\dell\\AppData\\Local\\Temp/ipykernel_13768/4127505585.py\"\u001b[1;36m, line \u001b[1;32m4\u001b[0m\n\u001b[1;33m    print(max_y)\u001b[0m\n\u001b[1;37m                \n^\u001b[0m\n\u001b[1;31mSyntaxError\u001b[0m\u001b[1;31m:\u001b[0m EOF while scanning triple-quoted string literal\n"
     ]
    }
   ],
   "source": [
    "'''\n",
    "# 这一步求出最大值\n",
    "max_y = max(y)\n",
    "print(max_y)"
   ]
  },
  {
   "cell_type": "code",
   "execution_count": null,
   "id": "cf060e06",
   "metadata": {
    "scrolled": true
   },
   "outputs": [],
   "source": [
    "gate_1_1 = 0.269\n",
    "gate_1_2 = 0.285\n",
    "gate_2_1 = 0.4272\n",
    "gate_2_2 = 0.4398\n",
    "gate_3_1 = 0.5522\n",
    "gate_3_2 = 0.5628\n",
    "gate_4_1 = 0.6588\n",
    "gate_4_2 = 0.668\n",
    "gate_5_1 = 0.753\n",
    "gate_5_2 = 0.7612\n",
    "\n",
    "gate_1_mean = (gate_1_1+gate_1_2)/2\n",
    "gate_2_mean = (gate_2_1+gate_2_2)/2\n",
    "gate_3_mean = (gate_3_1+gate_3_2)/2\n",
    "gate_4_mean = (gate_4_1+gate_4_2)/2\n",
    "gate_5_mean = (gate_5_1+gate_5_2)/2\n",
    "print(gate_1_mean,gate_2_mean,gate_3_mean,gate_4_mean,gate_5_mean)\n"
   ]
  },
  {
   "cell_type": "code",
   "execution_count": null,
   "id": "533deb28",
   "metadata": {},
   "outputs": [],
   "source": [
    "\n",
    "def f_a(t,s,v):\n",
    "    return (2 * (s - v*t))/t**2\n",
    "result1 = f_a()\n",
    "print(result1)\n",
    "\n",
    "\n",
    "'''\n",
    "def test01(a,b,D,d):\n",
    "            return (a/b)*(1+((2/5)*(D**2/(D**2-d**2)))\n",
    "z = test01(3.7714,0.253,0.007745,0.006888)\n",
    "print(z)\n",
    "'''\n"
   ]
  },
  {
   "cell_type": "code",
   "execution_count": 396,
   "id": "dfbef375",
   "metadata": {},
   "outputs": [
    {
     "name": "stdout",
     "output_type": "stream",
     "text": [
      "9.945007084794936\n"
     ]
    }
   ],
   "source": [
    "z = (1.71/0.253)*(1+((2/5)*(0.01549**2/(0.01549**2 - 0.0060283**2))))\n",
    "print(z)"
   ]
  },
  {
   "cell_type": "code",
   "execution_count": null,
   "id": "f4f9bff6",
   "metadata": {},
   "outputs": [],
   "source": [
    "'''"
   ]
  },
  {
   "cell_type": "code",
   "execution_count": null,
   "id": "fc14824d",
   "metadata": {},
   "outputs": [],
   "source": []
  }
 ],
 "metadata": {
  "kernelspec": {
   "display_name": "Python 3 (ipykernel)",
   "language": "python",
   "name": "python3"
  },
  "language_info": {
   "codemirror_mode": {
    "name": "ipython",
    "version": 3
   },
   "file_extension": ".py",
   "mimetype": "text/x-python",
   "name": "python",
   "nbconvert_exporter": "python",
   "pygments_lexer": "ipython3",
   "version": "3.9.7"
  }
 },
 "nbformat": 4,
 "nbformat_minor": 5
}
