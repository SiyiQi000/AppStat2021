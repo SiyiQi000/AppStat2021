{
 "cells": [
  {
   "cell_type": "code",
   "execution_count": 1,
   "id": "9b4a8f2d",
   "metadata": {
    "scrolled": true
   },
   "outputs": [],
   "source": [
    "import numpy as np                                     # Matlab like syntax for linear algebra and functions\n",
    "import matplotlib.pyplot as plt                        # Plots and figures like you know them from Matlab\n",
    "import seaborn as sns                                  # Make the plots nicer to look at\n",
    "from iminuit import Minuit                             # The actual fitting tool, better than scipy's\n",
    "import sys                                             # Module to see files and folders in directories\n",
    "from scipy import stats\n",
    "from scipy import optimize"
   ]
  },
  {
   "cell_type": "code",
   "execution_count": 2,
   "id": "66b25d42",
   "metadata": {
    "scrolled": true
   },
   "outputs": [],
   "source": [
    "sys.path.append('D:\\my github\\Siyi Applied Stats\\Documents for JN\\AppStat2021-main\\External_Functions\\\\')\n",
    "from ExternalFunctions import Chi2Regression\n",
    "from ExternalFunctions import nice_string_output, add_text_to_ax # useful functions to print fit results on figure"
   ]
  },
  {
   "cell_type": "code",
   "execution_count": 3,
   "id": "02418220",
   "metadata": {
    "scrolled": true
   },
   "outputs": [],
   "source": [
    "x = [0.1047,0.2864,0.4222,0.5354,0.6343]   # x就是t\n",
    "y = [0.2154,0.3421,0.4726,0.6019,0.7302]   # y就是位移s         "
   ]
  },
  {
   "cell_type": "code",
   "execution_count": 4,
   "id": "4097ad92",
   "metadata": {},
   "outputs": [
    {
     "name": "stdout",
     "output_type": "stream",
     "text": [
      "[0.1047, 0.2864, 0.4222, 0.5354, 0.6343]\n",
      "[0.1047, 0.2864, 0.4222, 0.5354, 0.6343]\n",
      "[0.2151008  0.34304314 0.47203963 0.60138628 0.73063015]\n",
      "[0.2154, 0.3421, 0.4726, 0.6019, 0.7302]\n",
      "1.5480943698293514 0.40141068614697867 0.16458792741621633\n"
     ]
    }
   ],
   "source": [
    "# 这一段是用最小二乘法画出拟合曲线\n",
    "def fit_function(x,a,v,s0):  #\n",
    "    return (1/2)*a*x**2 + v*x + s0\n",
    "a1,v1,s0_1 = optimize.curve_fit(fit_function,x,y)[0]  # 最小二乘法拟合\n",
    "x1 = x\n",
    "print(x1)\n",
    "print(x)\n",
    "\n",
    "\n",
    "y1 = np.zeros_like(x1)\n",
    "for i in range(0,5):\n",
    "    y1[i] =  (1/2)*a1*(x1[i])**2 + v1*(x1[i]) + s0_1  # x1,y1是拟合值，x,y是观察值\n",
    "\n",
    "print(y1)\n",
    "print(y)\n",
    "print(a1,v1,s0_1)"
   ]
  },
  {
   "cell_type": "code",
   "execution_count": 5,
   "id": "e7e8a23d",
   "metadata": {},
   "outputs": [
    {
     "name": "stdout",
     "output_type": "stream",
     "text": [
      "4.35496046799113e-07\n",
      "0.0006599212428760821\n",
      "4.0\n"
     ]
    }
   ],
   "source": [
    "# 利用公式计算卡方\n",
    "Npoints = 5  # 5个样本\n",
    "sum1 = np.zeros_like(x)\n",
    "chi2 = np.zeros_like(x)\n",
    "sum2 = float\n",
    "sigmay = float\n",
    "ey = float\n",
    "\n",
    "for i in range(0,5):\n",
    "    sum1[i] = (y1[i]-y[i])**2  # sum1是各项(观察值-拟合值)平方的数组\n",
    "\n",
    "sum2 = np.sum(sum1)  # sum2是sum1各项的和\n",
    "sigmay = np.sqrt(sum2/(Npoints - 1))  # sigmay是y的样本标准差\n",
    "variancey = sigmay**2  # variancey是y的方差\n",
    "print(variancey)\n",
    "ey = sigmay\n",
    "print(ey)\n",
    "for j in range(0,5):\n",
    "    chi2[j] += sum1[j]/variancey  # 求各项chi2\n",
    "\n",
    "Chi2_fit = np.sum(chi2)  # 求和求chi2\n",
    "print(Chi2_fit)"
   ]
  },
  {
   "cell_type": "code",
   "execution_count": 6,
   "id": "6cc17db0",
   "metadata": {},
   "outputs": [
    {
     "name": "stdout",
     "output_type": "stream",
     "text": [
      "0.1353352832366127\n"
     ]
    }
   ],
   "source": [
    "# 求出可能性\n",
    "Nvar = 3\n",
    "Ndof_fit = Npoints - Nvar\n",
    "Prob_fit = stats.chi2.sf(Chi2_fit,Ndof_fit)\n",
    "print(Prob_fit)"
   ]
  },
  {
   "cell_type": "code",
   "execution_count": 7,
   "id": "bb09f789",
   "metadata": {
    "scrolled": false
   },
   "outputs": [
    {
     "name": "stderr",
     "output_type": "stream",
     "text": [
      "C:\\Users\\dell\\AppData\\Local\\Temp/ipykernel_21620/2827930167.py:11: UserWarning: color is redundantly defined by the 'color' keyword argument and the fmt string \"ro\" (-> color='r'). The keyword argument will take precedence.\n",
      "  plt.plot(x,y,'ro',markersize=6,color=\"black\")\n",
      "C:\\Users\\dell\\AppData\\Local\\Temp/ipykernel_21620/2827930167.py:19: UserWarning: color is redundantly defined by the 'color' keyword argument and the fmt string \"ro\" (-> color='r'). The keyword argument will take precedence.\n",
      "  ax.errorbar(x, y-y1, ey, fmt='ro', color='crimson', elinewidth=2, capsize=3, capthick=1)  # errorbar\n"
     ]
    },
    {
     "data": {
      "image/png": "[encoded data removed]",
      "text/plain": [
       "<Figure size 720x288 with 1 Axes>"
      ]
     },
     "metadata": {},
     "output_type": "display_data"
    },
    {
     "data": {
      "image/png": "[encoded data removed]",
      "text/plain": [
       "<Figure size 720x432 with 1 Axes>"
      ]
     },
     "metadata": {
      "needs_background": "light"
     },
     "output_type": "display_data"
    }
   ],
   "source": [
    "# 画图\n",
    "f0_x = [x for x in range(0,2)]\n",
    "f0_y = np.ones_like(f0_x)*0\n",
    "f1_x = [x for x in range(0,2)]\n",
    "f1_y = np.ones_like(f1_x)*ey\n",
    "f2_x = [x for x in range(0,2)]\n",
    "f2_y = np.ones_like(f2_x)*-ey\n",
    "\n",
    "\n",
    "plt.figure(figsize=(10,4),facecolor='w')\n",
    "plt.plot(x,y,'ro',markersize=6,color=\"black\")\n",
    "plt.xlabel('Time (s)',fontsize=14)\n",
    "plt.ylabel('Position (m)',fontsize=14)\n",
    "plt.plot(x1,y1)\n",
    "plt.savefig('fig1',dpi=600)\n",
    "\n",
    "\n",
    "fig, ax = plt.subplots(figsize=(10,6))\n",
    "ax.errorbar(x, y-y1, ey, fmt='ro', color='crimson', elinewidth=2, capsize=3, capthick=1)  # errorbar\n",
    "ax.plot(f0_x,f0_y,color='black')\n",
    "ax.plot(f1_x,f1_y,color='black', linestyle='dashed')\n",
    "ax.plot(f2_x,f2_y,color='black', linestyle='dashed')\n",
    "plt.savefig('fig2',dpi=600)\n",
    "plt.show()\n"
   ]
  },
  {
   "cell_type": "code",
   "execution_count": 8,
   "id": "5da2702e",
   "metadata": {
    "scrolled": true
   },
   "outputs": [
    {
     "name": "stdout",
     "output_type": "stream",
     "text": [
      "10.297479305265862\n"
     ]
    }
   ],
   "source": [
    "g = (1.5343/0.2307)*(1+((2/5)*(0.01159**2/(0.01159**2 - 0.0060283**2))))\n",
    "print(g)"
   ]
  },
  {
   "cell_type": "code",
   "execution_count": 9,
   "id": "c5b542b4",
   "metadata": {},
   "outputs": [
    {
     "name": "stdout",
     "output_type": "stream",
     "text": [
      "[24520.     0.]\n",
      "[2500.    0.]\n",
      "[24520.           223.10657596]\n",
      "[2500.           22.67573696]\n",
      "9.808278651685395\n",
      "0.019909909451879045\n"
     ]
    }
   ],
   "source": [
    "\n",
    "# 求weighted mean ,9.536,10.328,,0.05,0.3\n",
    "x = [9.808,9.839]\n",
    "y = [0.02,0.21]\n",
    "L1 = x\n",
    "sigma_L1 = y\n",
    "L_sum_up = np.zeros_like(L1)\n",
    "L_sum_down = np.zeros_like(L1)\n",
    "weighted_mean = float\n",
    "weighted_sigma = float\n",
    "for i in range(0,2):\n",
    "    L_sum_up[i] = L1[i]/((sigma_L1[i])**2)\n",
    "    L_sum_down[i] = 1/((sigma_L1[i])**2)\n",
    "    print(L_sum_up)\n",
    "    print(L_sum_down)\n",
    "weighted_mean = np.sum(L_sum_up)/np.sum(L_sum_down)\n",
    "print(weighted_mean)\n",
    "weighted_sigma = np.sqrt(1/(np.sum(L_sum_down)))\n",
    "print(weighted_sigma)\n"
   ]
  }
 ],
 "metadata": {
  "kernelspec": {
   "display_name": "Python 3 (ipykernel)",
   "language": "python",
   "name": "python3"
  },
  "language_info": {
   "codemirror_mode": {
    "name": "ipython",
    "version": 3
   },
   "file_extension": ".py",
   "mimetype": "text/x-python",
   "name": "python",
   "nbconvert_exporter": "python",
   "pygments_lexer": "ipython3",
   "version": "3.9.7"
  }
 },
 "nbformat": 4,
 "nbformat_minor": 5
}
