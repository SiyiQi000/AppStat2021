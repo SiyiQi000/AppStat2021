{
 "cells": [
  {
   "cell_type": "code",
   "execution_count": 1,
   "id": "9b4a8f2d",
   "metadata": {
    "scrolled": true
   },
   "outputs": [],
   "source": [
    "import numpy as np                                     # Matlab like syntax for linear algebra and functions\n",
    "import matplotlib.pyplot as plt                        # Plots and figures like you know them from Matlab\n",
    "import seaborn as sns                                  # Make the plots nicer to look at\n",
    "from iminuit import Minuit                             # The actual fitting tool, better than scipy's\n",
    "import sys                                             # Module to see files and folders in directories\n",
    "from scipy import stats\n",
    "from scipy import optimize"
   ]
  },
  {
   "cell_type": "code",
   "execution_count": 2,
   "id": "66b25d42",
   "metadata": {
    "scrolled": true
   },
   "outputs": [],
   "source": [
    "sys.path.append('D:\\my github\\Siyi Applied Stats\\Documents for JN\\AppStat2021-main\\External_Functions\\\\')\n",
    "from ExternalFunctions import Chi2Regression\n",
    "from ExternalFunctions import nice_string_output, add_text_to_ax # useful functions to print fit results on figure"
   ]
  },
  {
   "cell_type": "code",
   "execution_count": 11,
   "id": "02418220",
   "metadata": {
    "scrolled": true
   },
   "outputs": [],
   "source": [
    "x = [4,5,6,7,8,9,10,11,12,13,14,15,16,17,18]   # x就是t\n",
    "y = [2116.13394981,1661.62732319,1510.94943673,1564.33941089,1549.46055443,1668.64267272,\n",
    "      1471.69451766,1384.44255949,1237.62536576,1182.76866341,854.64818975,755.06722035,\n",
    "      768.21039657,729.27447933,764.29501428]   # y就是位移s         "
   ]
  },
  {
   "cell_type": "code",
   "execution_count": 12,
   "id": "38db275c",
   "metadata": {},
   "outputs": [
    {
     "name": "stdout",
     "output_type": "stream",
     "text": [
      "[2539.36073977 1993.95278783 1813.13932408 1877.20729307 1859.35266532\n",
      " 2002.37120726 1766.03342119 1661.33107139 1485.15043891 1419.32239609\n",
      " 1025.5778277   906.08066442  921.85247588  875.1293752   917.15401714]\n"
     ]
    }
   ],
   "source": [
    "y = np.ones_like(y)*y*1.2\n",
    "print(y)"
   ]
  },
  {
   "cell_type": "code",
   "execution_count": 13,
   "id": "4097ad92",
   "metadata": {},
   "outputs": [
    {
     "name": "stdout",
     "output_type": "stream",
     "text": [
      "[4, 5, 6, 7, 8, 9, 10, 11, 12, 13, 14, 15, 16, 17, 18]\n",
      "[4, 5, 6, 7, 8, 9, 10, 11, 12, 13, 14, 15, 16, 17, 18]\n",
      "[2387 2228 2080 1941 1812 1691 1579 1474 1376 1284 1198 1119 1044  975\n",
      "  910]\n",
      "[2539.36073977 1993.95278783 1813.13932408 1877.20729307 1859.35266532\n",
      " 2002.37120726 1766.03342119 1661.33107139 1485.15043891 1419.32239609\n",
      " 1025.5778277   906.08066442  921.85247588  875.1293752   917.15401714]\n",
      "2705.0284974750402 0.7234935221624147 2.1847291217443088\n"
     ]
    }
   ],
   "source": [
    "# 这一段是用最小二乘法画出拟合曲线\n",
    "def fit_function(x,A,R,B):  #\n",
    "    return A*R**((x-B)/4.7)\n",
    "A1,R1,B1 = optimize.curve_fit(fit_function,x,y)[0]  # 最小二乘法拟合\n",
    "x1 = x\n",
    "print(x1)\n",
    "print(x)\n",
    "\n",
    "\n",
    "y1 = np.zeros_like(x1)\n",
    "for i in range(0,15):\n",
    "    y1[i] =  A1*R1**((x[i]-B1)/4.7)  # x1,y1是拟合值，x,y是观察值\n",
    "\n",
    "print(y1)\n",
    "print(y)\n",
    "print(A1,R1,B1)"
   ]
  },
  {
   "cell_type": "code",
   "execution_count": 14,
   "id": "e7e8a23d",
   "metadata": {},
   "outputs": [
    {
     "name": "stdout",
     "output_type": "stream",
     "text": [
      "2156.0666666666666\n",
      "46.433464943579935\n",
      "203\n"
     ]
    }
   ],
   "source": [
    "# 利用公式计算卡方\n",
    "Npoints = 15  # 5个样本\n",
    "sum1 = np.zeros_like(x)\n",
    "chi2 = np.zeros_like(x)\n",
    "sum2 = float\n",
    "sigmay = float\n",
    "ey = float\n",
    "\n",
    "for i in range(0,15):\n",
    "    sum1[i] = (y1[i]-y[i])**2  # sum1是各项(观察值-拟合值)平方的数组\n",
    "\n",
    "sum2 = np.sum(sum1)  # sum2是sum1各项的和\n",
    "sigmay = np.sqrt(sum2/(Npoints - 1))/np.sqrt(Npoints)  # sigmay是y的样本标准差  原来是sigmay = np.sqrt(sum2/(Npoints - 1))\n",
    "variancey = sigmay**2  # variancey是y的方差\n",
    "print(variancey)\n",
    "ey = sigmay\n",
    "print(ey)\n",
    "for j in range(0,15):\n",
    "    chi2[j] += sum1[j]/variancey  # 求各项chi2\n",
    "\n",
    "Chi2_fit = np.sum(chi2)  # 求和求chi2\n",
    "print(Chi2_fit)"
   ]
  },
  {
   "cell_type": "code",
   "execution_count": 15,
   "id": "6cc17db0",
   "metadata": {},
   "outputs": [
    {
     "name": "stdout",
     "output_type": "stream",
     "text": [
      "7.833747613564186e-37\n"
     ]
    }
   ],
   "source": [
    "# 求出可能性\n",
    "Nvar = 3\n",
    "Ndof_fit = Npoints - Nvar\n",
    "Prob_fit = stats.chi2.sf(Chi2_fit,Ndof_fit)\n",
    "print(Prob_fit)"
   ]
  },
  {
   "cell_type": "code",
   "execution_count": 16,
   "id": "bb09f789",
   "metadata": {
    "scrolled": false
   },
   "outputs": [
    {
     "name": "stderr",
     "output_type": "stream",
     "text": [
      "C:\\Users\\dell\\AppData\\Local\\Temp/ipykernel_16668/2066011341.py:4: UserWarning: color is redundantly defined by the 'color' keyword argument and the fmt string \"ro\" (-> color='r'). The keyword argument will take precedence.\n",
      "  plt.plot(x,y,'ro',markersize=3,color=\"black\")\n"
     ]
    },
    {
     "ename": "NameError",
     "evalue": "name 'ax' is not defined",
     "output_type": "error",
     "traceback": [
      "\u001b[1;31m---------------------------------------------------------------------------\u001b[0m",
      "\u001b[1;31mNameError\u001b[0m                                 Traceback (most recent call last)",
      "\u001b[1;32m~\\AppData\\Local\\Temp/ipykernel_16668/2066011341.py\u001b[0m in \u001b[0;36m<module>\u001b[1;34m\u001b[0m\n\u001b[0;32m     17\u001b[0m     }\n\u001b[0;32m     18\u001b[0m \u001b[0mtext\u001b[0m \u001b[1;33m=\u001b[0m \u001b[0mnice_string_output\u001b[0m\u001b[1;33m(\u001b[0m\u001b[0md\u001b[0m\u001b[1;33m,\u001b[0m \u001b[0mextra_spacing\u001b[0m\u001b[1;33m=\u001b[0m\u001b[1;36m2\u001b[0m\u001b[1;33m,\u001b[0m \u001b[0mdecimals\u001b[0m\u001b[1;33m=\u001b[0m\u001b[1;36m3\u001b[0m\u001b[1;33m)\u001b[0m\u001b[1;33m\u001b[0m\u001b[1;33m\u001b[0m\u001b[0m\n\u001b[1;32m---> 19\u001b[1;33m \u001b[0madd_text_to_ax\u001b[0m\u001b[1;33m(\u001b[0m\u001b[1;36m0.65\u001b[0m\u001b[1;33m,\u001b[0m \u001b[1;36m0.95\u001b[0m\u001b[1;33m,\u001b[0m \u001b[0mtext\u001b[0m\u001b[1;33m,\u001b[0m \u001b[0max\u001b[0m\u001b[1;33m,\u001b[0m \u001b[0mfontsize\u001b[0m\u001b[1;33m=\u001b[0m\u001b[1;36m20\u001b[0m\u001b[1;33m)\u001b[0m\u001b[1;33m\u001b[0m\u001b[1;33m\u001b[0m\u001b[0m\n\u001b[0m\u001b[0;32m     20\u001b[0m \u001b[1;33m\u001b[0m\u001b[0m\n\u001b[0;32m     21\u001b[0m \u001b[1;33m\u001b[0m\u001b[0m\n",
      "\u001b[1;31mNameError\u001b[0m: name 'ax' is not defined"
     ]
    },
    {
     "data": {
      "image/png": "[encoded data removed]",
      "text/plain": [
       "<Figure size 1152x432 with 1 Axes>"
      ]
     },
     "metadata": {
      "needs_background": "light"
     },
     "output_type": "display_data"
    }
   ],
   "source": [
    "\n",
    "# 画图\n",
    "fig = plt.subplots(figsize=(16, 6))\n",
    "\n",
    "plt.plot(x,y,'ro',markersize=3,color=\"black\")\n",
    "plt.xlabel('Date',fontsize=14)\n",
    "plt.ylabel('Scaled positives',fontsize=14)\n",
    "\n",
    "plt.plot(x1,y1,'r')\n",
    "\n",
    "d = {'a': \"2346.3909\",\n",
    "     'R': \"0.7235\",\n",
    "     'b': \"1.6026\",\n",
    " #    'sigma':       [minuit_chi2.values['sigma'], minuit_chi2.errors['sigma']],\n",
    "#     'Chi2':     chi2_value,\n",
    "#    'ndf':      Ndof_value,\n",
    "#     'Prob':     Prob_value,\n",
    "    }\n",
    "text = nice_string_output(d, extra_spacing=2, decimals=3)\n",
    "add_text_to_ax(0.65, 0.95, text, ax, fontsize=20)\n",
    "\n",
    "\n",
    "plt.savefig('fig1',dpi=600)\n"
   ]
  }
 ],
 "metadata": {
  "kernelspec": {
   "display_name": "Python 3 (ipykernel)",
   "language": "python",
   "name": "python3"
  },
  "language_info": {
   "codemirror_mode": {
    "name": "ipython",
    "version": 3
   },
   "file_extension": ".py",
   "mimetype": "text/x-python",
   "name": "python",
   "nbconvert_exporter": "python",
   "pygments_lexer": "ipython3",
   "version": "3.9.7"
  }
 },
 "nbformat": 4,
 "nbformat_minor": 5
}
