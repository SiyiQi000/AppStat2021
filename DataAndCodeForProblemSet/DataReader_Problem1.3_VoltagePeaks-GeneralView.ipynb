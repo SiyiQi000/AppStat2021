{
 "cells": [
  {
   "cell_type": "markdown",
   "metadata": {},
   "source": [
    "# Problem 1.3: Voltage Peaks - data reader\n",
    "\n",
    "The following is a small program to read the data file \"data_VoltagePeaks.txt\", which contains a single column: Voltage.\n",
    "\n",
    "### Author & Date: \n",
    "- Troels C. Petersen (Niels Bohr Institute)\n",
    "- 07-11-2021\n",
    "\n",
    "***"
   ]
  },
  {
   "cell_type": "code",
   "execution_count": 3,
   "metadata": {},
   "outputs": [],
   "source": [
    "import numpy as np                                     # Matlab like syntax for linear algebra and functions\n",
    "import matplotlib.pyplot as plt                        # Plots and figures like you know them from Matlab\n",
    "import seaborn as sns                                  # Make the plots nicer to look at\n",
    "from iminuit import Minuit                             # The actual fitting tool, better than scipy's\n",
    "import sys                                             # Module to see files and folders in directories\n",
    "from scipy import stats"
   ]
  },
  {
   "cell_type": "code",
   "execution_count": 4,
   "metadata": {},
   "outputs": [],
   "source": [
    "sys.path.append('D:\\my github\\Siyi Applied Stats\\Documents for JN\\AppStat2021-main\\External_Functions\\\\')\n",
    "from ExternalFunctions import UnbinnedLH, BinnedLH, Chi2Regression\n",
    "from ExternalFunctions import nice_string_output, add_text_to_ax # useful functions to print fit results on figure"
   ]
  },
  {
   "cell_type": "code",
   "execution_count": 5,
   "metadata": {
    "scrolled": true
   },
   "outputs": [
    {
     "name": "stdout",
     "output_type": "stream",
     "text": [
      "Number of entries:  1000000\n",
      "        1.119280\n",
      "        1.828920\n",
      "        0.797830\n",
      "        2.715827\n",
      "        1.496780\n",
      "       12.176045\n",
      "       24.154821\n",
      "        1.981145\n",
      "        0.677696\n",
      "        0.604801\n"
     ]
    }
   ],
   "source": [
    "# Read the data and print it to check it:\n",
    "voltage = np.loadtxt(\"data_VoltagePeaks.txt\")\n",
    "\n",
    "print(\"Number of entries: \", len(voltage))\n",
    "for i in range(10) : \n",
    "    print(f\"  {voltage[i]:14.6f}\")"
   ]
  },
  {
   "cell_type": "code",
   "execution_count": 6,
   "metadata": {},
   "outputs": [],
   "source": [
    "save_plots = False # For now, don't save plots (once you trust your code, switch on)\n",
    "verbose = True     # For now, print a lot of output (once you trust your code, switch off)\n",
    "Nverbose = 10      # But only print a lot for the first 10 random numbers"
   ]
  },
  {
   "cell_type": "code",
   "execution_count": 11,
   "metadata": {},
   "outputs": [
    {
     "name": "stdout",
     "output_type": "stream",
     "text": [
      "0.951786\n"
     ]
    }
   ],
   "source": [
    "print(951786/1000000)"
   ]
  },
  {
   "cell_type": "code",
   "execution_count": 18,
   "metadata": {
    "scrolled": false
   },
   "outputs": [
    {
     "name": "stdout",
     "output_type": "stream",
     "text": [
      "1.0\n",
      "998978\n",
      "<class 'numpy.ndarray'>\n"
     ]
    }
   ],
   "source": [
    "N_voltage = 84721  # 本图xmin, xmax = 2.5, 3.5范围内voltage点的个数\n",
    "Npeak = 7367     # Number of random Gaussian points\n",
    "Nbkg  = 77354   # Number of random Exponential points\n",
    "\n",
    "xmin, xmax = 0,1000  # 图表显示的范围\n",
    "Nbins = 1000\n",
    "binwidth = (xmax-xmin)/Nbins  #binwidth = (xmax-xmin)/Nbins\n",
    "print(binwidth)\n",
    "\n",
    "condition = (voltage<xmax)*(voltage>xmin)\n",
    "x_all = voltage[condition]  # x_2是本图xmin, xmax = 2.5, 3.5范围内voltage点,x是将x_2 binned后的\n",
    "print(np.size(x_all))\n",
    "print(type(x_all))\n",
    "\n",
    "# Find the x, y and error on y (sy) given the histogram:\n",
    "counts, bin_edges = np.histogram(x_all, bins=Nbins, range=(xmin, xmax))\n",
    "x = (bin_edges[1:][counts>0] + bin_edges[:-1][counts>0])/2\n",
    "y = counts[counts>0]\n",
    "sy = np.sqrt(counts[counts>0])   # NOTE: We (naturally) assume that the bin count is Poisson distributed.\n",
    "                       # This is an approximation, since there is a low count in the last bins.\n",
    "\n",
    "# print(np.where(y==177))\n"
   ]
  },
  {
   "cell_type": "code",
   "execution_count": 19,
   "metadata": {},
   "outputs": [
    {
     "data": {
      "image/png": "[encoded data removed]",
      "text/plain": [
       "<Figure size 1152x432 with 1 Axes>"
      ]
     },
     "metadata": {
      "needs_background": "light"
     },
     "output_type": "display_data"
    }
   ],
   "source": [
    "# Create just a single figure and axes, and a (classic) histogram:\n",
    "fig, ax = plt.subplots(figsize=(16, 6))  # figsize is in inches\n",
    "hist = ax.hist(x_all, bins=Nbins, range=(xmin, xmax), histtype='step', linewidth=1,color='red', label='Data, normal histogram')\n",
    "\n",
    "#ax.errorbar(x, y, yerr=sy, xerr=0.0, label='Data, with Poisson errors', fmt='.k',  ecolor='k', elinewidth=1, capsize=1, capthick=1)\n",
    "\n",
    "# Set the figure texts; xlabel, ylabel and title.\n",
    "ax.set(xlabel=\"voltage\",           # the label of the y axis\n",
    "       ylabel=\"Frequency\",           # the label of the y axis\n",
    "       title=\"Distribution of voltage\")    # the title of the plot\n",
    "ax.legend(loc='best', fontsize=14);       # could also be # loc = 'upper right' e.g.\n",
    "\n",
    "\n",
    "fig.savefig('fig1',dpi=600)"
   ]
  },
  {
   "cell_type": "code",
   "execution_count": 318,
   "metadata": {},
   "outputs": [],
   "source": [
    "def fit_pdf(x,A,B,C,D,E,F,G):\n",
    "    return A*x**6 + B*x**5 + C*x**4 + D*x**3 + E*x**2 + F*x**1 + G*x**0"
   ]
  },
  {
   "cell_type": "code",
   "execution_count": 319,
   "metadata": {},
   "outputs": [
    {
     "data": {
      "text/html": [
       "<table>\n",
       "    <tr>\n",
       "        <th colspan=\"5\" style=\"text-align:center\" title=\"Minimizer\"> Migrad </th>\n",
       "    </tr>\n",
       "    <tr>\n",
       "        <td colspan=\"2\" style=\"text-align:left\" title=\"Minimum value of function\"> FCN = 2.975e+04 </td>\n",
       "        <td colspan=\"3\" style=\"text-align:center\" title=\"No. of function evaluations in last call and total number\"> Nfcn = 260 </td>\n",
       "    </tr>\n",
       "    <tr>\n",
       "        <td colspan=\"2\" style=\"text-align:left\" title=\"Estimated distance to minimum and goal\"> EDM = 6.5e-10 (Goal: 0.0002) </td>\n",
       "        <td colspan=\"3\" style=\"text-align:center\" title=\"No. of gradient evaluations in last call and total number\">  </td>\n",
       "    </tr>\n",
       "    <tr>\n",
       "        <td colspan=\"2\" style=\"text-align:center;background-color:#92CCA6;color:black\"> Valid Minimum </td>\n",
       "        <td colspan=\"3\" style=\"text-align:center;background-color:#92CCA6;color:black\"> No Parameters at limit </td>\n",
       "    </tr>\n",
       "    <tr>\n",
       "        <td colspan=\"2\" style=\"text-align:center;background-color:#92CCA6;color:black\"> Below EDM threshold (goal x 10) </td>\n",
       "        <td colspan=\"3\" style=\"text-align:center;background-color:#92CCA6;color:black\"> Below call limit </td>\n",
       "    </tr>\n",
       "    <tr>\n",
       "        <td style=\"text-align:center;background-color:#92CCA6;color:black\"> Covariance </td>\n",
       "        <td style=\"text-align:center;background-color:#92CCA6;color:black\"> Hesse ok </td>\n",
       "        <td style=\"text-align:center;background-color:#FFF79A;color:black\" title=\"Is covariance matrix accurate?\"> APPROXIMATE </td>\n",
       "        <td style=\"text-align:center;background-color:#c15ef7;color:black\" title=\"Is covariance matrix positive definite?\"> NOT pos. def. </td>\n",
       "        <td style=\"text-align:center;background-color:#c15ef7;color:black\" title=\"Was positive definiteness enforced by Minuit?\"> FORCED </td>\n",
       "    </tr>\n",
       "</table><table>\n",
       "    <tr>\n",
       "        <td></td>\n",
       "        <th title=\"Variable name\"> Name </th>\n",
       "        <th title=\"Value of parameter\"> Value </th>\n",
       "        <th title=\"Hesse error\"> Hesse Error </th>\n",
       "        <th title=\"Minos lower error\"> Minos Error- </th>\n",
       "        <th title=\"Minos upper error\"> Minos Error+ </th>\n",
       "        <th title=\"Lower limit of the parameter\"> Limit- </th>\n",
       "        <th title=\"Upper limit of the parameter\"> Limit+ </th>\n",
       "        <th title=\"Is the parameter fixed in the fit\"> Fixed </th>\n",
       "    </tr>\n",
       "    <tr>\n",
       "        <th> 0 </th>\n",
       "        <td> A </td>\n",
       "        <td> -28.1543e3 </td>\n",
       "        <td> 0.0030e3 </td>\n",
       "        <td>  </td>\n",
       "        <td>  </td>\n",
       "        <td>  </td>\n",
       "        <td>  </td>\n",
       "        <td>  </td>\n",
       "    </tr>\n",
       "    <tr>\n",
       "        <th> 1 </th>\n",
       "        <td> B </td>\n",
       "        <td> 146.024e3 </td>\n",
       "        <td> 0.007e3 </td>\n",
       "        <td>  </td>\n",
       "        <td>  </td>\n",
       "        <td>  </td>\n",
       "        <td>  </td>\n",
       "        <td>  </td>\n",
       "    </tr>\n",
       "    <tr>\n",
       "        <th> 2 </th>\n",
       "        <td> C </td>\n",
       "        <td> -254.186e3 </td>\n",
       "        <td> 0.013e3 </td>\n",
       "        <td>  </td>\n",
       "        <td>  </td>\n",
       "        <td>  </td>\n",
       "        <td>  </td>\n",
       "        <td>  </td>\n",
       "    </tr>\n",
       "    <tr>\n",
       "        <th> 3 </th>\n",
       "        <td> D </td>\n",
       "        <td> 151.358e3 </td>\n",
       "        <td> 0.023e3 </td>\n",
       "        <td>  </td>\n",
       "        <td>  </td>\n",
       "        <td>  </td>\n",
       "        <td>  </td>\n",
       "        <td>  </td>\n",
       "    </tr>\n",
       "    <tr>\n",
       "        <th> 4 </th>\n",
       "        <td> E </td>\n",
       "        <td> -2.728e3 </td>\n",
       "        <td> 0.032e3 </td>\n",
       "        <td>  </td>\n",
       "        <td>  </td>\n",
       "        <td>  </td>\n",
       "        <td>  </td>\n",
       "        <td>  </td>\n",
       "    </tr>\n",
       "    <tr>\n",
       "        <th> 5 </th>\n",
       "        <td> F </td>\n",
       "        <td> -1.412e3 </td>\n",
       "        <td> 0.019e3 </td>\n",
       "        <td>  </td>\n",
       "        <td>  </td>\n",
       "        <td>  </td>\n",
       "        <td>  </td>\n",
       "        <td>  </td>\n",
       "    </tr>\n",
       "    <tr>\n",
       "        <th> 6 </th>\n",
       "        <td> G </td>\n",
       "        <td> 28.1 </td>\n",
       "        <td> 1.0 </td>\n",
       "        <td>  </td>\n",
       "        <td>  </td>\n",
       "        <td>  </td>\n",
       "        <td>  </td>\n",
       "        <td>  </td>\n",
       "    </tr>\n",
       "</table><table>\n",
       "    <tr>\n",
       "        <td></td>\n",
       "        <th> A </th>\n",
       "        <th> B </th>\n",
       "        <th> C </th>\n",
       "        <th> D </th>\n",
       "        <th> E </th>\n",
       "        <th> F </th>\n",
       "        <th> G </th>\n",
       "    </tr>\n",
       "    <tr>\n",
       "        <th> A </th>\n",
       "        <td> 8.91 </td>\n",
       "        <td style=\"background-color:rgb(163,163,250);color:black\"> -13.9 <strong>(-0.672)</strong> </td>\n",
       "        <td style=\"background-color:rgb(210,210,250);color:black\"> -12.3 <strong>(-0.311)</strong> </td>\n",
       "        <td style=\"background-color:rgb(250,250,250);color:black\"> 0.102 <strong>(0.002)</strong> </td>\n",
       "        <td style=\"background-color:rgb(250,210,210);color:black\"> 25.5 <strong>(0.270)</strong> </td>\n",
       "        <td style=\"background-color:rgb(248,248,250);color:black\"> -0.939 <strong>(-0.017)</strong> </td>\n",
       "        <td style=\"background-color:rgb(248,248,250);color:black\"> -0.0372 <strong>(-0.013)</strong> </td>\n",
       "    </tr>\n",
       "    <tr>\n",
       "        <th> B </th>\n",
       "        <td style=\"background-color:rgb(163,163,250);color:black\"> -13.9 <strong>(-0.672)</strong> </td>\n",
       "        <td> 48 </td>\n",
       "        <td style=\"background-color:rgb(209,209,250);color:black\"> -29.1 <strong>(-0.318)</strong> </td>\n",
       "        <td style=\"background-color:rgb(228,228,250);color:black\"> -26.8 <strong>(-0.171)</strong> </td>\n",
       "        <td style=\"background-color:rgb(250,246,246);color:black\"> 6.28 <strong>(0.029)</strong> </td>\n",
       "        <td style=\"background-color:rgb(250,242,242);color:black\"> 7.44 <strong>(0.057)</strong> </td>\n",
       "        <td style=\"background-color:rgb(245,245,250);color:black\"> -0.241 <strong>(-0.036)</strong> </td>\n",
       "    </tr>\n",
       "    <tr>\n",
       "        <th> C </th>\n",
       "        <td style=\"background-color:rgb(210,210,250);color:black\"> -12.3 <strong>(-0.311)</strong> </td>\n",
       "        <td style=\"background-color:rgb(209,209,250);color:black\"> -29.1 <strong>(-0.318)</strong> </td>\n",
       "        <td> 175 </td>\n",
       "        <td style=\"background-color:rgb(207,207,250);color:black\"> -98.2 <strong>(-0.329)</strong> </td>\n",
       "        <td style=\"background-color:rgb(220,220,250);color:black\"> -96.8 <strong>(-0.232)</strong> </td>\n",
       "        <td style=\"background-color:rgb(250,236,236);color:black\"> 24.2 <strong>(0.096)</strong> </td>\n",
       "        <td style=\"background-color:rgb(245,245,250);color:black\"> -0.49 <strong>(-0.039)</strong> </td>\n",
       "    </tr>\n",
       "    <tr>\n",
       "        <th> D </th>\n",
       "        <td style=\"background-color:rgb(250,250,250);color:black\"> 0.102 <strong>(0.002)</strong> </td>\n",
       "        <td style=\"background-color:rgb(228,228,250);color:black\"> -26.8 <strong>(-0.171)</strong> </td>\n",
       "        <td style=\"background-color:rgb(207,207,250);color:black\"> -98.2 <strong>(-0.329)</strong> </td>\n",
       "        <td> 510 </td>\n",
       "        <td style=\"background-color:rgb(168,168,250);color:black\"> -448 <strong>(-0.627)</strong> </td>\n",
       "        <td style=\"background-color:rgb(250,242,242);color:black\"> 22.6 <strong>(0.053)</strong> </td>\n",
       "        <td style=\"background-color:rgb(250,248,248);color:black\"> 0.277 <strong>(0.013)</strong> </td>\n",
       "    </tr>\n",
       "    <tr>\n",
       "        <th> E </th>\n",
       "        <td style=\"background-color:rgb(250,210,210);color:black\"> 25.5 <strong>(0.270)</strong> </td>\n",
       "        <td style=\"background-color:rgb(250,246,246);color:black\"> 6.28 <strong>(0.029)</strong> </td>\n",
       "        <td style=\"background-color:rgb(220,220,250);color:black\"> -96.8 <strong>(-0.232)</strong> </td>\n",
       "        <td style=\"background-color:rgb(168,168,250);color:black\"> -448 <strong>(-0.627)</strong> </td>\n",
       "        <td> 1e+03 </td>\n",
       "        <td style=\"background-color:rgb(173,173,250);color:black\"> -354 <strong>(-0.589)</strong> </td>\n",
       "        <td style=\"background-color:rgb(250,205,205);color:black\"> 9.06 <strong>(0.299)</strong> </td>\n",
       "    </tr>\n",
       "    <tr>\n",
       "        <th> F </th>\n",
       "        <td style=\"background-color:rgb(248,248,250);color:black\"> -0.939 <strong>(-0.017)</strong> </td>\n",
       "        <td style=\"background-color:rgb(250,242,242);color:black\"> 7.44 <strong>(0.057)</strong> </td>\n",
       "        <td style=\"background-color:rgb(250,236,236);color:black\"> 24.2 <strong>(0.096)</strong> </td>\n",
       "        <td style=\"background-color:rgb(250,242,242);color:black\"> 22.6 <strong>(0.053)</strong> </td>\n",
       "        <td style=\"background-color:rgb(173,173,250);color:black\"> -354 <strong>(-0.589)</strong> </td>\n",
       "        <td> 360 </td>\n",
       "        <td style=\"background-color:rgb(169,169,250);color:black\"> -11.3 <strong>(-0.622)</strong> </td>\n",
       "    </tr>\n",
       "    <tr>\n",
       "        <th> G </th>\n",
       "        <td style=\"background-color:rgb(248,248,250);color:black\"> -0.0372 <strong>(-0.013)</strong> </td>\n",
       "        <td style=\"background-color:rgb(245,245,250);color:black\"> -0.241 <strong>(-0.036)</strong> </td>\n",
       "        <td style=\"background-color:rgb(245,245,250);color:black\"> -0.49 <strong>(-0.039)</strong> </td>\n",
       "        <td style=\"background-color:rgb(250,248,248);color:black\"> 0.277 <strong>(0.013)</strong> </td>\n",
       "        <td style=\"background-color:rgb(250,205,205);color:black\"> 9.06 <strong>(0.299)</strong> </td>\n",
       "        <td style=\"background-color:rgb(169,169,250);color:black\"> -11.3 <strong>(-0.622)</strong> </td>\n",
       "        <td> 0.921 </td>\n",
       "    </tr>\n",
       "</table>"
      ],
      "text/plain": [
       "┌─────────────────────────────────────────────────────────────────────────┐\n",
       "│                                Migrad                                   │\n",
       "├──────────────────────────────────┬──────────────────────────────────────┤\n",
       "│ FCN = 2.975e+04                  │              Nfcn = 260              │\n",
       "│ EDM = 6.5e-10 (Goal: 0.0002)     │                                      │\n",
       "├──────────────────────────────────┼──────────────────────────────────────┤\n",
       "│          Valid Minimum           │        No Parameters at limit        │\n",
       "├──────────────────────────────────┼──────────────────────────────────────┤\n",
       "│ Below EDM threshold (goal x 10)  │           Below call limit           │\n",
       "├───────────────┬──────────────────┼───────────┬─────────────┬────────────┤\n",
       "│  Covariance   │     Hesse ok     │APPROXIMATE│NOT pos. def.│   FORCED   │\n",
       "└───────────────┴──────────────────┴───────────┴─────────────┴────────────┘\n",
       "┌───┬──────┬───────────┬───────────┬────────────┬────────────┬─────────┬─────────┬───────┐\n",
       "│   │ Name │   Value   │ Hesse Err │ Minos Err- │ Minos Err+ │ Limit-  │ Limit+  │ Fixed │\n",
       "├───┼──────┼───────────┼───────────┼────────────┼────────────┼─────────┼─────────┼───────┤\n",
       "│ 0 │ A    │-28.1543e3 │ 0.0030e3  │            │            │         │         │       │\n",
       "│ 1 │ B    │ 146.024e3 │  0.007e3  │            │            │         │         │       │\n",
       "│ 2 │ C    │-254.186e3 │  0.013e3  │            │            │         │         │       │\n",
       "│ 3 │ D    │ 151.358e3 │  0.023e3  │            │            │         │         │       │\n",
       "│ 4 │ E    │ -2.728e3  │  0.032e3  │            │            │         │         │       │\n",
       "│ 5 │ F    │ -1.412e3  │  0.019e3  │            │            │         │         │       │\n",
       "│ 6 │ G    │   28.1    │    1.0    │            │            │         │         │       │\n",
       "└───┴──────┴───────────┴───────────┴────────────┴────────────┴─────────┴─────────┴───────┘\n",
       "┌───┬─────────────────────────────────────────────────────────┐\n",
       "│   │       A       B       C       D       E       F       G │\n",
       "├───┼─────────────────────────────────────────────────────────┤\n",
       "│ A │    8.91   -13.9   -12.3   0.102    25.5  -0.939 -0.0372 │\n",
       "│ B │   -13.9      48   -29.1   -26.8    6.28    7.44  -0.241 │\n",
       "│ C │   -12.3   -29.1     175   -98.2   -96.8    24.2   -0.49 │\n",
       "│ D │   0.102   -26.8   -98.2     510    -448    22.6   0.277 │\n",
       "│ E │    25.5    6.28   -96.8    -448   1e+03    -354    9.06 │\n",
       "│ F │  -0.939    7.44    24.2    22.6    -354     360   -11.3 │\n",
       "│ G │ -0.0372  -0.241   -0.49   0.277    9.06   -11.3   0.921 │\n",
       "└───┴─────────────────────────────────────────────────────────┘"
      ]
     },
     "execution_count": 319,
     "metadata": {},
     "output_type": "execute_result"
    }
   ],
   "source": [
    "Minuit.print_level = 1    # Print result of fits (generally - can also be moved down to each fit instance)\n",
    "\n",
    "# Defining Chi2 calculation:\n",
    "def chi2_owncalc(A,B,C,D,E,F,G) :\n",
    "    y_fit = fit_pdf(x,A,B,C,D,E,F,G)\n",
    "    chi2 = np.sum(((y - y_fit) / sy)**2)\n",
    "    return chi2\n",
    "\n",
    "# Alternatively, use the Chi2 regression from External Functions:\n",
    "chi2fit = Chi2Regression(fit_pdf, x, y, sy)\n",
    "\n",
    "minuit_chi2 = Minuit(chi2_owncalc,A=2,B=2,C=2,D=2,E=2,F=2,G=2) \n",
    "minuit_chi2.errordef = 1.0     # This is the definition for ChiSqaure fits\n",
    "minuit_chi2.migrad()           # This is where the minimisation is carried out! Put \";\" at the end to void output"
   ]
  },
  {
   "cell_type": "code",
   "execution_count": 310,
   "metadata": {},
   "outputs": [
    {
     "name": "stdout",
     "output_type": "stream",
     "text": [
      "  WARNING: The ChiSquare fit DID NOT converge!!! \n",
      "Fit value: a = 12860.20010 +/- 18.99718\n",
      "Fit value: mu = 0.02534 +/- 0.00108\n",
      "Fit value: sigma = 0.50059 +/- 0.00068\n",
      "Chi2 value: 13390.1   Ndof = 97    Prob(Chi2,Ndof) = 0.000\n"
     ]
    }
   ],
   "source": [
    "# First, check if the result was a valid minimum:\n",
    "if (not minuit_chi2.fmin.is_valid) :\n",
    "    print(\"  WARNING: The ChiSquare fit DID NOT converge!!! \")    \n",
    "    \n",
    "# Short hand way of accessing the fit parameters:\n",
    "fit_a,fit_mu, fit_sigma = minuit_chi2.values[:]   # The fitted values of the parameters\n",
    "\n",
    "# Loop to get both parameter values and uncertainties:\n",
    "for name in minuit_chi2.parameters :\n",
    "    value, error = minuit_chi2.values[name], minuit_chi2.errors[name]\n",
    "    print(f\"Fit value: {name} = {value:.5f} +/- {error:.5f}\")\n",
    "\n",
    "# Get Chi2 value:\n",
    "chi2_value = minuit_chi2.fval            # The value minimised, i.e. Chi2 or -2*LogLikeliHood (LLH) value\n",
    "\n",
    "# Get number of degrees-of-freedom (Ndof):\n",
    "N_NotEmptyBin = np.sum(y > 0)\n",
    "Ndof_value = N_NotEmptyBin - minuit_chi2.nfit\n",
    "\n",
    "Prob_value = stats.chi2.sf(chi2_value, Ndof_value) # The chi2 probability given N_DOF degrees of freedom\n",
    "print(f\"Chi2 value: {chi2_value:.1f}   Ndof = {Ndof_value:.0f}    Prob(Chi2,Ndof) = {Prob_value:5.3f}\")"
   ]
  },
  {
   "cell_type": "code",
   "execution_count": 311,
   "metadata": {},
   "outputs": [
    {
     "name": "stderr",
     "output_type": "stream",
     "text": [
      "C:\\Users\\dell\\AppData\\Local\\Temp/ipykernel_476/3963841359.py:2: RuntimeWarning: divide by zero encountered in true_divide\n",
      "  return a / x * 1. / (sigma * np.sqrt( 2. * np.pi ) ) * np.exp( -( np.log( x ) - mu )**2 / ( 2. * sigma**2 ) )\n",
      "C:\\Users\\dell\\AppData\\Local\\Temp/ipykernel_476/3963841359.py:2: RuntimeWarning: divide by zero encountered in log\n",
      "  return a / x * 1. / (sigma * np.sqrt( 2. * np.pi ) ) * np.exp( -( np.log( x ) - mu )**2 / ( 2. * sigma**2 ) )\n",
      "C:\\Users\\dell\\AppData\\Local\\Temp/ipykernel_476/3963841359.py:2: RuntimeWarning: invalid value encountered in multiply\n",
      "  return a / x * 1. / (sigma * np.sqrt( 2. * np.pi ) ) * np.exp( -( np.log( x ) - mu )**2 / ( 2. * sigma**2 ) )\n"
     ]
    },
    {
     "data": {
      "image/png": "[encoded data removed]",
      "text/plain": [
       "<Figure size 1152x432 with 1 Axes>"
      ]
     },
     "metadata": {
      "needs_background": "light"
     },
     "output_type": "display_data"
    }
   ],
   "source": [
    "\n",
    "# Create just a single figure and axes, along with a histogram with uncertainties:\n",
    "fig, ax = plt.subplots(figsize=(16, 6))  # figsize is in inches\n",
    "ax.errorbar(x, y, yerr=sy, xerr=0.0, label='Data, with Poisson errors', fmt='.k',  ecolor='k', elinewidth=1, capsize=1, capthick=1)\n",
    "\n",
    "# Set the figure texts; xlabel, ylabel and title.\n",
    "ax.set(xlabel=\"voltage\", # the label of the y axis\n",
    "       ylabel=\"Frequency\",  # the label of the y axis\n",
    "       title=\"Distribution of voltage\", # the title of the plot\n",
    "       ylim=[0.0,None]) # Setting the miminum to zero\n",
    "\n",
    "# Adding fit function to plot:\n",
    "x_axis = np.linspace(xmin,xmax, 1000)\n",
    "ax.plot(x_axis, fit_pdf(x_axis, *minuit_chi2.values[:]), '-r', label='Chi2 fit model result') \n",
    "\n",
    "# Adding fit results to plot:\n",
    "d = {'a':   [minuit_chi2.values['a'], minuit_chi2.errors['a']],\n",
    "     'mu':       [minuit_chi2.values['mu'], minuit_chi2.errors['mu']],\n",
    "     'sigma':    [minuit_chi2.values['sigma'], minuit_chi2.errors['sigma']],\n",
    "     'Chi2':     chi2_value,\n",
    "     'ndf':      Ndof_value,\n",
    "     'Prob':     Prob_value,\n",
    "    }\n",
    "\n",
    "\n",
    "#\"%e\" %\n",
    "text = nice_string_output(d, extra_spacing=2, decimals=3)\n",
    "add_text_to_ax(0.72, 0.95, text, ax, fontsize=14)\n",
    "ax.legend(loc='lower left', fontsize=14); # could also be # loc = 'upper right' e.g.\n",
    "fig.tight_layout()\n",
    "fig.savefig('fig2',dpi=600)"
   ]
  }
 ],
 "metadata": {
  "executable": "/usr/bin/env python",
  "kernelspec": {
   "display_name": "Python 3 (ipykernel)",
   "language": "python",
   "name": "python3"
  },
  "language_info": {
   "codemirror_mode": {
    "name": "ipython",
    "version": 3
   },
   "file_extension": ".py",
   "mimetype": "text/x-python",
   "name": "python",
   "nbconvert_exporter": "python",
   "pygments_lexer": "ipython3",
   "version": "3.9.7"
  },
  "main_language": "python"
 },
 "nbformat": 4,
 "nbformat_minor": 2
}
