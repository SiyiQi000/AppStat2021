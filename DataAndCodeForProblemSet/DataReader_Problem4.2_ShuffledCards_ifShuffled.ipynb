{
 "cells": [
  {
   "cell_type": "markdown",
   "metadata": {},
   "source": [
    "# Problem 4.2: Shuffled Cards - data reader\n",
    "\n",
    "The following is a small program to read the data file \"data_ShuffledCards.txt\", which contains four columns: Number in deck, Card name, Value, and Suit.\n",
    "\n",
    "### Author & Date: \n",
    "- Troels C. Petersen (Niels Bohr Institute)\n",
    "- 07-11-2021\n",
    "\n",
    "***"
   ]
  },
  {
   "cell_type": "code",
   "execution_count": 20,
   "metadata": {},
   "outputs": [],
   "source": [
    "import numpy as np                                     # Matlab like syntax for linear algebra and functions\n",
    "import matplotlib.pyplot as plt                        # Plots and figures like you know them from Matlab\n",
    "import seaborn as sns                                  # Make the plots nicer to look at\n",
    "from iminuit import Minuit                             # The actual fitting tool, better than scipy's\n",
    "import sys                                             # Module to see files and folders in directories\n",
    "from scipy import stats\n",
    "import random"
   ]
  },
  {
   "cell_type": "code",
   "execution_count": 21,
   "metadata": {},
   "outputs": [],
   "source": [
    "sys.path.append('D:\\my github\\Siyi Applied Stats\\Documents for JN\\AppStat2021-main\\External_Functions\\\\')\n",
    "from ExternalFunctions import UnbinnedLH, BinnedLH, Chi2Regression\n",
    "from ExternalFunctions import nice_string_output, add_text_to_ax # useful functions to print fit results on figure"
   ]
  },
  {
   "cell_type": "code",
   "execution_count": 22,
   "metadata": {},
   "outputs": [
    {
     "data": {
      "text/plain": [
       "'\\nprint(\"Number of entries: \", len(number))\\nfor i in range(len(number)) : \\n    print(f\"  {int(number[i]):2.0f}:  {value[i]:4.0f}   {suit[i]:3.0f}\")\\n'"
      ]
     },
     "execution_count": 22,
     "metadata": {},
     "output_type": "execute_result"
    }
   ],
   "source": [
    "# Read the data and print it to check it:\n",
    "import numpy as np\n",
    "\n",
    "data = np.genfromtxt(\"./data_ShuffledCards.txt\", skip_header=2)\n",
    "number = data[:,0]\n",
    "value = data[:,4]\n",
    "suit = data[:,5]\n",
    "'''\n",
    "print(\"Number of entries: \", len(number))\n",
    "for i in range(len(number)) : \n",
    "    print(f\"  {int(number[i]):2.0f}:  {value[i]:4.0f}   {suit[i]:3.0f}\")\n",
    "'''"
   ]
  },
  {
   "cell_type": "code",
   "execution_count": 23,
   "metadata": {
    "scrolled": false
   },
   "outputs": [],
   "source": [
    "N_Group = 100  # 100组\n",
    "N_experiment = 200  # 1000次试验\n",
    "N = 4\n",
    "\n",
    "d_value = np.zeros(N)\n",
    "d_Group = []\n",
    "sum_1 = []\n",
    "\n",
    "for i_2 in range(0,N_experiment):\n",
    "\n",
    "    for j in range(0,N_Group):  # 1000组\n",
    "        draw_out = random.choices(data, k=4)  # 随机抽4张牌\n",
    "\n",
    "        for k in range (0,4):\n",
    "            d_value[k] = draw_out[k][4]\n",
    "        d_Group = np.append(d_Group,d_value)\n"
   ]
  },
  {
   "cell_type": "code",
   "execution_count": 24,
   "metadata": {},
   "outputs": [],
   "source": [
    "# Fill 1d histograms:\n",
    "def create_1d_hist(ax, values, bins, x_range, title):\n",
    "    ax.hist(values, bins, x_range, histtype='step', density=False, lw=2)         \n",
    "    ax.set(xlim=x_range, title=title)\n",
    "    hist_data = np.histogram(values, bins, x_range)\n",
    "    return hist_data\n",
    "\n",
    "# Calculate the ChiSquare value for comparison of histogram with constant.\n",
    "# This is not a fit, as there are no free parameters: We know the number of events and bins!\n",
    "def get_chi2_ndf( hist, const):\n",
    "    data = hist[0]\n",
    "    const_unnormed = const * data.sum()\n",
    "    chi2 = np.sum( (data - const_unnormed)**2 / data )\n",
    "    ndof = data.size\n",
    "    return chi2, ndof"
   ]
  },
  {
   "cell_type": "code",
   "execution_count": 25,
   "metadata": {},
   "outputs": [
    {
     "name": "stdout",
     "output_type": "stream",
     "text": [
      "73879 80000\n"
     ]
    },
    {
     "data": {
      "image/png": "[encoded data removed]",
      "text/plain": [
       "<Figure size 1080x360 with 3 Axes>"
      ]
     },
     "metadata": {
      "needs_background": "light"
     },
     "output_type": "display_data"
    }
   ],
   "source": [
    "a_array = []\n",
    "\n",
    "for m in range(0,N_Group*N_experiment*N):\n",
    "    if d_Group[m] != 8:\n",
    "        a_array = np.append(a_array,d_Group[m])\n",
    "\n",
    "fig, ax = plt.subplots(nrows=1, ncols=3, figsize=(15, 5))\n",
    "ax_number, ax_odd_even, ax_high_low = ax.flatten()\n",
    "\n",
    "print(a_array.size,d_Group.size)\n",
    "# Fill 1d histograms and plot them:\n",
    "hist_numbers  = create_1d_hist(ax_number,   d_Group,     13, (1, 15), 'Numbers posted')                # Plot all digits\n",
    "hist_odd_even = create_1d_hist(ax_odd_even, a_array % 2,  2, (-0.5, 1.5), 'Even and odd numbers')          # Is number even or odd\n",
    "hist_high_low = create_1d_hist(ax_high_low, a_array // 8, 2, (-0.5, 1.5), 'Above or below 8') # Is number >= or < 5\n",
    "fig.tight_layout()\n",
    "fig.savefig(\"ifShuffled.png\", dpi=600)"
   ]
  },
  {
   "cell_type": "code",
   "execution_count": 26,
   "metadata": {},
   "outputs": [
    {
     "name": "stdout",
     "output_type": "stream",
     "text": [
      "(8.31307475793907, 13)\n"
     ]
    }
   ],
   "source": [
    "chi2_ndf_number_hist   = get_chi2_ndf( hist_numbers,  1.0 / 13)\n",
    "chi2_ndf_odd_even_hist = get_chi2_ndf( hist_odd_even, 1.0 / 2 )\n",
    "chi2_ndf_high_low_hist = get_chi2_ndf( hist_high_low, 1.0 / 2 )\n",
    "print(chi2_ndf_number_hist)"
   ]
  },
  {
   "cell_type": "code",
   "execution_count": 27,
   "metadata": {
    "scrolled": false
   },
   "outputs": [
    {
     "name": "stdout",
     "output_type": "stream",
     "text": [
      "Compatability that distributions stem from random numbers : \n",
      "Raw digits: Prob(Chi2=  8.31, Ndof=13) = 0.82262279\n",
      "Odd/Even:   Prob(Chi2=  0.08, Ndof= 2) = 0.95864157\n",
      "High/Low:   Prob(Chi2=  0.33, Ndof= 2) = 0.84993308\n"
     ]
    }
   ],
   "source": [
    "# Write your result: \n",
    "print(\"Compatability that distributions stem from random numbers : \")\n",
    "print(\"Raw digits: Prob(Chi2={:6.2f}, Ndof={:2d}) = {:10.8f}\".format(chi2_ndf_number_hist[0], chi2_ndf_number_hist[1], \n",
    "                                                             stats.chi2.sf(chi2_ndf_number_hist[0], chi2_ndf_number_hist[1])))\n",
    "print(\"Odd/Even:   Prob(Chi2={:6.2f}, Ndof={:2d}) = {:10.8f}\".format(chi2_ndf_odd_even_hist[0], chi2_ndf_odd_even_hist[1], \n",
    "                                                             stats.chi2.sf(chi2_ndf_odd_even_hist[0], chi2_ndf_odd_even_hist[1])))\n",
    "print(\"High/Low:   Prob(Chi2={:6.2f}, Ndof={:2d}) = {:10.8f}\".format(chi2_ndf_high_low_hist[0], chi2_ndf_high_low_hist[1], \n",
    "                                                             stats.chi2.sf(chi2_ndf_high_low_hist[0], chi2_ndf_high_low_hist[1])))"
   ]
  }
 ],
 "metadata": {
  "executable": "/usr/bin/env python",
  "kernelspec": {
   "display_name": "Python 3 (ipykernel)",
   "language": "python",
   "name": "python3"
  },
  "language_info": {
   "codemirror_mode": {
    "name": "ipython",
    "version": 3
   },
   "file_extension": ".py",
   "mimetype": "text/x-python",
   "name": "python",
   "nbconvert_exporter": "python",
   "pygments_lexer": "ipython3",
   "version": "3.9.7"
  },
  "main_language": "python"
 },
 "nbformat": 4,
 "nbformat_minor": 2
}
