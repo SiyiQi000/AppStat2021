{
 "cells": [
  {
   "cell_type": "markdown",
   "metadata": {},
   "source": [
    "# Problem 4.2: Shuffled Cards - data reader\n",
    "\n",
    "The following is a small program to read the data file \"data_ShuffledCards.txt\", which contains four columns: Number in deck, Card name, Value, and Suit.\n",
    "\n",
    "### Author & Date: \n",
    "- Troels C. Petersen (Niels Bohr Institute)\n",
    "- 07-11-2021\n",
    "\n",
    "***"
   ]
  },
  {
   "cell_type": "code",
   "execution_count": 283,
   "metadata": {},
   "outputs": [],
   "source": [
    "import numpy as np                                     # Matlab like syntax for linear algebra and functions\n",
    "import matplotlib.pyplot as plt                        # Plots and figures like you know them from Matlab\n",
    "import seaborn as sns                                  # Make the plots nicer to look at\n",
    "from iminuit import Minuit                             # The actual fitting tool, better than scipy's\n",
    "import sys                                             # Module to see files and folders in directories\n",
    "from scipy import stats\n",
    "import random"
   ]
  },
  {
   "cell_type": "code",
   "execution_count": 284,
   "metadata": {},
   "outputs": [],
   "source": [
    "sys.path.append('D:\\my github\\Siyi Applied Stats\\Documents for JN\\AppStat2021-main\\External_Functions\\\\')\n",
    "from ExternalFunctions import UnbinnedLH, BinnedLH, Chi2Regression\n",
    "from ExternalFunctions import nice_string_output, add_text_to_ax # useful functions to print fit results on figure"
   ]
  },
  {
   "cell_type": "code",
   "execution_count": 285,
   "metadata": {},
   "outputs": [
    {
     "data": {
      "text/plain": [
       "'\\nprint(\"Number of entries: \", len(number))\\nfor i in range(len(number)) : \\n    print(f\"  {int(number[i]):2.0f}:  {value[i]:4.0f}   {suit[i]:3.0f}\")\\n'"
      ]
     },
     "execution_count": 285,
     "metadata": {},
     "output_type": "execute_result"
    }
   ],
   "source": [
    "# Read the data and print it to check it:\n",
    "import numpy as np\n",
    "\n",
    "data = np.genfromtxt(\"./data_ShuffledCards.txt\", skip_header=2)\n",
    "number = data[:,0]\n",
    "value = data[:,4]\n",
    "suit = data[:,5]\n",
    "'''\n",
    "print(\"Number of entries: \", len(number))\n",
    "for i in range(len(number)) : \n",
    "    print(f\"  {int(number[i]):2.0f}:  {value[i]:4.0f}   {suit[i]:3.0f}\")\n",
    "'''"
   ]
  },
  {
   "cell_type": "code",
   "execution_count": 356,
   "metadata": {
    "scrolled": false
   },
   "outputs": [
    {
     "name": "stdout",
     "output_type": "stream",
     "text": [
      "172 1\n",
      "173\n",
      "0.00021625\n"
     ]
    }
   ],
   "source": [
    "N_Group = 200000  # 100组\n",
    "N_experiment = 1  # 不知道为什么这里失效了，所以为1\n",
    "N = 4\n",
    "'''\n",
    "def judgeRepeated(array):   # 判断数组中是否有重复数据\n",
    "    if len(set(array))==len(array):\n",
    "        return False\n",
    "    else:\n",
    "        return True\n",
    "'''\n",
    "d_value = np.zeros(N)\n",
    "d_number = np.zeros(N)\n",
    "d_Group = []\n",
    "sum_1 = []\n",
    "j = 0\n",
    "'''\n",
    "while i < 10:\n",
    "    # break 某一条件满足时，退出循环，不再执行后续重复的代码\n",
    "    # i == 3\n",
    "    if i == 3:\n",
    "        break\n",
    " \n",
    "    print(i)\n",
    " \n",
    "    i += 1\n",
    "\n",
    "'''\n",
    "for i_2 in range(0,N_experiment):   # 不知道为什么这里失效了\n",
    "    \n",
    "    while j < N_Group:  # 1000组\n",
    "        draw_out = random.choices(data, k=4)  # 随机抽4张牌\n",
    "        \n",
    "        for k in range (0,4):\n",
    "            d_value[k] = draw_out[k][4]\n",
    "            d_number[k] = draw_out[k][0]\n",
    "        \n",
    "  #      if len(set(d_number))==len(d_number):         \n",
    "        while len(set(d_number))==len(d_number):    # 判断数组中是否有重复数据。注意要判断的是牌的编号而不是牌面数字                          \n",
    "            d_Group = np.append(d_Group,d_value)\n",
    "            #print(d_Group)\n",
    "            j = j+1\n",
    "            break\n",
    "        else:\n",
    "            continue\n",
    "\n",
    "        a = d_Group == 14  # 实际是进行bool判断\n",
    "        #print(sum(a))  # Group的四个中有几个Ace\n",
    "        sum_1 = np.append(sum_1,sum(a))  # 不知道为什么这里报错\n",
    "        d_Group = []\n",
    "\n",
    "'''\n",
    "print(sum_1)        \n",
    "number1 = sum_1 == 0  # 4次至少1次为Ace的频数\n",
    "number1 = sum(number1)\n",
    "print(number1)        \n",
    "'''\n",
    "\n",
    "number3 = sum_1 ==3    # 4次中有3个Ace的频数\n",
    "number3 = sum(number3)\n",
    "number4 = sum_1 ==4    # 4次中有4个Ace的频数\n",
    "number4 = sum(number4)\n",
    "sum_number = number3 +number4    # 4次中有3或3个以上Ace的频数\n",
    "\n",
    "\n",
    "ratio = sum_number/ (N_Group * N_experiment *N)\n",
    "print(number3,number4)\n",
    "print(sum_number)\n",
    "print(ratio)\n"
   ]
  }
 ],
 "metadata": {
  "executable": "/usr/bin/env python",
  "kernelspec": {
   "display_name": "Python 3 (ipykernel)",
   "language": "python",
   "name": "python3"
  },
  "language_info": {
   "codemirror_mode": {
    "name": "ipython",
    "version": 3
   },
   "file_extension": ".py",
   "mimetype": "text/x-python",
   "name": "python",
   "nbconvert_exporter": "python",
   "pygments_lexer": "ipython3",
   "version": "3.9.7"
  },
  "main_language": "python"
 },
 "nbformat": 4,
 "nbformat_minor": 2
}
