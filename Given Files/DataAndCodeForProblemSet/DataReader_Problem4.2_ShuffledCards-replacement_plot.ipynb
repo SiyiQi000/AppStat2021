{
 "cells": [
  {
   "cell_type": "markdown",
   "metadata": {},
   "source": [
    "# Problem 4.2: Shuffled Cards - data reader\n",
    "\n",
    "The following is a small program to read the data file \"data_ShuffledCards.txt\", which contains four columns: Number in deck, Card name, Value, and Suit.\n",
    "\n",
    "### Author & Date: \n",
    "- Troels C. Petersen (Niels Bohr Institute)\n",
    "- 07-11-2021\n",
    "\n",
    "***"
   ]
  },
  {
   "cell_type": "code",
   "execution_count": 2,
   "metadata": {},
   "outputs": [],
   "source": [
    "import numpy as np                                     # Matlab like syntax for linear algebra and functions\n",
    "import matplotlib.pyplot as plt                        # Plots and figures like you know them from Matlab\n",
    "import seaborn as sns                                  # Make the plots nicer to look at\n",
    "from iminuit import Minuit                             # The actual fitting tool, better than scipy's\n",
    "import sys                                             # Module to see files and folders in directories\n",
    "from scipy import stats\n",
    "import random"
   ]
  },
  {
   "cell_type": "code",
   "execution_count": 3,
   "metadata": {},
   "outputs": [],
   "source": [
    "sys.path.append('D:\\my github\\Siyi Applied Stats\\Documents for JN\\AppStat2021-main\\External_Functions\\\\')\n",
    "from ExternalFunctions import UnbinnedLH, BinnedLH, Chi2Regression\n",
    "from ExternalFunctions import nice_string_output, add_text_to_ax # useful functions to print fit results on figure"
   ]
  },
  {
   "cell_type": "code",
   "execution_count": 4,
   "metadata": {},
   "outputs": [
    {
     "name": "stdout",
     "output_type": "stream",
     "text": [
      "Number of entries:  52\n",
      "   1:    13     4\n",
      "   2:     9     1\n",
      "   3:    14     2\n",
      "   4:    12     4\n",
      "   5:    11     4\n",
      "   6:     8     1\n",
      "   7:    13     2\n",
      "   8:     8     4\n",
      "   9:    10     4\n",
      "  10:     7     1\n",
      "  11:    11     2\n",
      "  12:     7     4\n",
      "  13:     9     4\n",
      "  14:     5     1\n",
      "  15:    10     2\n",
      "  16:     3     4\n",
      "  17:     6     4\n",
      "  18:     4     1\n",
      "  19:     7     2\n",
      "  20:     2     2\n",
      "  21:     5     4\n",
      "  22:     3     1\n",
      "  23:     6     2\n",
      "  24:    13     1\n",
      "  25:     4     4\n",
      "  26:     2     1\n",
      "  27:     5     2\n",
      "  28:    11     3\n",
      "  29:    14     3\n",
      "  30:     9     2\n",
      "  31:     2     4\n",
      "  32:    10     3\n",
      "  33:    14     1\n",
      "  34:     8     2\n",
      "  35:    13     3\n",
      "  36:     9     3\n",
      "  37:    12     1\n",
      "  38:     4     2\n",
      "  39:    12     3\n",
      "  40:     8     3\n",
      "  41:    10     1\n",
      "  42:     3     2\n",
      "  43:     4     3\n",
      "  44:     7     3\n",
      "  45:     6     1\n",
      "  46:    14     4\n",
      "  47:     3     3\n",
      "  48:     5     3\n",
      "  49:    12     2\n",
      "  50:     6     3\n",
      "  51:    11     1\n",
      "  52:     2     3\n"
     ]
    }
   ],
   "source": [
    "# Read the data and print it to check it:\n",
    "import numpy as np\n",
    "\n",
    "data = np.genfromtxt(\"./data_ShuffledCards.txt\", skip_header=2)\n",
    "number = data[:,0]\n",
    "value = data[:,4]\n",
    "suit = data[:,5]\n",
    "\n",
    "print(\"Number of entries: \", len(number))\n",
    "for i in range(len(number)) : \n",
    "    print(f\"  {int(number[i]):2.0f}:  {value[i]:4.0f}   {suit[i]:3.0f}\")"
   ]
  },
  {
   "cell_type": "code",
   "execution_count": 5,
   "metadata": {
    "scrolled": false
   },
   "outputs": [
    {
     "data": {
      "image/png": "[encoded data removed]",
      "text/plain": [
       "<Figure size 1080x648 with 1 Axes>"
      ]
     },
     "metadata": {
      "needs_background": "light"
     },
     "output_type": "display_data"
    }
   ],
   "source": [
    "N_Group = 100  # 100组\n",
    "N_experiment = 1000  # 1000次试验\n",
    "N = 4\n",
    "\n",
    "d_value = np.zeros(N)\n",
    "d_Group = []\n",
    "sum_1 = []\n",
    "\n",
    "for i_2 in range(0,N_experiment):\n",
    "\n",
    "    for j in range(0,N_Group):  # 1000组\n",
    "        draw_out = random.choices(data, k=4)  # 随机抽4张牌\n",
    "\n",
    "        for k in range (0,4):\n",
    "            d_value[k] = draw_out[k][4]\n",
    "        d_Group = np.append(d_Group,d_value)\n",
    "    # print(d_Group)\n",
    "\n",
    "    a = d_Group == 14  # 实际是进行bool判断\n",
    "    # print(sum(a))\n",
    "    sum_1 = np.append(sum_1,sum(a))\n",
    "    # print(sum_1)\n",
    "    d_Group = []\n",
    "\n",
    "'''\n",
    "N_bins = 120\n",
    "xmin, xmax = 0,60\n",
    "\n",
    "fig1, ax1 = plt.subplots(figsize=(16, 7)) \n",
    "hist1 = ax1.hist(sum_1, bins=N_bins, range=(xmin, xmax), histtype='step', linewidth=2)\n",
    "ax1.set(xlabel='aces_sum', ylabel='Frequency', title='Histogram of aces_sum');\n",
    "'''\n",
    "\n",
    "N_bins = 120\n",
    "xmin, xmax = 0,60\n",
    "binwidth = (xmax - xmin) / N_bins\n",
    "\n",
    "# plot sum\n",
    "fig, ax = plt.subplots(figsize=(15, 9))\n",
    "ax.hist(sum_1, bins=N_bins, range=(xmin, xmax), histtype='step', linewidth=2,label='Histogram (generated)' )\n",
    "ax.set(xlabel=\"aces_sum\", ylabel=\"Frequency\", xlim=(xmin-1.0, xmax+1.0)) # 不知道为什么原来是\"Frequency / 0.2\"\n",
    "\n",
    "# Plot f(x)\n",
    "x_axis1 = np.linspace(xmin, xmax, 1000)\n",
    "\n",
    "# Define figure text\n",
    "d = {'N_Group' : N_Group,\n",
    "     'N_experiment' : N_experiment,\n",
    "     'N' : N,\n",
    "     'Mean': sum_1.mean(),\n",
    "     'Std': sum_1.std(ddof=1),\n",
    "    }\n",
    "\n",
    "# Plot figure text\n",
    "text = nice_string_output(d, extra_spacing=2, decimals=3)\n",
    "add_text_to_ax(0.1, 0.97, text, ax, fontsize=14)\n",
    "\n",
    "# Add legend\n",
    "ax.legend(loc='best')\n",
    "fig.tight_layout()\n",
    "\n",
    "# Save figure\n",
    "fig.savefig(\"Histogram of aces_sum.png\", dpi=600)"
   ]
  },
  {
   "cell_type": "code",
   "execution_count": null,
   "metadata": {},
   "outputs": [],
   "source": []
  }
 ],
 "metadata": {
  "executable": "/usr/bin/env python",
  "kernelspec": {
   "display_name": "Python 3 (ipykernel)",
   "language": "python",
   "name": "python3"
  },
  "language_info": {
   "codemirror_mode": {
    "name": "ipython",
    "version": 3
   },
   "file_extension": ".py",
   "mimetype": "text/x-python",
   "name": "python",
   "nbconvert_exporter": "python",
   "pygments_lexer": "ipython3",
   "version": "3.9.7"
  },
  "main_language": "python"
 },
 "nbformat": 4,
 "nbformat_minor": 2
}
