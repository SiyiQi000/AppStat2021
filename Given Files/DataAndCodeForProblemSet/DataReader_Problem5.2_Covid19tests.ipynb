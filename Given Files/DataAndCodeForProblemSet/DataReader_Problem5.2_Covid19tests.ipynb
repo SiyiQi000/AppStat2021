{
 "cells": [
  {
   "cell_type": "markdown",
   "metadata": {},
   "source": [
    "# Problem 5.2: Covid-19 tests - data reader\n",
    "\n",
    "The following is a small program to read the data file \"data_Covid19tests.txt\", which contains three column: Date (in January 2021), Number of (PCR) tests on that day, and number of positive tests that day.\n",
    "\n",
    "### Author & Date: \n",
    "- Troels C. Petersen (Niels Bohr Institute)\n",
    "- 07-11-2021\n",
    "\n",
    "***"
   ]
  },
  {
   "cell_type": "code",
   "execution_count": 18,
   "metadata": {},
   "outputs": [],
   "source": [
    "import numpy as np                                     # Matlab like syntax for linear algebra and functions\n",
    "import matplotlib.pyplot as plt                        # Plots and figures like you know them from Matlab\n",
    "import seaborn as sns                                  # Make the plots nicer to look at\n",
    "from iminuit import Minuit                             # The actual fitting tool, better than scipy's\n",
    "import sys                                             # Module to see files and folders in directories\n",
    "from scipy import stats\n",
    "import random\n",
    "from scipy.optimize import curve_fit"
   ]
  },
  {
   "cell_type": "code",
   "execution_count": 19,
   "metadata": {},
   "outputs": [],
   "source": [
    "sys.path.append('D:\\my github\\Siyi Applied Stats\\Documents for JN\\AppStat2021-main\\External_Functions\\\\')\n",
    "from ExternalFunctions import UnbinnedLH, BinnedLH, Chi2Regression\n",
    "from ExternalFunctions import nice_string_output, add_text_to_ax # useful functions to print fit results on figure"
   ]
  },
  {
   "cell_type": "code",
   "execution_count": 20,
   "metadata": {
    "scrolled": false
   },
   "outputs": [
    {
     "name": "stdout",
     "output_type": "stream",
     "text": [
      "Number of entries:  15\n",
      "   4  103270   2464\n",
      "   5  102145   1920\n",
      "   6   93981   1647\n",
      "   7   83748   1573\n",
      "   8   73944   1428\n",
      "   9   51387   1192\n",
      "  10   47092    989\n",
      "  11   79306   1340\n",
      "  12   83126   1238\n",
      "  13   76080   1112\n",
      "  14  103694    998\n",
      "  15   97416    844\n",
      "  16   75592    719\n",
      "  17   73613    670\n",
      "  18  101957    882\n"
     ]
    }
   ],
   "source": [
    "# Read the data and print it to check it:\n",
    "import numpy as np\n",
    "date, Ntests, Npositives = np.loadtxt(\"data_Covid19tests.txt\", skiprows=2, unpack=True)\n",
    "\n",
    "print(\"Number of entries: \", len(date))\n",
    "for i in range(len(date)) : \n",
    "    print(f\"  {date[i]:2.0f}  {Ntests[i]:6.0f}  {Npositives[i]:5.0f}\")"
   ]
  },
  {
   "cell_type": "code",
   "execution_count": 21,
   "metadata": {
    "scrolled": true
   },
   "outputs": [
    {
     "name": "stdout",
     "output_type": "stream",
     "text": [
      "83090.06666666667\n"
     ]
    }
   ],
   "source": [
    "D = date\n",
    "T = Ntests\n",
    "P = Npositives\n",
    "SP = np.empty(15)\n",
    "T_mean = np.mean(T)\n",
    "print(T_mean)"
   ]
  },
  {
   "cell_type": "code",
   "execution_count": 22,
   "metadata": {},
   "outputs": [
    {
     "name": "stdout",
     "output_type": "stream",
     "text": [
      "[2116.13394981 1661.62732319 1510.94943673 1564.33941089 1549.46055443\n",
      " 1668.64267272 1471.69451766 1384.44255949 1237.62536576 1182.76866341\n",
      "  854.64818975  755.06722035  768.21039657  729.27447933  764.29501428] [201.03272523 157.8545957  143.54019649 148.61224403 147.19875267\n",
      " 158.52105391 139.81097918 131.52204315 117.57440975 112.36302302\n",
      "  81.19157803  71.73138593  72.97998767  69.28107554  72.60802636]\n"
     ]
    }
   ],
   "source": [
    "for i in range(0,15):\n",
    "    SP[i] = P[i] * (T[i]/T_mean)**-0.7 \n",
    "x = date\n",
    "y = SP\n",
    "sy = np.empty(np.size(y))\n",
    "\n",
    "for j in range(0,15):\n",
    "    sy[j] = y[j]*0.095   # error是price的15%\n",
    "\n",
    "print(y,sy)"
   ]
  },
  {
   "cell_type": "code",
   "execution_count": 23,
   "metadata": {},
   "outputs": [
    {
     "name": "stderr",
     "output_type": "stream",
     "text": [
      "C:\\Users\\dell\\AppData\\Local\\Temp/ipykernel_18804/2389163199.py:2: UserWarning: color is redundantly defined by the 'color' keyword argument and the fmt string \"ro\" (-> color='r'). The keyword argument will take precedence.\n",
      "  ax.plot(x, y,'ro',markersize=5, color='k')\n"
     ]
    },
    {
     "data": {
      "text/plain": [
       "Text(0, 0.5, 'Scaled positives')"
      ]
     },
     "execution_count": 23,
     "metadata": {},
     "output_type": "execute_result"
    },
    {
     "data": {
      "image/png": "[encoded data removed]",
      "text/plain": [
       "<Figure size 1152x432 with 1 Axes>"
      ]
     },
     "metadata": {
      "needs_background": "light"
     },
     "output_type": "display_data"
    }
   ],
   "source": [
    "fig, ax = plt.subplots(figsize=(16, 6))\n",
    "ax.plot(x, y,'ro',markersize=5, color='k')\n",
    "ax.errorbar(x, y, yerr=sy, xerr=0.0, label='error = relatively 15%', fmt='.k',  ecolor='k', elinewidth=1, capsize=1, capthick=1)\n",
    "\n",
    "plt.xlabel('Date',fontsize=14)\n",
    "plt.ylabel('Scaled positives',fontsize=14)"
   ]
  },
  {
   "cell_type": "code",
   "execution_count": 24,
   "metadata": {},
   "outputs": [],
   "source": [
    "def fit_pdf(x,A,R,B):  \n",
    "    return A*R**((x-B)/4.7)"
   ]
  },
  {
   "cell_type": "code",
   "execution_count": 25,
   "metadata": {},
   "outputs": [
    {
     "name": "stderr",
     "output_type": "stream",
     "text": [
      "C:\\Users\\dell\\AppData\\Local\\Temp/ipykernel_18804/192328131.py:2: RuntimeWarning: invalid value encountered in power\n",
      "  return A*R**((x-B)/4.7)\n"
     ]
    },
    {
     "data": {
      "text/html": [
       "<table>\n",
       "    <tr>\n",
       "        <th colspan=\"5\" style=\"text-align:center\" title=\"Minimizer\"> Migrad </th>\n",
       "    </tr>\n",
       "    <tr>\n",
       "        <td colspan=\"2\" style=\"text-align:left\" title=\"Minimum value of function\"> FCN = 20.93 </td>\n",
       "        <td colspan=\"3\" style=\"text-align:center\" title=\"No. of function evaluations in last call and total number\"> Nfcn = 247 </td>\n",
       "    </tr>\n",
       "    <tr>\n",
       "        <td colspan=\"2\" style=\"text-align:left\" title=\"Estimated distance to minimum and goal\"> EDM = 3.44e-05 (Goal: 0.0002) </td>\n",
       "        <td colspan=\"3\" style=\"text-align:center\" title=\"No. of gradient evaluations in last call and total number\">  </td>\n",
       "    </tr>\n",
       "    <tr>\n",
       "        <td colspan=\"2\" style=\"text-align:center;background-color:#92CCA6;color:black\"> Valid Minimum </td>\n",
       "        <td colspan=\"3\" style=\"text-align:center;background-color:#92CCA6;color:black\"> No Parameters at limit </td>\n",
       "    </tr>\n",
       "    <tr>\n",
       "        <td colspan=\"2\" style=\"text-align:center;background-color:#92CCA6;color:black\"> Below EDM threshold (goal x 10) </td>\n",
       "        <td colspan=\"3\" style=\"text-align:center;background-color:#92CCA6;color:black\"> Below call limit </td>\n",
       "    </tr>\n",
       "    <tr>\n",
       "        <td style=\"text-align:center;background-color:#92CCA6;color:black\"> Covariance </td>\n",
       "        <td style=\"text-align:center;background-color:#92CCA6;color:black\"> Hesse ok </td>\n",
       "        <td style=\"text-align:center;background-color:#FFF79A;color:black\" title=\"Is covariance matrix accurate?\"> APPROXIMATE </td>\n",
       "        <td style=\"text-align:center;background-color:#c15ef7;color:black\" title=\"Is covariance matrix positive definite?\"> NOT pos. def. </td>\n",
       "        <td style=\"text-align:center;background-color:#c15ef7;color:black\" title=\"Was positive definiteness enforced by Minuit?\"> FORCED </td>\n",
       "    </tr>\n",
       "</table><table>\n",
       "    <tr>\n",
       "        <td></td>\n",
       "        <th title=\"Variable name\"> Name </th>\n",
       "        <th title=\"Value of parameter\"> Value </th>\n",
       "        <th title=\"Hesse error\"> Hesse Error </th>\n",
       "        <th title=\"Minos lower error\"> Minos Error- </th>\n",
       "        <th title=\"Minos upper error\"> Minos Error+ </th>\n",
       "        <th title=\"Lower limit of the parameter\"> Limit- </th>\n",
       "        <th title=\"Upper limit of the parameter\"> Limit+ </th>\n",
       "        <th title=\"Is the parameter fixed in the fit\"> Fixed </th>\n",
       "    </tr>\n",
       "    <tr>\n",
       "        <th> 0 </th>\n",
       "        <td> A </td>\n",
       "        <td> 14 </td>\n",
       "        <td> 5 </td>\n",
       "        <td>  </td>\n",
       "        <td>  </td>\n",
       "        <td>  </td>\n",
       "        <td>  </td>\n",
       "        <td>  </td>\n",
       "    </tr>\n",
       "    <tr>\n",
       "        <th> 1 </th>\n",
       "        <td> R </td>\n",
       "        <td> 0.703 </td>\n",
       "        <td> 0.013 </td>\n",
       "        <td>  </td>\n",
       "        <td>  </td>\n",
       "        <td>  </td>\n",
       "        <td>  </td>\n",
       "        <td>  </td>\n",
       "    </tr>\n",
       "    <tr>\n",
       "        <th> 2 </th>\n",
       "        <td> B </td>\n",
       "        <td> 71 </td>\n",
       "        <td> 5 </td>\n",
       "        <td>  </td>\n",
       "        <td>  </td>\n",
       "        <td>  </td>\n",
       "        <td>  </td>\n",
       "        <td>  </td>\n",
       "    </tr>\n",
       "</table><table>\n",
       "    <tr>\n",
       "        <td></td>\n",
       "        <th> A </th>\n",
       "        <th> R </th>\n",
       "        <th> B </th>\n",
       "    </tr>\n",
       "    <tr>\n",
       "        <th> A </th>\n",
       "        <td> 21.6 </td>\n",
       "        <td style=\"background-color:rgb(250,198,198);color:black\"> 0.0214 <strong>(0.346)</strong> </td>\n",
       "        <td style=\"background-color:rgb(152,152,250);color:black\"> -15.9 <strong>(-0.751)</strong> </td>\n",
       "    </tr>\n",
       "    <tr>\n",
       "        <th> R </th>\n",
       "        <td style=\"background-color:rgb(250,198,198);color:black\"> 0.0214 <strong>(0.346)</strong> </td>\n",
       "        <td> 0.000177 </td>\n",
       "        <td style=\"background-color:rgb(250,197,197);color:black\"> 0.0215 <strong>(0.356)</strong> </td>\n",
       "    </tr>\n",
       "    <tr>\n",
       "        <th> B </th>\n",
       "        <td style=\"background-color:rgb(152,152,250);color:black\"> -15.9 <strong>(-0.751)</strong> </td>\n",
       "        <td style=\"background-color:rgb(250,197,197);color:black\"> 0.0215 <strong>(0.356)</strong> </td>\n",
       "        <td> 20.8 </td>\n",
       "    </tr>\n",
       "</table>"
      ],
      "text/plain": [
       "┌─────────────────────────────────────────────────────────────────────────┐\n",
       "│                                Migrad                                   │\n",
       "├──────────────────────────────────┬──────────────────────────────────────┤\n",
       "│ FCN = 20.93                      │              Nfcn = 247              │\n",
       "│ EDM = 3.44e-05 (Goal: 0.0002)    │                                      │\n",
       "├──────────────────────────────────┼──────────────────────────────────────┤\n",
       "│          Valid Minimum           │        No Parameters at limit        │\n",
       "├──────────────────────────────────┼──────────────────────────────────────┤\n",
       "│ Below EDM threshold (goal x 10)  │           Below call limit           │\n",
       "├───────────────┬──────────────────┼───────────┬─────────────┬────────────┤\n",
       "│  Covariance   │     Hesse ok     │APPROXIMATE│NOT pos. def.│   FORCED   │\n",
       "└───────────────┴──────────────────┴───────────┴─────────────┴────────────┘\n",
       "┌───┬──────┬───────────┬───────────┬────────────┬────────────┬─────────┬─────────┬───────┐\n",
       "│   │ Name │   Value   │ Hesse Err │ Minos Err- │ Minos Err+ │ Limit-  │ Limit+  │ Fixed │\n",
       "├───┼──────┼───────────┼───────────┼────────────┼────────────┼─────────┼─────────┼───────┤\n",
       "│ 0 │ A    │    14     │     5     │            │            │         │         │       │\n",
       "│ 1 │ R    │   0.703   │   0.013   │            │            │         │         │       │\n",
       "│ 2 │ B    │    71     │     5     │            │            │         │         │       │\n",
       "└───┴──────┴───────────┴───────────┴────────────┴────────────┴─────────┴─────────┴───────┘\n",
       "┌───┬────────────────────────────┐\n",
       "│   │        A        R        B │\n",
       "├───┼────────────────────────────┤\n",
       "│ A │     21.6   0.0214    -15.9 │\n",
       "│ R │   0.0214 0.000177   0.0215 │\n",
       "│ B │    -15.9   0.0215     20.8 │\n",
       "└───┴────────────────────────────┘"
      ]
     },
     "execution_count": 25,
     "metadata": {},
     "output_type": "execute_result"
    }
   ],
   "source": [
    "\n",
    "Minuit.print_level = 1    # Print result of fits (generally - can also be moved down to each fit instance)\n",
    "\n",
    "# Defining Chi2 calculation:\n",
    "def chi2_owncalc(A,R,B) :\n",
    "    y_fit = fit_pdf(x,A,R,B)\n",
    "    chi2 = np.sum(((y - y_fit) / sy)**2)\n",
    "    return chi2\n",
    "\n",
    "# Alternatively, use the Chi2 regression from External Functions:\n",
    "chi2fit = Chi2Regression(fit_pdf, x, y, sy)\n",
    "\n",
    "minuit_chi2 = Minuit(chi2_owncalc,A=1.5,R=2,B=19)\n",
    "minuit_chi2.errordef = 1.0     # This is the definition for ChiSqaure fits\n",
    "minuit_chi2.migrad()           # This is where the minimisation is carried out! Put \";\" at the end to void output\n"
   ]
  },
  {
   "cell_type": "code",
   "execution_count": 26,
   "metadata": {},
   "outputs": [
    {
     "name": "stdout",
     "output_type": "stream",
     "text": [
      "Fit value: A = 13.67051 +/- 4.65041\n",
      "Fit value: R = 0.70309 +/- 0.01329\n",
      "Fit value: B = 70.57232 +/- 4.55601\n",
      "Chi2 value: 20.9   Ndof = 12    Prob(Chi2,Ndof) = 0.051\n"
     ]
    }
   ],
   "source": [
    "\n",
    "# First, check if the result was a valid minimum:\n",
    "if (not minuit_chi2.fmin.is_valid) :\n",
    "    print(\"  WARNING: The ChiSquare fit DID NOT converge!!! \")    \n",
    "    \n",
    "# Short hand way of accessing the fit parameters:\n",
    "fit_A,fit_R,fit_B= minuit_chi2.values[:]   # The fitted values of the parameters\n",
    "\n",
    "# Loop to get both parameter values and uncertainties:\n",
    "for name in minuit_chi2.parameters :\n",
    "    value, error = minuit_chi2.values[name], minuit_chi2.errors[name]\n",
    "    print(f\"Fit value: {name} = {value:.5f} +/- {error:.5f}\")\n",
    "\n",
    "# Get Chi2 value:\n",
    "chi2_value = minuit_chi2.fval            # The value minimised, i.e. Chi2 or -2*LogLikeliHood (LLH) value\n",
    "\n",
    "# Get number of degrees-of-freedom (Ndof):\n",
    "N_NotEmptyBin = np.sum(y > 0)\n",
    "Ndof_value = N_NotEmptyBin - minuit_chi2.nfit\n",
    "\n",
    "Prob_value = stats.chi2.sf(chi2_value, Ndof_value) # The chi2 probability given N_DOF degrees of freedom\n",
    "print(f\"Chi2 value: {chi2_value:.1f}   Ndof = {Ndof_value:.0f}    Prob(Chi2,Ndof) = {Prob_value:5.3f}\")\n"
   ]
  },
  {
   "cell_type": "code",
   "execution_count": 27,
   "metadata": {},
   "outputs": [
    {
     "data": {
      "image/png": "[encoded data removed]",
      "text/plain": [
       "<Figure size 1152x432 with 1 Axes>"
      ]
     },
     "metadata": {
      "needs_background": "light"
     },
     "output_type": "display_data"
    }
   ],
   "source": [
    "\n",
    "fig, ax = plt.subplots(figsize=(16, 6))  # figsize is in inches\n",
    "ax.errorbar(x, y, yerr=sy, xerr=0.0, label='error = relative 9.5%', fmt='.k',  ecolor='k', elinewidth=1, capsize=1, capthick=1)\n",
    "\n",
    "# Set the figure texts; xlabel, ylabel and title.\n",
    "ax.set(xlabel=\"Date\", # the label of the y axis\n",
    "       ylabel=\"Scaled positives\",  # the label of the y axis\n",
    "       title=\"Scaled positives as a function of date (fitted with f(x)=a*R^((x-b)/4.7))\", # the title of the plot\n",
    "       ylim=[0.0,None]) # Setting the miminum to zero\n",
    "\n",
    "xmin, xmax = 3,19\n",
    "# Adding fit function to plot:\n",
    "x_axis = np.linspace(xmin, xmax, 15)\n",
    "ax.plot(x_axis, fit_pdf(x_axis, *minuit_chi2.values[:]), '-r', label='Chi2 fit model result') \n",
    "\n",
    "# Adding fit results to plot:\n",
    "d = {'a': \"19.08128 +/- 6.80067\",\n",
    "     'R': \"0.70315 +/- 0.01446\",\n",
    "     'b': \"66.13779 +/- 4.76961\",\n",
    " #    'sigma':       [minuit_chi2.values['sigma'], minuit_chi2.errors['sigma']],\n",
    "     'Chi2':     chi2_value,\n",
    "     'ndf':      Ndof_value,\n",
    "     'Prob':     Prob_value,\n",
    "    }\n",
    "\n",
    "text = nice_string_output(d, extra_spacing=2, decimals=3)\n",
    "add_text_to_ax(0.65, 0.95, text, ax, fontsize=20)\n",
    "ax.legend(loc='lower right', fontsize=18); # could also be # loc = 'upper right' e.g.\n",
    "\n",
    "fig.tight_layout()\n",
    "plt.savefig('covid_fig1',dpi=600)\n"
   ]
  },
  {
   "cell_type": "code",
   "execution_count": 28,
   "metadata": {},
   "outputs": [
    {
     "name": "stdout",
     "output_type": "stream",
     "text": [
      "291.90175003482597\n"
     ]
    }
   ],
   "source": [
    "f1 = 19*0.7**((30-66)/4.7)\n",
    "print(f1)"
   ]
  }
 ],
 "metadata": {
  "executable": "/usr/bin/env python",
  "kernelspec": {
   "display_name": "Python 3 (ipykernel)",
   "language": "python",
   "name": "python3"
  },
  "language_info": {
   "codemirror_mode": {
    "name": "ipython",
    "version": 3
   },
   "file_extension": ".py",
   "mimetype": "text/x-python",
   "name": "python",
   "nbconvert_exporter": "python",
   "pygments_lexer": "ipython3",
   "version": "3.9.7"
  },
  "main_language": "python"
 },
 "nbformat": 4,
 "nbformat_minor": 2
}
