{
 "cells": [
  {
   "cell_type": "markdown",
   "metadata": {},
   "source": [
    "### Script for reading data for Problem 5.2 (data_BohrHypothesis.txt) in Applied Statistics 2021 exam:\n",
    "\n",
    "This script reads the file __\"data_BohrHypothesis.txt\"__ for Problem 5.2 in the exam of Applied Statistics 2021/22. This data files contains 216545 entries in two columns: \n",
    "\n",
    "* **wavelength** (nm) of radiation,\n",
    "* **voltage** (V) of power supply.\n",
    "\n",
    "The script was distributed along with the exam and the data file itself on the 20th of January 2022.\n",
    "\n",
    "####  Author: \n",
    "- Troels Petersen (Niels Bohr Institute, petersen@nbi.dk)\n",
    "\n",
    "####  Date:   \n",
    " - 19th of January 2022 (first version)"
   ]
  },
  {
   "cell_type": "code",
   "execution_count": 161,
   "metadata": {},
   "outputs": [],
   "source": [
    "import scipy\n",
    "import numpy as np                                     # Matlab like syntax for linear algebra and functions\n",
    "import matplotlib.pyplot as plt                        # Plots and figures like you know them from Matlab\n",
    "import seaborn as sns                                  # Make the plots nicer to look at\n",
    "from iminuit import Minuit                             # The actual fitting tool, better than scipy's\n",
    "import sys                                             # Modules to see files and folders in directories\n",
    "from scipy import stats\n",
    "from scipy.stats import binom, poisson, norm           # Functions from SciPy Stats...\n",
    "# import scipy.optimize as optimization\n",
    "from scipy import optimize\n",
    "from numpy.linalg import inv\n",
    "from functools import partial\n",
    "from fitter import Fitter\n",
    "from astropy.modeling import models, fitting\n",
    "from scipy.optimize import leastsq\n",
    "import math"
   ]
  },
  {
   "cell_type": "code",
   "execution_count": 162,
   "metadata": {},
   "outputs": [],
   "source": [
    "import pandas as pd"
   ]
  },
  {
   "cell_type": "code",
   "execution_count": 163,
   "metadata": {},
   "outputs": [],
   "source": [
    "sys.path.append('D:\\my github\\Siyi Applied Stats\\Documents for JN\\AppStat2021-main\\External_Functions\\\\')\n",
    "from ExternalFunctions import Chi2Regression, BinnedLH, UnbinnedLH\n",
    "from ExternalFunctions import nice_string_output, add_text_to_ax    # Useful functions to print fit results on figure\n",
    "\n",
    "plt.rcParams['font.size'] = 18     # Set some basic plotting parameters"
   ]
  },
  {
   "cell_type": "code",
   "execution_count": 164,
   "metadata": {},
   "outputs": [
    {
     "data": {
      "text/html": [
       "<div>\n",
       "<style scoped>\n",
       "    .dataframe tbody tr th:only-of-type {\n",
       "        vertical-align: middle;\n",
       "    }\n",
       "\n",
       "    .dataframe tbody tr th {\n",
       "        vertical-align: top;\n",
       "    }\n",
       "\n",
       "    .dataframe thead th {\n",
       "        text-align: right;\n",
       "    }\n",
       "</style>\n",
       "<table border=\"1\" class=\"dataframe\">\n",
       "  <thead>\n",
       "    <tr style=\"text-align: right;\">\n",
       "      <th></th>\n",
       "      <th>wavelength(nm)</th>\n",
       "      <th>voltage(V)</th>\n",
       "    </tr>\n",
       "  </thead>\n",
       "  <tbody>\n",
       "    <tr>\n",
       "      <th>0</th>\n",
       "      <td>2439.703</td>\n",
       "      <td>134.833</td>\n",
       "    </tr>\n",
       "    <tr>\n",
       "      <th>1</th>\n",
       "      <td>1276.206</td>\n",
       "      <td>102.063</td>\n",
       "    </tr>\n",
       "    <tr>\n",
       "      <th>2</th>\n",
       "      <td>1665.593</td>\n",
       "      <td>98.818</td>\n",
       "    </tr>\n",
       "    <tr>\n",
       "      <th>3</th>\n",
       "      <td>1868.467</td>\n",
       "      <td>123.123</td>\n",
       "    </tr>\n",
       "    <tr>\n",
       "      <th>4</th>\n",
       "      <td>2075.338</td>\n",
       "      <td>103.849</td>\n",
       "    </tr>\n",
       "    <tr>\n",
       "      <th>...</th>\n",
       "      <td>...</td>\n",
       "      <td>...</td>\n",
       "    </tr>\n",
       "    <tr>\n",
       "      <th>216540</th>\n",
       "      <td>1761.204</td>\n",
       "      <td>137.935</td>\n",
       "    </tr>\n",
       "    <tr>\n",
       "      <th>216541</th>\n",
       "      <td>1748.524</td>\n",
       "      <td>153.508</td>\n",
       "    </tr>\n",
       "    <tr>\n",
       "      <th>216542</th>\n",
       "      <td>1555.461</td>\n",
       "      <td>76.994</td>\n",
       "    </tr>\n",
       "    <tr>\n",
       "      <th>216543</th>\n",
       "      <td>1367.070</td>\n",
       "      <td>87.436</td>\n",
       "    </tr>\n",
       "    <tr>\n",
       "      <th>216544</th>\n",
       "      <td>1793.135</td>\n",
       "      <td>94.689</td>\n",
       "    </tr>\n",
       "  </tbody>\n",
       "</table>\n",
       "<p>216545 rows × 2 columns</p>\n",
       "</div>"
      ],
      "text/plain": [
       "        wavelength(nm)   voltage(V)\n",
       "0             2439.703      134.833\n",
       "1             1276.206      102.063\n",
       "2             1665.593       98.818\n",
       "3             1868.467      123.123\n",
       "4             2075.338      103.849\n",
       "...                ...          ...\n",
       "216540        1761.204      137.935\n",
       "216541        1748.524      153.508\n",
       "216542        1555.461       76.994\n",
       "216543        1367.070       87.436\n",
       "216544        1793.135       94.689\n",
       "\n",
       "[216545 rows x 2 columns]"
      ]
     },
     "execution_count": 164,
     "metadata": {},
     "output_type": "execute_result"
    }
   ],
   "source": [
    "dataframe = pd.read_csv('data_BohrHypothesis.csv', header=0, index_col=None)\n",
    "wavel, voltage = dataframe.values.T\n",
    "dataframe"
   ]
  },
  {
   "cell_type": "markdown",
   "metadata": {},
   "source": [
    "Print the first 10 entries to check the content of the file:"
   ]
  },
  {
   "cell_type": "code",
   "execution_count": 165,
   "metadata": {},
   "outputs": [
    {
     "name": "stdout",
     "output_type": "stream",
     "text": [
      "  wavelength = 2439.70 nm    voltage = 134.83 V\n",
      "  wavelength = 1276.21 nm    voltage = 102.06 V\n",
      "  wavelength = 1665.59 nm    voltage =  98.82 V\n",
      "  wavelength = 1868.47 nm    voltage = 123.12 V\n",
      "  wavelength = 2075.34 nm    voltage = 103.85 V\n",
      "  wavelength = 1962.51 nm    voltage =  96.54 V\n",
      "  wavelength = 1563.69 nm    voltage =  91.83 V\n",
      "  wavelength = 1395.86 nm    voltage = 107.95 V\n",
      "  wavelength = 2112.96 nm    voltage =  74.54 V\n",
      "  wavelength = 1434.76 nm    voltage = 129.24 V\n"
     ]
    }
   ],
   "source": [
    "for i in range(10):\n",
    "    print(f\"  wavelength = {wavel[i]:4.2f} nm    voltage = {voltage[i]:6.2f} V\")"
   ]
  },
  {
   "cell_type": "code",
   "execution_count": 166,
   "metadata": {},
   "outputs": [
    {
     "name": "stdout",
     "output_type": "stream",
     "text": [
      "1193.615 5903.585\n"
     ]
    }
   ],
   "source": [
    "print(np.min(wavel),np.max(wavel))"
   ]
  },
  {
   "cell_type": "code",
   "execution_count": 167,
   "metadata": {},
   "outputs": [
    {
     "name": "stdout",
     "output_type": "stream",
     "text": [
      "0.6\n",
      "22516\n",
      "<class 'numpy.ndarray'>\n",
      "5833\n",
      "100 100 100\n"
     ]
    }
   ],
   "source": [
    "Nbins = 100\n",
    "x_all=wavel\n",
    "xmin,xmax=1250,1310\n",
    "binwidth = (xmax-xmin)/Nbins  #binwidth = (xmax-xmin)/Nbins\n",
    "print(binwidth)\n",
    "\n",
    "condition = (wavel<xmax)*(wavel>xmin)\n",
    "x_all = wavel[condition]  # x_2是本图xmin, xmax = 2.5, 3.5范围内voltage点,x是将x_2 binned后的\n",
    "print(np.size(x_all))\n",
    "print(type(x_all))\n",
    "\n",
    "\n",
    "xmin_p,xmax_p=1275,1285\n",
    "condition_p = (wavel<xmax_p)*(wavel>xmin_p)\n",
    "x_peak = wavel[condition_p]  # x_2是本图xmin, xmax = 2.5, 3.5范围内voltage点,x是将x_2 binned后的\n",
    "print(np.size(x_peak))\n",
    "Npeak=np.size(x_peak)\n",
    "Nbkg=np.size(x_all)-np.size(x_peak)\n",
    "\n",
    "\n",
    "counts, bin_edges = np.histogram(x_all, bins=Nbins, range=(xmin, xmax))\n",
    "x = (bin_edges[1:][counts>0] + bin_edges[:-1][counts>0])/2\n",
    "y = counts[counts>0]\n",
    "sy = np.sqrt(counts[counts>0])   # NOTE: We (naturally) assume that the bin count is Poisson distributed.\n",
    "                       # This is an approximation, since there is a low count in the last bins.\n",
    "\n",
    "# print(np.where(y==177))\n",
    "print(np.size(x),np.size(y),np.size(sy))"
   ]
  },
  {
   "cell_type": "code",
   "execution_count": 168,
   "metadata": {},
   "outputs": [
    {
     "data": {
      "image/png": "[encoded data removed]",
      "text/plain": [
       "<Figure size 1152x432 with 1 Axes>"
      ]
     },
     "metadata": {
      "needs_background": "light"
     },
     "output_type": "display_data"
    }
   ],
   "source": [
    "# Create just a single figure and axes, and a (classic) histogram:\n",
    "fig, ax = plt.subplots(figsize=(16, 6))  # figsize is in inches\n",
    "#ax.set_yscale('log',nonposy='mask',subsy=[0]) # y-axis log\n",
    "hist = ax.hist(x_all, bins=Nbins, range=(xmin, xmax), histtype='step', linewidth=2,color='red', label='Histogram')\n",
    "ax.errorbar(x, y, yerr=sy, xerr=0.0, label='Data, with Poisson errors', fmt='.k',  ecolor='k', elinewidth=1, capsize=1, capthick=1)\n",
    "\n",
    "# Set the figure texts; xlabel, ylabel and title.\n",
    "ax.set(xlabel=\"wavelength\",           # the label of the y axis\n",
    "       ylabel=\"Frequency\",           # the label of the y axis\n",
    "       title=\"Distribution of wavelength\")    # the title of the plot\n",
    "ax.legend(loc='upper left', fontsize=14);       # could also be # loc = 'upper right' e.g.\n",
    "\n",
    "\n",
    "#fig.savefig('fig1',dpi=600)"
   ]
  },
  {
   "cell_type": "code",
   "execution_count": 169,
   "metadata": {},
   "outputs": [
    {
     "data": {
      "text/plain": [
       "'\\n# Define your actual fitting function, with both background and signal in:\\n# which is NOT normalised but has normalisation constants \"N\" in, and includes the bin width:\\ndef fit_pdf(x, Nexp, tau, Ngauss, mu, sigma) :\\n    \"\"\"Exponential + Gaussian\"\"\"\\n    return Nexp * binwidth * (1.0 / tau * np.exp(-x/tau))+ Ngauss * binwidth * (1.0 / np.sqrt(2*np.pi) / sigma * np.exp( -0.5 * (x-mu)**2 / sigma**2))  \\n'"
      ]
     },
     "execution_count": 169,
     "metadata": {},
     "output_type": "execute_result"
    }
   ],
   "source": [
    "'''\n",
    "# Define your actual fitting function, with both background and signal in:\n",
    "# which is NOT normalised but has normalisation constants \"N\" in, and includes the bin width:\n",
    "def fit_pdf(x, Nexp, tau, Ngauss, mu, sigma) :\n",
    "    \"\"\"Exponential + Gaussian\"\"\"\n",
    "    return Nexp * binwidth * (1.0 / tau * np.exp(-x/tau))+ Ngauss * binwidth * (1.0 / np.sqrt(2*np.pi) / sigma * np.exp( -0.5 * (x-mu)**2 / sigma**2))  \n",
    "'''"
   ]
  },
  {
   "cell_type": "code",
   "execution_count": 170,
   "metadata": {},
   "outputs": [],
   "source": [
    "def fit_pdf(x,a, Ngauss, mu, sigma) :\n",
    "    \"\"\"Exponential + Gaussian\"\"\"\n",
    "    return a + Ngauss * binwidth * (1.0 / np.sqrt(2*np.pi) / sigma * np.exp( -0.5 * (x-mu)**2 / sigma**2))  "
   ]
  },
  {
   "cell_type": "code",
   "execution_count": 171,
   "metadata": {},
   "outputs": [
    {
     "data": {
      "text/html": [
       "<table>\n",
       "    <tr>\n",
       "        <th colspan=\"5\" style=\"text-align:center\" title=\"Minimizer\"> Migrad </th>\n",
       "    </tr>\n",
       "    <tr>\n",
       "        <td colspan=\"2\" style=\"text-align:left\" title=\"Minimum value of function\"> FCN = 124.9 </td>\n",
       "        <td colspan=\"3\" style=\"text-align:center\" title=\"No. of function evaluations in last call and total number\"> Nfcn = 113 </td>\n",
       "    </tr>\n",
       "    <tr>\n",
       "        <td colspan=\"2\" style=\"text-align:left\" title=\"Estimated distance to minimum and goal\"> EDM = 1.31e-05 (Goal: 0.0002) </td>\n",
       "        <td colspan=\"3\" style=\"text-align:center\" title=\"No. of gradient evaluations in last call and total number\">  </td>\n",
       "    </tr>\n",
       "    <tr>\n",
       "        <td colspan=\"2\" style=\"text-align:center;background-color:#92CCA6;color:black\"> Valid Minimum </td>\n",
       "        <td colspan=\"3\" style=\"text-align:center;background-color:#92CCA6;color:black\"> No Parameters at limit </td>\n",
       "    </tr>\n",
       "    <tr>\n",
       "        <td colspan=\"2\" style=\"text-align:center;background-color:#92CCA6;color:black\"> Below EDM threshold (goal x 10) </td>\n",
       "        <td colspan=\"3\" style=\"text-align:center;background-color:#92CCA6;color:black\"> Below call limit </td>\n",
       "    </tr>\n",
       "    <tr>\n",
       "        <td style=\"text-align:center;background-color:#92CCA6;color:black\"> Covariance </td>\n",
       "        <td style=\"text-align:center;background-color:#92CCA6;color:black\"> Hesse ok </td>\n",
       "        <td style=\"text-align:center;background-color:#92CCA6;color:black\" title=\"Is covariance matrix accurate?\"> Accurate </td>\n",
       "        <td style=\"text-align:center;background-color:#92CCA6;color:black\" title=\"Is covariance matrix positive definite?\"> Pos. def. </td>\n",
       "        <td style=\"text-align:center;background-color:#92CCA6;color:black\" title=\"Was positive definiteness enforced by Minuit?\"> Not forced </td>\n",
       "    </tr>\n",
       "</table><table>\n",
       "    <tr>\n",
       "        <td></td>\n",
       "        <th title=\"Variable name\"> Name </th>\n",
       "        <th title=\"Value of parameter\"> Value </th>\n",
       "        <th title=\"Hesse error\"> Hesse Error </th>\n",
       "        <th title=\"Minos lower error\"> Minos Error- </th>\n",
       "        <th title=\"Minos upper error\"> Minos Error+ </th>\n",
       "        <th title=\"Lower limit of the parameter\"> Limit- </th>\n",
       "        <th title=\"Upper limit of the parameter\"> Limit+ </th>\n",
       "        <th title=\"Is the parameter fixed in the fit\"> Fixed </th>\n",
       "    </tr>\n",
       "    <tr>\n",
       "        <th> 0 </th>\n",
       "        <td> a </td>\n",
       "        <td> 183.2 </td>\n",
       "        <td> 1.5 </td>\n",
       "        <td>  </td>\n",
       "        <td>  </td>\n",
       "        <td>  </td>\n",
       "        <td>  </td>\n",
       "        <td>  </td>\n",
       "    </tr>\n",
       "    <tr>\n",
       "        <th> 1 </th>\n",
       "        <td> Ngauss </td>\n",
       "        <td> 4.07e3 </td>\n",
       "        <td> 0.10e3 </td>\n",
       "        <td>  </td>\n",
       "        <td>  </td>\n",
       "        <td>  </td>\n",
       "        <td>  </td>\n",
       "        <td>  </td>\n",
       "    </tr>\n",
       "    <tr>\n",
       "        <th> 2 </th>\n",
       "        <td> mu </td>\n",
       "        <td> 1.27614e3 </td>\n",
       "        <td> 0.00007e3 </td>\n",
       "        <td>  </td>\n",
       "        <td>  </td>\n",
       "        <td>  </td>\n",
       "        <td>  </td>\n",
       "        <td>  </td>\n",
       "    </tr>\n",
       "    <tr>\n",
       "        <th> 3 </th>\n",
       "        <td> sigma </td>\n",
       "        <td> 2.52 </td>\n",
       "        <td> 0.06 </td>\n",
       "        <td>  </td>\n",
       "        <td>  </td>\n",
       "        <td>  </td>\n",
       "        <td>  </td>\n",
       "        <td>  </td>\n",
       "    </tr>\n",
       "</table><table>\n",
       "    <tr>\n",
       "        <td></td>\n",
       "        <th> a </th>\n",
       "        <th> Ngauss </th>\n",
       "        <th> mu </th>\n",
       "        <th> sigma </th>\n",
       "    </tr>\n",
       "    <tr>\n",
       "        <th> a </th>\n",
       "        <td> 2.39 </td>\n",
       "        <td style=\"background-color:rgb(202,202,250);color:black\"> -55.4 <strong>(-0.366)</strong> </td>\n",
       "        <td style=\"background-color:rgb(245,245,250);color:black\"> -0.00411 <strong>(-0.040)</strong> </td>\n",
       "        <td style=\"background-color:rgb(214,214,250);color:black\"> -0.0263 <strong>(-0.273)</strong> </td>\n",
       "    </tr>\n",
       "    <tr>\n",
       "        <th> Ngauss </th>\n",
       "        <td style=\"background-color:rgb(202,202,250);color:black\"> -55.4 <strong>(-0.366)</strong> </td>\n",
       "        <td> 9.61e+03 </td>\n",
       "        <td style=\"background-color:rgb(250,241,241);color:black\"> 0.41 <strong>(0.063)</strong> </td>\n",
       "        <td style=\"background-color:rgb(250,185,185);color:black\"> 2.62 <strong>(0.430)</strong> </td>\n",
       "    </tr>\n",
       "    <tr>\n",
       "        <th> mu </th>\n",
       "        <td style=\"background-color:rgb(245,245,250);color:black\"> -0.00411 <strong>(-0.040)</strong> </td>\n",
       "        <td style=\"background-color:rgb(250,241,241);color:black\"> 0.41 <strong>(0.063)</strong> </td>\n",
       "        <td> 0.00439 </td>\n",
       "        <td style=\"background-color:rgb(250,223,223);color:black\"> 0.000743 <strong>(0.180)</strong> </td>\n",
       "    </tr>\n",
       "    <tr>\n",
       "        <th> sigma </th>\n",
       "        <td style=\"background-color:rgb(214,214,250);color:black\"> -0.0263 <strong>(-0.273)</strong> </td>\n",
       "        <td style=\"background-color:rgb(250,185,185);color:black\"> 2.62 <strong>(0.430)</strong> </td>\n",
       "        <td style=\"background-color:rgb(250,223,223);color:black\"> 0.000743 <strong>(0.180)</strong> </td>\n",
       "        <td> 0.00387 </td>\n",
       "    </tr>\n",
       "</table>"
      ],
      "text/plain": [
       "┌─────────────────────────────────────────────────────────────────────────┐\n",
       "│                                Migrad                                   │\n",
       "├──────────────────────────────────┬──────────────────────────────────────┤\n",
       "│ FCN = 124.9                      │              Nfcn = 113              │\n",
       "│ EDM = 1.31e-05 (Goal: 0.0002)    │                                      │\n",
       "├──────────────────────────────────┼──────────────────────────────────────┤\n",
       "│          Valid Minimum           │        No Parameters at limit        │\n",
       "├──────────────────────────────────┼──────────────────────────────────────┤\n",
       "│ Below EDM threshold (goal x 10)  │           Below call limit           │\n",
       "├───────────────┬──────────────────┼───────────┬─────────────┬────────────┤\n",
       "│  Covariance   │     Hesse ok     │ Accurate  │  Pos. def.  │ Not forced │\n",
       "└───────────────┴──────────────────┴───────────┴─────────────┴────────────┘\n",
       "┌───┬────────┬───────────┬───────────┬────────────┬────────────┬─────────┬─────────┬───────┐\n",
       "│   │ Name   │   Value   │ Hesse Err │ Minos Err- │ Minos Err+ │ Limit-  │ Limit+  │ Fixed │\n",
       "├───┼────────┼───────────┼───────────┼────────────┼────────────┼─────────┼─────────┼───────┤\n",
       "│ 0 │ a      │   183.2   │    1.5    │            │            │         │         │       │\n",
       "│ 1 │ Ngauss │  4.07e3   │  0.10e3   │            │            │         │         │       │\n",
       "│ 2 │ mu     │ 1.27614e3 │ 0.00007e3 │            │            │         │         │       │\n",
       "│ 3 │ sigma  │   2.52    │   0.06    │            │            │         │         │       │\n",
       "└───┴────────┴───────────┴───────────┴────────────┴────────────┴─────────┴─────────┴───────┘\n",
       "┌────────┬─────────────────────────────────────┐\n",
       "│        │        a   Ngauss       mu    sigma │\n",
       "├────────┼─────────────────────────────────────┤\n",
       "│      a │     2.39    -55.4 -0.00411  -0.0263 │\n",
       "│ Ngauss │    -55.4 9.61e+03     0.41     2.62 │\n",
       "│     mu │ -0.00411     0.41  0.00439 0.000743 │\n",
       "│  sigma │  -0.0263     2.62 0.000743  0.00387 │\n",
       "└────────┴─────────────────────────────────────┘"
      ]
     },
     "execution_count": 171,
     "metadata": {},
     "output_type": "execute_result"
    }
   ],
   "source": [
    "Minuit.print_level = 1    # Print result of fits (generally - can also be moved down to each fit instance)\n",
    "\n",
    "# Defining Chi2 calculation:\n",
    "def chi2_owncalc(a, Ngauss, mu, sigma) :\n",
    "    y_fit = fit_pdf(x,a, Ngauss, mu, sigma)\n",
    "    chi2 = np.sum(((y - y_fit) / sy)**2)\n",
    "    return chi2\n",
    "\n",
    "# Alternatively, use the Chi2 regression from External Functions:\n",
    "chi2fit = Chi2Regression(fit_pdf, x, y, sy)\n",
    "\n",
    "minuit_chi2 = Minuit(chi2_owncalc,Ngauss=Npeak, mu=1276, sigma=5,a=200) \n",
    "minuit_chi2.errordef = 1.0     # This is the definition for ChiSqaure fits\n",
    "minuit_chi2.migrad()           # This is where the minimisation is carried out! Put \";\" at the end to void output"
   ]
  },
  {
   "cell_type": "code",
   "execution_count": 172,
   "metadata": {},
   "outputs": [
    {
     "name": "stdout",
     "output_type": "stream",
     "text": [
      "Fit value: a = 183.19391 +/- 1.54464\n",
      "Fit value: Ngauss = 4072.05350 +/- 98.03635\n",
      "Fit value: mu = 1276.14005 +/- 0.06627\n",
      "Fit value: sigma = 2.52212 +/- 0.06222\n",
      "Chi2 value: 124.9   Ndof = 96    Prob(Chi2,Ndof) = 0.025\n"
     ]
    }
   ],
   "source": [
    "# First, check if the result was a valid minimum:\n",
    "if (not minuit_chi2.fmin.is_valid) :\n",
    "    print(\"  WARNING: The ChiSquare fit DID NOT converge!!! \")    \n",
    "    \n",
    "# Short hand way of accessing the fit parameters:\n",
    "fit_Ngauss, fit_mu, fit_sigma, fit_a = minuit_chi2.values[:]   # The fitted values of the parameters\n",
    "\n",
    "# Loop to get both parameter values and uncertainties:\n",
    "for name in minuit_chi2.parameters :\n",
    "    value, error = minuit_chi2.values[name], minuit_chi2.errors[name]\n",
    "    print(f\"Fit value: {name} = {value:.5f} +/- {error:.5f}\")\n",
    "\n",
    "# Get Chi2 value:\n",
    "chi2_value = minuit_chi2.fval            # The value minimised, i.e. Chi2 or -2*LogLikeliHood (LLH) value\n",
    "\n",
    "# Get number of degrees-of-freedom (Ndof):\n",
    "N_NotEmptyBin = np.sum(y > 0)\n",
    "Ndof_value = N_NotEmptyBin - minuit_chi2.nfit\n",
    "\n",
    "Prob_value = stats.chi2.sf(chi2_value, Ndof_value) # The chi2 probability given N_DOF degrees of freedom\n",
    "print(f\"Chi2 value: {chi2_value:.1f}   Ndof = {Ndof_value:.0f}    Prob(Chi2,Ndof) = {Prob_value:5.3f}\")"
   ]
  },
  {
   "cell_type": "code",
   "execution_count": 173,
   "metadata": {},
   "outputs": [
    {
     "data": {
      "image/png": "[encoded data removed]",
      "text/plain": [
       "<Figure size 1152x432 with 1 Axes>"
      ]
     },
     "metadata": {
      "needs_background": "light"
     },
     "output_type": "display_data"
    }
   ],
   "source": [
    "\n",
    "# Create just a single figure and axes, along with a histogram with uncertainties:\n",
    "fig, ax = plt.subplots(figsize=(16, 6))  # figsize is in inches\n",
    "ax.errorbar(x, y, yerr=sy, xerr=0.0, label='Data, with Poisson errors', fmt='.k',  ecolor='k', elinewidth=1, capsize=1, capthick=1)\n",
    "\n",
    "# Set the figure texts; xlabel, ylabel and title.\n",
    "ax.set(xlabel=\"wavelength\", # the label of the y axis\n",
    "       ylabel=\"Frequency\",  # the label of the y axis\n",
    "       title=\"Distribution of wavelength-peak1\", # the title of the plot\n",
    "       ylim=[0.0,None]) # Setting the miminum to zero\n",
    "\n",
    "# Adding fit function to plot:\n",
    "x_axis = np.linspace(xmin,xmax, 1000)\n",
    "ax.plot(x_axis, fit_pdf(x_axis, *minuit_chi2.values[:]), '-r', label='Chi2 fit model result') \n",
    "\n",
    "# Adding fit results to plot:\n",
    "d = {'Ngauss':   [minuit_chi2.values['Ngauss'], minuit_chi2.errors['Ngauss']],\n",
    "     'mu':       [minuit_chi2.values['mu'], minuit_chi2.errors['mu']],\n",
    "     'sigma':    [minuit_chi2.values['sigma'], minuit_chi2.errors['sigma']],\n",
    "     'a':    [minuit_chi2.values['a'], minuit_chi2.errors['a']],\n",
    "     'Chi2':     chi2_value,\n",
    "     'ndf':      Ndof_value,\n",
    "     'Prob':     Prob_value,\n",
    "    }\n",
    "\n",
    "\n",
    "#\"%e\" %\n",
    "text = nice_string_output(d, extra_spacing=2, decimals=3)\n",
    "add_text_to_ax(0.72, 0.95, text, ax, fontsize=14)\n",
    "ax.legend(loc='upper left', fontsize=14); # could also be # loc = 'upper right' e.g.\n",
    "fig.tight_layout()\n",
    "fig.savefig('fig3',dpi=600)"
   ]
  },
  {
   "cell_type": "code",
   "execution_count": 174,
   "metadata": {},
   "outputs": [],
   "source": [
    "def residuals_pdf(x):\n",
    "    return 183.19391 +4072.05350 * binwidth * (1.0 / np.sqrt(2*np.pi) / 2.52212 * np.exp( -0.5 * (x-1276.14005)**2 /  2.52212**2)) "
   ]
  },
  {
   "cell_type": "code",
   "execution_count": 185,
   "metadata": {},
   "outputs": [
    {
     "name": "stdout",
     "output_type": "stream",
     "text": [
      "100\n",
      "[  84  139  566  317  103  317   14  888   23  103   84  353   96   14\n",
      "    0   60    7  353  219  353  139    0  163    4  519    7   22  508\n",
      "  124  375  216   12  203   78  780  461  637  466  357  281 5277  544\n",
      "   57    0  742 1511  535  559   75 1161  512  349  213  534  106  194\n",
      "  502   27   34   56  106    5  149   10   46   46  295   26  739  201\n",
      "   23    1  282    7 1354  125  249  125  174   60   23   38   77   84\n",
      "  295   38  103  125  201   67   17  174  973   17   17 1696   51   10\n",
      "   60  125]\n",
      "17.506284585828027\n"
     ]
    }
   ],
   "source": [
    "residuals=np.zeros_like(y)\n",
    "\n",
    "for j in range(100):\n",
    "    residuals[j]=(y[j]-residuals_pdf(x[j]))**2\n",
    "print(residuals.size)\n",
    "print(residuals)\n",
    "result= np.sqrt(np.sum(residuals)/100)\n",
    "print(result)"
   ]
  }
 ],
 "metadata": {
  "executable": "/usr/bin/env python",
  "kernelspec": {
   "display_name": "Python 3 (ipykernel)",
   "language": "python",
   "name": "python3"
  },
  "language_info": {
   "codemirror_mode": {
    "name": "ipython",
    "version": 3
   },
   "file_extension": ".py",
   "mimetype": "text/x-python",
   "name": "python",
   "nbconvert_exporter": "python",
   "pygments_lexer": "ipython3",
   "version": "3.9.7"
  },
  "main_language": "python"
 },
 "nbformat": 4,
 "nbformat_minor": 2
}
