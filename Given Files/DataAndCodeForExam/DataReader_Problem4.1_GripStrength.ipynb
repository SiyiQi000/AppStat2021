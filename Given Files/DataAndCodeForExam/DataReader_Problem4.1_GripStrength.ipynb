{
 "cells": [
  {
   "cell_type": "markdown",
   "metadata": {},
   "source": [
    "### Script for reading data for Problem 4.1 (data_GripStrength.txt) in Applied Statistics 2021 exam:\n",
    "\n",
    "This script reads the file __\"data_GripStrength.txt\"__ for Problem 4.1 in the exam of Applied Statistics 2021/22. This data files contains 84 entries in three columns: \n",
    "\n",
    "* **dominant hand** (0 - left hand, 1 - right hand),\n",
    "* **grip strength** (N) of the dominant hand,\n",
    "* **grip strength** (N) of the non-dominant hand.\n",
    "\n",
    "The script was distributed along with the exam and the data file itself on the 20th of January 2022.\n",
    "\n",
    "####  Author: \n",
    "- Troels Petersen (Niels Bohr Institute, petersen@nbi.dk)\n",
    "\n",
    "####  Date:   \n",
    " - 19th of January 2022 (first version)"
   ]
  },
  {
   "cell_type": "code",
   "execution_count": 44,
   "metadata": {},
   "outputs": [],
   "source": [
    "import random\n",
    "import numpy as np                                     # Matlab like syntax for linear algebra and functions\n",
    "import matplotlib.pyplot as plt                        # Plots and figures like you know them from Matlab\n",
    "import seaborn as sns                                  # Make the plots nicer to look at\n",
    "from iminuit import Minuit                             # The actual fitting tool, better than scipy's\n",
    "import sys                                             # Modules to see files and folders in directories\n",
    "from scipy import stats\n",
    "from scipy.stats import binom, poisson, norm ,gamma           # Functions from SciPy Stats...\n",
    "# import scipy.optimize as optimization\n",
    "from scipy import optimize\n",
    "from numpy.linalg import inv\n",
    "from functools import partial\n",
    "from fitter import Fitter\n",
    "from astropy.modeling import models, fitting"
   ]
  },
  {
   "cell_type": "code",
   "execution_count": 45,
   "metadata": {},
   "outputs": [],
   "source": [
    "import pandas as pd"
   ]
  },
  {
   "cell_type": "code",
   "execution_count": 46,
   "metadata": {},
   "outputs": [],
   "source": [
    "sys.path.append('D:\\my github\\Siyi Applied Stats\\Documents for JN\\AppStat2021-main\\External_Functions\\\\')\n",
    "from ExternalFunctions import Chi2Regression, BinnedLH, UnbinnedLH\n",
    "from ExternalFunctions import nice_string_output, add_text_to_ax    # Useful functions to print fit results on figure\n",
    "\n",
    "plt.rcParams['font.size'] = 18     # Set some basic plotting parameters"
   ]
  },
  {
   "cell_type": "code",
   "execution_count": 47,
   "metadata": {},
   "outputs": [
    {
     "data": {
      "text/html": [
       "<div>\n",
       "<style scoped>\n",
       "    .dataframe tbody tr th:only-of-type {\n",
       "        vertical-align: middle;\n",
       "    }\n",
       "\n",
       "    .dataframe tbody tr th {\n",
       "        vertical-align: top;\n",
       "    }\n",
       "\n",
       "    .dataframe thead th {\n",
       "        text-align: right;\n",
       "    }\n",
       "</style>\n",
       "<table border=\"1\" class=\"dataframe\">\n",
       "  <thead>\n",
       "    <tr style=\"text-align: right;\">\n",
       "      <th></th>\n",
       "      <th>DominantHand</th>\n",
       "      <th>DominantGrip(N)</th>\n",
       "      <th>NonDominantGrip(N)</th>\n",
       "    </tr>\n",
       "  </thead>\n",
       "  <tbody>\n",
       "    <tr>\n",
       "      <th>0</th>\n",
       "      <td>1.0</td>\n",
       "      <td>293.24</td>\n",
       "      <td>241.50</td>\n",
       "    </tr>\n",
       "    <tr>\n",
       "      <th>1</th>\n",
       "      <td>1.0</td>\n",
       "      <td>547.39</td>\n",
       "      <td>552.01</td>\n",
       "    </tr>\n",
       "    <tr>\n",
       "      <th>2</th>\n",
       "      <td>0.0</td>\n",
       "      <td>578.85</td>\n",
       "      <td>495.98</td>\n",
       "    </tr>\n",
       "    <tr>\n",
       "      <th>3</th>\n",
       "      <td>1.0</td>\n",
       "      <td>342.30</td>\n",
       "      <td>342.18</td>\n",
       "    </tr>\n",
       "    <tr>\n",
       "      <th>4</th>\n",
       "      <td>1.0</td>\n",
       "      <td>337.79</td>\n",
       "      <td>347.14</td>\n",
       "    </tr>\n",
       "    <tr>\n",
       "      <th>...</th>\n",
       "      <td>...</td>\n",
       "      <td>...</td>\n",
       "      <td>...</td>\n",
       "    </tr>\n",
       "    <tr>\n",
       "      <th>79</th>\n",
       "      <td>1.0</td>\n",
       "      <td>335.67</td>\n",
       "      <td>305.39</td>\n",
       "    </tr>\n",
       "    <tr>\n",
       "      <th>80</th>\n",
       "      <td>1.0</td>\n",
       "      <td>362.91</td>\n",
       "      <td>336.60</td>\n",
       "    </tr>\n",
       "    <tr>\n",
       "      <th>81</th>\n",
       "      <td>1.0</td>\n",
       "      <td>659.39</td>\n",
       "      <td>623.32</td>\n",
       "    </tr>\n",
       "    <tr>\n",
       "      <th>82</th>\n",
       "      <td>1.0</td>\n",
       "      <td>292.84</td>\n",
       "      <td>254.46</td>\n",
       "    </tr>\n",
       "    <tr>\n",
       "      <th>83</th>\n",
       "      <td>1.0</td>\n",
       "      <td>550.36</td>\n",
       "      <td>517.24</td>\n",
       "    </tr>\n",
       "  </tbody>\n",
       "</table>\n",
       "<p>84 rows × 3 columns</p>\n",
       "</div>"
      ],
      "text/plain": [
       "    DominantHand   DominantGrip(N)   NonDominantGrip(N)\n",
       "0            1.0            293.24               241.50\n",
       "1            1.0            547.39               552.01\n",
       "2            0.0            578.85               495.98\n",
       "3            1.0            342.30               342.18\n",
       "4            1.0            337.79               347.14\n",
       "..           ...               ...                  ...\n",
       "79           1.0            335.67               305.39\n",
       "80           1.0            362.91               336.60\n",
       "81           1.0            659.39               623.32\n",
       "82           1.0            292.84               254.46\n",
       "83           1.0            550.36               517.24\n",
       "\n",
       "[84 rows x 3 columns]"
      ]
     },
     "execution_count": 47,
     "metadata": {},
     "output_type": "execute_result"
    }
   ],
   "source": [
    "dataframe = pd.read_csv('data_GripStrength.csv', header=0, index_col=None)\n",
    "domhand, dom_grip, ndom_grip = dataframe.values.T\n",
    "dataframe"
   ]
  },
  {
   "cell_type": "markdown",
   "metadata": {},
   "source": [
    "Print the first 10 entries to check the content of the file:"
   ]
  },
  {
   "cell_type": "code",
   "execution_count": 48,
   "metadata": {},
   "outputs": [
    {
     "name": "stdout",
     "output_type": "stream",
     "text": [
      "  dominant hand = 1.00    dominant grip = 293.24 N    non-dominant grip = 241.50 N\n",
      "  dominant hand = 1.00    dominant grip = 547.39 N    non-dominant grip = 552.01 N\n",
      "  dominant hand = 0.00    dominant grip = 578.85 N    non-dominant grip = 495.98 N\n",
      "  dominant hand = 1.00    dominant grip = 342.30 N    non-dominant grip = 342.18 N\n",
      "  dominant hand = 1.00    dominant grip = 337.79 N    non-dominant grip = 347.14 N\n",
      "  dominant hand = 0.00    dominant grip = 510.41 N    non-dominant grip = 493.16 N\n",
      "  dominant hand = 0.00    dominant grip = 188.86 N    non-dominant grip = 212.97 N\n",
      "  dominant hand = 0.00    dominant grip = 537.67 N    non-dominant grip = 497.41 N\n",
      "  dominant hand = 0.00    dominant grip = 235.56 N    non-dominant grip = 228.56 N\n",
      "  dominant hand = 1.00    dominant grip = 217.30 N    non-dominant grip = 218.23 N\n"
     ]
    }
   ],
   "source": [
    "for i in range(10):\n",
    "    print(f\"  dominant hand = {domhand[i]:4.2f}    dominant grip = {dom_grip[i]:6.2f} N    non-dominant grip = {ndom_grip[i]:6.2f} N\")"
   ]
  },
  {
   "cell_type": "code",
   "execution_count": null,
   "metadata": {},
   "outputs": [],
   "source": [
    "'''\n",
    "# problem 4.1.1\n",
    "x=int\n",
    "x=0\n",
    "for j in range(84):\n",
    "    if domhand[j] == 1.00:\n",
    "        x += 1\n",
    "print(x/84)\n",
    "a = np.sqrt(x/84*(1-x/84)/84)\n",
    "print(a)\n",
    "'''"
   ]
  },
  {
   "cell_type": "code",
   "execution_count": null,
   "metadata": {},
   "outputs": [],
   "source": [
    "'''\n",
    "# problem 4.1.2\n",
    "mean_d=np.mean(dom_grip)\n",
    "std_d=np.std(dom_grip)\n",
    "mean_n=np.mean(ndom_grip)\n",
    "std_n=np.std(ndom_grip)\n",
    "print(mean_d,std_d**2)\n",
    "print(mean_n,std_n**2)\n",
    "print(dom_grip.size)\n",
    "print(ndom_grip.size)\n",
    "'''"
   ]
  },
  {
   "cell_type": "code",
   "execution_count": null,
   "metadata": {},
   "outputs": [],
   "source": [
    "'''\n",
    "# problem 4.1.3 f-test\n",
    "s1_square = 20777.2  # variance1\n",
    "n1=84  # number of sample1\n",
    "s2_square = 18876.7  # variance2\n",
    "n2=84  # number of sample2\n",
    "if s1_square > s2_square:\n",
    "    f = s1_square/s2_square\n",
    "else: \n",
    "    f = s2_square/s1_square\n",
    "df1=n1-1\n",
    "df2=n2-1\n",
    "print(f)\n",
    "print(df1,df2)\n",
    "'''"
   ]
  },
  {
   "cell_type": "code",
   "execution_count": 51,
   "metadata": {},
   "outputs": [
    {
     "name": "stdout",
     "output_type": "stream",
     "text": [
      "-1.2175279532498275\n",
      "166\n",
      "19821.784999999996\n"
     ]
    }
   ],
   "source": [
    "\n",
    "# problem 4.1.3 two-sample test with same variance,dof: n-2\n",
    "mean1=418.48\n",
    "s1= 137.4   # uncertainty1\n",
    "n1=84\n",
    "mean2=444.93\n",
    "s2=144.1   # uncertainty2\n",
    "n2=84\n",
    "sp= np.sqrt(((n1-1)*s1**2+(n2-1)*s2**2)/(n1+n2-2))  # pooled estimate variance\n",
    "t= (mean1-mean2)/np.sqrt(sp**2/n1 + sp**2/n2)\n",
    "dof= n1+n2-2\n",
    "print(t)\n",
    "print(dof)\n",
    "print(sp**2)\n"
   ]
  },
  {
   "cell_type": "code",
   "execution_count": null,
   "metadata": {},
   "outputs": [],
   "source": [
    "'''\n",
    "# problem 4.1.4\n",
    "d1=np.zeros_like(domhand)\n",
    "for j in range(84):\n",
    "    d1[j]=dom_grip[j]-ndom_grip[j]\n",
    "print(np.mean(d1))\n",
    "print(np.std(d1))\n",
    "'''"
   ]
  },
  {
   "cell_type": "code",
   "execution_count": null,
   "metadata": {},
   "outputs": [],
   "source": [
    "# problem 4.1.5\n",
    "righthand=np.ones_like(domhand)\n",
    "lefthand=np.ones_like(domhand)\n",
    "for j in range(84):\n",
    "    if domhand[j] == 1.00:\n",
    "        righthand[j] = dom_grip[j]\n",
    "        lefthand[j] = ndom_grip[j]\n",
    "    else:\n",
    "        righthand[j] = ndom_grip[j]\n",
    "        lefthand[j] = dom_grip[j]\n",
    "\n",
    "print(np.mean(righthand))\n",
    "print(np.std(righthand)**2)\n",
    "print(np.mean(lefthand))\n",
    "print(np.std(lefthand)**2)"
   ]
  },
  {
   "cell_type": "code",
   "execution_count": 52,
   "metadata": {},
   "outputs": [
    {
     "name": "stdout",
     "output_type": "stream",
     "text": [
      "1.023678929222952\n",
      "83 83\n"
     ]
    }
   ],
   "source": [
    "# problem 4.1.5 f-test\n",
    "s1_square = 20178.8  # variance1\n",
    "n1=84  # number of sample1\n",
    "s2_square = 19712.04  # variance2\n",
    "n2=84  # number of sample2\n",
    "if s1_square > s2_square:\n",
    "    f = s1_square/s2_square\n",
    "else: \n",
    "    f = s2_square/s1_square\n",
    "df1=n1-1\n",
    "df2=n2-1\n",
    "print(f)\n",
    "print(df1,df2)"
   ]
  },
  {
   "cell_type": "code",
   "execution_count": 53,
   "metadata": {},
   "outputs": [
    {
     "name": "stdout",
     "output_type": "stream",
     "text": [
      "0.6892481105350278\n",
      "166\n",
      "19945.18125\n"
     ]
    }
   ],
   "source": [
    "\n",
    "# problem 4.1.5 two-sample test with same variance,dof: n-2\n",
    "mean1=439.22\n",
    "s1= 142.05   # uncertainty1\n",
    "n1=84\n",
    "mean2=424.2\n",
    "s2=140.4   # uncertainty2\n",
    "n2=84\n",
    "sp= np.sqrt(((n1-1)*s1**2+(n2-1)*s2**2)/(n1+n2-2))  # pooled estimate variance\n",
    "t= (mean1-mean2)/np.sqrt(sp**2/n1 + sp**2/n2)\n",
    "dof= n1+n2-2\n",
    "print(t)\n",
    "print(dof)\n",
    "print(sp**2)\n"
   ]
  }
 ],
 "metadata": {
  "executable": "/usr/bin/env python",
  "kernelspec": {
   "display_name": "Python 3 (ipykernel)",
   "language": "python",
   "name": "python3"
  },
  "language_info": {
   "codemirror_mode": {
    "name": "ipython",
    "version": 3
   },
   "file_extension": ".py",
   "mimetype": "text/x-python",
   "name": "python",
   "nbconvert_exporter": "python",
   "pygments_lexer": "ipython3",
   "version": "3.9.7"
  },
  "main_language": "python"
 },
 "nbformat": 4,
 "nbformat_minor": 2
}
